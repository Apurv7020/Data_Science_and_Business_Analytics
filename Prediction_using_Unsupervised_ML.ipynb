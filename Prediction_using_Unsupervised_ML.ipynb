{
  "nbformat": 4,
  "nbformat_minor": 0,
  "metadata": {
    "colab": {
      "name": "Prediction using Unsupervised ML",
      "provenance": []
    },
    "kernelspec": {
      "name": "python3",
      "display_name": "Python 3"
    }
  },
  "cells": [
    {
      "cell_type": "markdown",
      "metadata": {
        "id": "2eJT_FN69sJk"
      },
      "source": [
        "# **Author : Apurv Kalane**"
      ]
    },
    {
      "cell_type": "markdown",
      "metadata": {
        "id": "bJ6CigQR97Xm"
      },
      "source": [
        "# Task 2 : Prediction using Unsupervised ML"
      ]
    },
    {
      "cell_type": "markdown",
      "metadata": {
        "id": "8BLp_kZi-DIV"
      },
      "source": [
        "**Importing the Required Library**"
      ]
    },
    {
      "cell_type": "code",
      "metadata": {
        "id": "y22PUBud-LhB"
      },
      "source": [
        "import numpy as np\r\n",
        "import pandas as pd\r\n",
        "import matplotlib.pyplot as plt\r\n",
        "import seaborn as sns\r\n",
        "\r\n",
        "import datetime as dt\r\n",
        "\r\n",
        "from sklearn.preprocessing import StandardScaler\r\n",
        "from sklearn.cluster import KMeans\r\n",
        "from sklearn.metrics import silhouette_score\r\n",
        "\r\n",
        "import warnings\r\n",
        "warnings.filterwarnings('ignore')"
      ],
      "execution_count": 1,
      "outputs": []
    },
    {
      "cell_type": "markdown",
      "metadata": {
        "id": "pJgyEubQ-1eE"
      },
      "source": [
        "**Data Preparation**"
      ]
    },
    {
      "cell_type": "code",
      "metadata": {
        "colab": {
          "resources": {
            "http://localhost:8080/nbextensions/google.colab/files.js": {
              "data": "Ly8gQ29weXJpZ2h0IDIwMTcgR29vZ2xlIExMQwovLwovLyBMaWNlbnNlZCB1bmRlciB0aGUgQXBhY2hlIExpY2Vuc2UsIFZlcnNpb24gMi4wICh0aGUgIkxpY2Vuc2UiKTsKLy8geW91IG1heSBub3QgdXNlIHRoaXMgZmlsZSBleGNlcHQgaW4gY29tcGxpYW5jZSB3aXRoIHRoZSBMaWNlbnNlLgovLyBZb3UgbWF5IG9idGFpbiBhIGNvcHkgb2YgdGhlIExpY2Vuc2UgYXQKLy8KLy8gICAgICBodHRwOi8vd3d3LmFwYWNoZS5vcmcvbGljZW5zZXMvTElDRU5TRS0yLjAKLy8KLy8gVW5sZXNzIHJlcXVpcmVkIGJ5IGFwcGxpY2FibGUgbGF3IG9yIGFncmVlZCB0byBpbiB3cml0aW5nLCBzb2Z0d2FyZQovLyBkaXN0cmlidXRlZCB1bmRlciB0aGUgTGljZW5zZSBpcyBkaXN0cmlidXRlZCBvbiBhbiAiQVMgSVMiIEJBU0lTLAovLyBXSVRIT1VUIFdBUlJBTlRJRVMgT1IgQ09ORElUSU9OUyBPRiBBTlkgS0lORCwgZWl0aGVyIGV4cHJlc3Mgb3IgaW1wbGllZC4KLy8gU2VlIHRoZSBMaWNlbnNlIGZvciB0aGUgc3BlY2lmaWMgbGFuZ3VhZ2UgZ292ZXJuaW5nIHBlcm1pc3Npb25zIGFuZAovLyBsaW1pdGF0aW9ucyB1bmRlciB0aGUgTGljZW5zZS4KCi8qKgogKiBAZmlsZW92ZXJ2aWV3IEhlbHBlcnMgZm9yIGdvb2dsZS5jb2xhYiBQeXRob24gbW9kdWxlLgogKi8KKGZ1bmN0aW9uKHNjb3BlKSB7CmZ1bmN0aW9uIHNwYW4odGV4dCwgc3R5bGVBdHRyaWJ1dGVzID0ge30pIHsKICBjb25zdCBlbGVtZW50ID0gZG9jdW1lbnQuY3JlYXRlRWxlbWVudCgnc3BhbicpOwogIGVsZW1lbnQudGV4dENvbnRlbnQgPSB0ZXh0OwogIGZvciAoY29uc3Qga2V5IG9mIE9iamVjdC5rZXlzKHN0eWxlQXR0cmlidXRlcykpIHsKICAgIGVsZW1lbnQuc3R5bGVba2V5XSA9IHN0eWxlQXR0cmlidXRlc1trZXldOwogIH0KICByZXR1cm4gZWxlbWVudDsKfQoKLy8gTWF4IG51bWJlciBvZiBieXRlcyB3aGljaCB3aWxsIGJlIHVwbG9hZGVkIGF0IGEgdGltZS4KY29uc3QgTUFYX1BBWUxPQURfU0laRSA9IDEwMCAqIDEwMjQ7CgpmdW5jdGlvbiBfdXBsb2FkRmlsZXMoaW5wdXRJZCwgb3V0cHV0SWQpIHsKICBjb25zdCBzdGVwcyA9IHVwbG9hZEZpbGVzU3RlcChpbnB1dElkLCBvdXRwdXRJZCk7CiAgY29uc3Qgb3V0cHV0RWxlbWVudCA9IGRvY3VtZW50LmdldEVsZW1lbnRCeUlkKG91dHB1dElkKTsKICAvLyBDYWNoZSBzdGVwcyBvbiB0aGUgb3V0cHV0RWxlbWVudCB0byBtYWtlIGl0IGF2YWlsYWJsZSBmb3IgdGhlIG5leHQgY2FsbAogIC8vIHRvIHVwbG9hZEZpbGVzQ29udGludWUgZnJvbSBQeXRob24uCiAgb3V0cHV0RWxlbWVudC5zdGVwcyA9IHN0ZXBzOwoKICByZXR1cm4gX3VwbG9hZEZpbGVzQ29udGludWUob3V0cHV0SWQpOwp9CgovLyBUaGlzIGlzIHJvdWdobHkgYW4gYXN5bmMgZ2VuZXJhdG9yIChub3Qgc3VwcG9ydGVkIGluIHRoZSBicm93c2VyIHlldCksCi8vIHdoZXJlIHRoZXJlIGFyZSBtdWx0aXBsZSBhc3luY2hyb25vdXMgc3RlcHMgYW5kIHRoZSBQeXRob24gc2lkZSBpcyBnb2luZwovLyB0byBwb2xsIGZvciBjb21wbGV0aW9uIG9mIGVhY2ggc3RlcC4KLy8gVGhpcyB1c2VzIGEgUHJvbWlzZSB0byBibG9jayB0aGUgcHl0aG9uIHNpZGUgb24gY29tcGxldGlvbiBvZiBlYWNoIHN0ZXAsCi8vIHRoZW4gcGFzc2VzIHRoZSByZXN1bHQgb2YgdGhlIHByZXZpb3VzIHN0ZXAgYXMgdGhlIGlucHV0IHRvIHRoZSBuZXh0IHN0ZXAuCmZ1bmN0aW9uIF91cGxvYWRGaWxlc0NvbnRpbnVlKG91dHB1dElkKSB7CiAgY29uc3Qgb3V0cHV0RWxlbWVudCA9IGRvY3VtZW50LmdldEVsZW1lbnRCeUlkKG91dHB1dElkKTsKICBjb25zdCBzdGVwcyA9IG91dHB1dEVsZW1lbnQuc3RlcHM7CgogIGNvbnN0IG5leHQgPSBzdGVwcy5uZXh0KG91dHB1dEVsZW1lbnQubGFzdFByb21pc2VWYWx1ZSk7CiAgcmV0dXJuIFByb21pc2UucmVzb2x2ZShuZXh0LnZhbHVlLnByb21pc2UpLnRoZW4oKHZhbHVlKSA9PiB7CiAgICAvLyBDYWNoZSB0aGUgbGFzdCBwcm9taXNlIHZhbHVlIHRvIG1ha2UgaXQgYXZhaWxhYmxlIHRvIHRoZSBuZXh0CiAgICAvLyBzdGVwIG9mIHRoZSBnZW5lcmF0b3IuCiAgICBvdXRwdXRFbGVtZW50Lmxhc3RQcm9taXNlVmFsdWUgPSB2YWx1ZTsKICAgIHJldHVybiBuZXh0LnZhbHVlLnJlc3BvbnNlOwogIH0pOwp9CgovKioKICogR2VuZXJhdG9yIGZ1bmN0aW9uIHdoaWNoIGlzIGNhbGxlZCBiZXR3ZWVuIGVhY2ggYXN5bmMgc3RlcCBvZiB0aGUgdXBsb2FkCiAqIHByb2Nlc3MuCiAqIEBwYXJhbSB7c3RyaW5nfSBpbnB1dElkIEVsZW1lbnQgSUQgb2YgdGhlIGlucHV0IGZpbGUgcGlja2VyIGVsZW1lbnQuCiAqIEBwYXJhbSB7c3RyaW5nfSBvdXRwdXRJZCBFbGVtZW50IElEIG9mIHRoZSBvdXRwdXQgZGlzcGxheS4KICogQHJldHVybiB7IUl0ZXJhYmxlPCFPYmplY3Q+fSBJdGVyYWJsZSBvZiBuZXh0IHN0ZXBzLgogKi8KZnVuY3Rpb24qIHVwbG9hZEZpbGVzU3RlcChpbnB1dElkLCBvdXRwdXRJZCkgewogIGNvbnN0IGlucHV0RWxlbWVudCA9IGRvY3VtZW50LmdldEVsZW1lbnRCeUlkKGlucHV0SWQpOwogIGlucHV0RWxlbWVudC5kaXNhYmxlZCA9IGZhbHNlOwoKICBjb25zdCBvdXRwdXRFbGVtZW50ID0gZG9jdW1lbnQuZ2V0RWxlbWVudEJ5SWQob3V0cHV0SWQpOwogIG91dHB1dEVsZW1lbnQuaW5uZXJIVE1MID0gJyc7CgogIGNvbnN0IHBpY2tlZFByb21pc2UgPSBuZXcgUHJvbWlzZSgocmVzb2x2ZSkgPT4gewogICAgaW5wdXRFbGVtZW50LmFkZEV2ZW50TGlzdGVuZXIoJ2NoYW5nZScsIChlKSA9PiB7CiAgICAgIHJlc29sdmUoZS50YXJnZXQuZmlsZXMpOwogICAgfSk7CiAgfSk7CgogIGNvbnN0IGNhbmNlbCA9IGRvY3VtZW50LmNyZWF0ZUVsZW1lbnQoJ2J1dHRvbicpOwogIGlucHV0RWxlbWVudC5wYXJlbnRFbGVtZW50LmFwcGVuZENoaWxkKGNhbmNlbCk7CiAgY2FuY2VsLnRleHRDb250ZW50ID0gJ0NhbmNlbCB1cGxvYWQnOwogIGNvbnN0IGNhbmNlbFByb21pc2UgPSBuZXcgUHJvbWlzZSgocmVzb2x2ZSkgPT4gewogICAgY2FuY2VsLm9uY2xpY2sgPSAoKSA9PiB7CiAgICAgIHJlc29sdmUobnVsbCk7CiAgICB9OwogIH0pOwoKICAvLyBXYWl0IGZvciB0aGUgdXNlciB0byBwaWNrIHRoZSBmaWxlcy4KICBjb25zdCBmaWxlcyA9IHlpZWxkIHsKICAgIHByb21pc2U6IFByb21pc2UucmFjZShbcGlja2VkUHJvbWlzZSwgY2FuY2VsUHJvbWlzZV0pLAogICAgcmVzcG9uc2U6IHsKICAgICAgYWN0aW9uOiAnc3RhcnRpbmcnLAogICAgfQogIH07CgogIGNhbmNlbC5yZW1vdmUoKTsKCiAgLy8gRGlzYWJsZSB0aGUgaW5wdXQgZWxlbWVudCBzaW5jZSBmdXJ0aGVyIHBpY2tzIGFyZSBub3QgYWxsb3dlZC4KICBpbnB1dEVsZW1lbnQuZGlzYWJsZWQgPSB0cnVlOwoKICBpZiAoIWZpbGVzKSB7CiAgICByZXR1cm4gewogICAgICByZXNwb25zZTogewogICAgICAgIGFjdGlvbjogJ2NvbXBsZXRlJywKICAgICAgfQogICAgfTsKICB9CgogIGZvciAoY29uc3QgZmlsZSBvZiBmaWxlcykgewogICAgY29uc3QgbGkgPSBkb2N1bWVudC5jcmVhdGVFbGVtZW50KCdsaScpOwogICAgbGkuYXBwZW5kKHNwYW4oZmlsZS5uYW1lLCB7Zm9udFdlaWdodDogJ2JvbGQnfSkpOwogICAgbGkuYXBwZW5kKHNwYW4oCiAgICAgICAgYCgke2ZpbGUudHlwZSB8fCAnbi9hJ30pIC0gJHtmaWxlLnNpemV9IGJ5dGVzLCBgICsKICAgICAgICBgbGFzdCBtb2RpZmllZDogJHsKICAgICAgICAgICAgZmlsZS5sYXN0TW9kaWZpZWREYXRlID8gZmlsZS5sYXN0TW9kaWZpZWREYXRlLnRvTG9jYWxlRGF0ZVN0cmluZygpIDoKICAgICAgICAgICAgICAgICAgICAgICAgICAgICAgICAgICAgJ24vYSd9IC0gYCkpOwogICAgY29uc3QgcGVyY2VudCA9IHNwYW4oJzAlIGRvbmUnKTsKICAgIGxpLmFwcGVuZENoaWxkKHBlcmNlbnQpOwoKICAgIG91dHB1dEVsZW1lbnQuYXBwZW5kQ2hpbGQobGkpOwoKICAgIGNvbnN0IGZpbGVEYXRhUHJvbWlzZSA9IG5ldyBQcm9taXNlKChyZXNvbHZlKSA9PiB7CiAgICAgIGNvbnN0IHJlYWRlciA9IG5ldyBGaWxlUmVhZGVyKCk7CiAgICAgIHJlYWRlci5vbmxvYWQgPSAoZSkgPT4gewogICAgICAgIHJlc29sdmUoZS50YXJnZXQucmVzdWx0KTsKICAgICAgfTsKICAgICAgcmVhZGVyLnJlYWRBc0FycmF5QnVmZmVyKGZpbGUpOwogICAgfSk7CiAgICAvLyBXYWl0IGZvciB0aGUgZGF0YSB0byBiZSByZWFkeS4KICAgIGxldCBmaWxlRGF0YSA9IHlpZWxkIHsKICAgICAgcHJvbWlzZTogZmlsZURhdGFQcm9taXNlLAogICAgICByZXNwb25zZTogewogICAgICAgIGFjdGlvbjogJ2NvbnRpbnVlJywKICAgICAgfQogICAgfTsKCiAgICAvLyBVc2UgYSBjaHVua2VkIHNlbmRpbmcgdG8gYXZvaWQgbWVzc2FnZSBzaXplIGxpbWl0cy4gU2VlIGIvNjIxMTU2NjAuCiAgICBsZXQgcG9zaXRpb24gPSAwOwogICAgd2hpbGUgKHBvc2l0aW9uIDwgZmlsZURhdGEuYnl0ZUxlbmd0aCkgewogICAgICBjb25zdCBsZW5ndGggPSBNYXRoLm1pbihmaWxlRGF0YS5ieXRlTGVuZ3RoIC0gcG9zaXRpb24sIE1BWF9QQVlMT0FEX1NJWkUpOwogICAgICBjb25zdCBjaHVuayA9IG5ldyBVaW50OEFycmF5KGZpbGVEYXRhLCBwb3NpdGlvbiwgbGVuZ3RoKTsKICAgICAgcG9zaXRpb24gKz0gbGVuZ3RoOwoKICAgICAgY29uc3QgYmFzZTY0ID0gYnRvYShTdHJpbmcuZnJvbUNoYXJDb2RlLmFwcGx5KG51bGwsIGNodW5rKSk7CiAgICAgIHlpZWxkIHsKICAgICAgICByZXNwb25zZTogewogICAgICAgICAgYWN0aW9uOiAnYXBwZW5kJywKICAgICAgICAgIGZpbGU6IGZpbGUubmFtZSwKICAgICAgICAgIGRhdGE6IGJhc2U2NCwKICAgICAgICB9LAogICAgICB9OwogICAgICBwZXJjZW50LnRleHRDb250ZW50ID0KICAgICAgICAgIGAke01hdGgucm91bmQoKHBvc2l0aW9uIC8gZmlsZURhdGEuYnl0ZUxlbmd0aCkgKiAxMDApfSUgZG9uZWA7CiAgICB9CiAgfQoKICAvLyBBbGwgZG9uZS4KICB5aWVsZCB7CiAgICByZXNwb25zZTogewogICAgICBhY3Rpb246ICdjb21wbGV0ZScsCiAgICB9CiAgfTsKfQoKc2NvcGUuZ29vZ2xlID0gc2NvcGUuZ29vZ2xlIHx8IHt9OwpzY29wZS5nb29nbGUuY29sYWIgPSBzY29wZS5nb29nbGUuY29sYWIgfHwge307CnNjb3BlLmdvb2dsZS5jb2xhYi5fZmlsZXMgPSB7CiAgX3VwbG9hZEZpbGVzLAogIF91cGxvYWRGaWxlc0NvbnRpbnVlLAp9Owp9KShzZWxmKTsK",
              "ok": true,
              "headers": [
                [
                  "content-type",
                  "application/javascript"
                ]
              ],
              "status": 200,
              "status_text": ""
            }
          },
          "base_uri": "https://localhost:8080/",
          "height": 72
        },
        "id": "FehyjaI6-3ks",
        "outputId": "8227a0cd-85cb-4743-c183-c594fae16278"
      },
      "source": [
        "from google.colab import files\r\n",
        "uploaded = files.upload()"
      ],
      "execution_count": 2,
      "outputs": [
        {
          "output_type": "display_data",
          "data": {
            "text/html": [
              "\n",
              "     <input type=\"file\" id=\"files-1457a83d-e23c-4188-b285-24f78f0c5cf4\" name=\"files[]\" multiple disabled\n",
              "        style=\"border:none\" />\n",
              "     <output id=\"result-1457a83d-e23c-4188-b285-24f78f0c5cf4\">\n",
              "      Upload widget is only available when the cell has been executed in the\n",
              "      current browser session. Please rerun this cell to enable.\n",
              "      </output>\n",
              "      <script src=\"/nbextensions/google.colab/files.js\"></script> "
            ],
            "text/plain": [
              "<IPython.core.display.HTML object>"
            ]
          },
          "metadata": {
            "tags": []
          }
        },
        {
          "output_type": "stream",
          "text": [
            "Saving Iris.csv to Iris.csv\n"
          ],
          "name": "stdout"
        }
      ]
    },
    {
      "cell_type": "code",
      "metadata": {
        "colab": {
          "base_uri": "https://localhost:8080/",
          "height": 204
        },
        "id": "ydwS1fQ4_gR1",
        "outputId": "c91afe99-0ecc-49c7-baf4-ceeda84a8873"
      },
      "source": [
        "# Read the Dataset\r\n",
        "iris_data = pd.read_csv(\"Iris.csv\")\r\n",
        "iris_data.head()"
      ],
      "execution_count": 4,
      "outputs": [
        {
          "output_type": "execute_result",
          "data": {
            "text/html": [
              "<div>\n",
              "<style scoped>\n",
              "    .dataframe tbody tr th:only-of-type {\n",
              "        vertical-align: middle;\n",
              "    }\n",
              "\n",
              "    .dataframe tbody tr th {\n",
              "        vertical-align: top;\n",
              "    }\n",
              "\n",
              "    .dataframe thead th {\n",
              "        text-align: right;\n",
              "    }\n",
              "</style>\n",
              "<table border=\"1\" class=\"dataframe\">\n",
              "  <thead>\n",
              "    <tr style=\"text-align: right;\">\n",
              "      <th></th>\n",
              "      <th>Id</th>\n",
              "      <th>SepalLengthCm</th>\n",
              "      <th>SepalWidthCm</th>\n",
              "      <th>PetalLengthCm</th>\n",
              "      <th>PetalWidthCm</th>\n",
              "      <th>Species</th>\n",
              "    </tr>\n",
              "  </thead>\n",
              "  <tbody>\n",
              "    <tr>\n",
              "      <th>0</th>\n",
              "      <td>1</td>\n",
              "      <td>5.1</td>\n",
              "      <td>3.5</td>\n",
              "      <td>1.4</td>\n",
              "      <td>0.2</td>\n",
              "      <td>Iris-setosa</td>\n",
              "    </tr>\n",
              "    <tr>\n",
              "      <th>1</th>\n",
              "      <td>2</td>\n",
              "      <td>4.9</td>\n",
              "      <td>3.0</td>\n",
              "      <td>1.4</td>\n",
              "      <td>0.2</td>\n",
              "      <td>Iris-setosa</td>\n",
              "    </tr>\n",
              "    <tr>\n",
              "      <th>2</th>\n",
              "      <td>3</td>\n",
              "      <td>4.7</td>\n",
              "      <td>3.2</td>\n",
              "      <td>1.3</td>\n",
              "      <td>0.2</td>\n",
              "      <td>Iris-setosa</td>\n",
              "    </tr>\n",
              "    <tr>\n",
              "      <th>3</th>\n",
              "      <td>4</td>\n",
              "      <td>4.6</td>\n",
              "      <td>3.1</td>\n",
              "      <td>1.5</td>\n",
              "      <td>0.2</td>\n",
              "      <td>Iris-setosa</td>\n",
              "    </tr>\n",
              "    <tr>\n",
              "      <th>4</th>\n",
              "      <td>5</td>\n",
              "      <td>5.0</td>\n",
              "      <td>3.6</td>\n",
              "      <td>1.4</td>\n",
              "      <td>0.2</td>\n",
              "      <td>Iris-setosa</td>\n",
              "    </tr>\n",
              "  </tbody>\n",
              "</table>\n",
              "</div>"
            ],
            "text/plain": [
              "   Id  SepalLengthCm  SepalWidthCm  PetalLengthCm  PetalWidthCm      Species\n",
              "0   1            5.1           3.5            1.4           0.2  Iris-setosa\n",
              "1   2            4.9           3.0            1.4           0.2  Iris-setosa\n",
              "2   3            4.7           3.2            1.3           0.2  Iris-setosa\n",
              "3   4            4.6           3.1            1.5           0.2  Iris-setosa\n",
              "4   5            5.0           3.6            1.4           0.2  Iris-setosa"
            ]
          },
          "metadata": {
            "tags": []
          },
          "execution_count": 4
        }
      ]
    },
    {
      "cell_type": "markdown",
      "metadata": {
        "id": "wYRHkiol_4rN"
      },
      "source": [
        "**Data Inspection**"
      ]
    },
    {
      "cell_type": "code",
      "metadata": {
        "colab": {
          "base_uri": "https://localhost:8080/"
        },
        "id": "QucxUoP8_8KA",
        "outputId": "c1c7c2c0-4761-423a-8e32-30fa69d762ac"
      },
      "source": [
        "# Basics of the Iris Data\r\n",
        "iris_data.info()"
      ],
      "execution_count": 5,
      "outputs": [
        {
          "output_type": "stream",
          "text": [
            "<class 'pandas.core.frame.DataFrame'>\n",
            "RangeIndex: 150 entries, 0 to 149\n",
            "Data columns (total 6 columns):\n",
            " #   Column         Non-Null Count  Dtype  \n",
            "---  ------         --------------  -----  \n",
            " 0   Id             150 non-null    int64  \n",
            " 1   SepalLengthCm  150 non-null    float64\n",
            " 2   SepalWidthCm   150 non-null    float64\n",
            " 3   PetalLengthCm  150 non-null    float64\n",
            " 4   PetalWidthCm   150 non-null    float64\n",
            " 5   Species        150 non-null    object \n",
            "dtypes: float64(4), int64(1), object(1)\n",
            "memory usage: 7.2+ KB\n"
          ],
          "name": "stdout"
        }
      ]
    },
    {
      "cell_type": "code",
      "metadata": {
        "colab": {
          "base_uri": "https://localhost:8080/"
        },
        "id": "QkZAFtW-AGat",
        "outputId": "b2da2444-5b23-4120-ddaf-6b8506ee0189"
      },
      "source": [
        "iris_data.shape"
      ],
      "execution_count": 6,
      "outputs": [
        {
          "output_type": "execute_result",
          "data": {
            "text/plain": [
              "(150, 6)"
            ]
          },
          "metadata": {
            "tags": []
          },
          "execution_count": 6
        }
      ]
    },
    {
      "cell_type": "code",
      "metadata": {
        "colab": {
          "base_uri": "https://localhost:8080/",
          "height": 297
        },
        "id": "dqyLstf8AJub",
        "outputId": "0a1dbf5c-a249-481b-9e35-7e1b544d890f"
      },
      "source": [
        "iris_data.describe()"
      ],
      "execution_count": 7,
      "outputs": [
        {
          "output_type": "execute_result",
          "data": {
            "text/html": [
              "<div>\n",
              "<style scoped>\n",
              "    .dataframe tbody tr th:only-of-type {\n",
              "        vertical-align: middle;\n",
              "    }\n",
              "\n",
              "    .dataframe tbody tr th {\n",
              "        vertical-align: top;\n",
              "    }\n",
              "\n",
              "    .dataframe thead th {\n",
              "        text-align: right;\n",
              "    }\n",
              "</style>\n",
              "<table border=\"1\" class=\"dataframe\">\n",
              "  <thead>\n",
              "    <tr style=\"text-align: right;\">\n",
              "      <th></th>\n",
              "      <th>Id</th>\n",
              "      <th>SepalLengthCm</th>\n",
              "      <th>SepalWidthCm</th>\n",
              "      <th>PetalLengthCm</th>\n",
              "      <th>PetalWidthCm</th>\n",
              "    </tr>\n",
              "  </thead>\n",
              "  <tbody>\n",
              "    <tr>\n",
              "      <th>count</th>\n",
              "      <td>150.000000</td>\n",
              "      <td>150.000000</td>\n",
              "      <td>150.000000</td>\n",
              "      <td>150.000000</td>\n",
              "      <td>150.000000</td>\n",
              "    </tr>\n",
              "    <tr>\n",
              "      <th>mean</th>\n",
              "      <td>75.500000</td>\n",
              "      <td>5.843333</td>\n",
              "      <td>3.054000</td>\n",
              "      <td>3.758667</td>\n",
              "      <td>1.198667</td>\n",
              "    </tr>\n",
              "    <tr>\n",
              "      <th>std</th>\n",
              "      <td>43.445368</td>\n",
              "      <td>0.828066</td>\n",
              "      <td>0.433594</td>\n",
              "      <td>1.764420</td>\n",
              "      <td>0.763161</td>\n",
              "    </tr>\n",
              "    <tr>\n",
              "      <th>min</th>\n",
              "      <td>1.000000</td>\n",
              "      <td>4.300000</td>\n",
              "      <td>2.000000</td>\n",
              "      <td>1.000000</td>\n",
              "      <td>0.100000</td>\n",
              "    </tr>\n",
              "    <tr>\n",
              "      <th>25%</th>\n",
              "      <td>38.250000</td>\n",
              "      <td>5.100000</td>\n",
              "      <td>2.800000</td>\n",
              "      <td>1.600000</td>\n",
              "      <td>0.300000</td>\n",
              "    </tr>\n",
              "    <tr>\n",
              "      <th>50%</th>\n",
              "      <td>75.500000</td>\n",
              "      <td>5.800000</td>\n",
              "      <td>3.000000</td>\n",
              "      <td>4.350000</td>\n",
              "      <td>1.300000</td>\n",
              "    </tr>\n",
              "    <tr>\n",
              "      <th>75%</th>\n",
              "      <td>112.750000</td>\n",
              "      <td>6.400000</td>\n",
              "      <td>3.300000</td>\n",
              "      <td>5.100000</td>\n",
              "      <td>1.800000</td>\n",
              "    </tr>\n",
              "    <tr>\n",
              "      <th>max</th>\n",
              "      <td>150.000000</td>\n",
              "      <td>7.900000</td>\n",
              "      <td>4.400000</td>\n",
              "      <td>6.900000</td>\n",
              "      <td>2.500000</td>\n",
              "    </tr>\n",
              "  </tbody>\n",
              "</table>\n",
              "</div>"
            ],
            "text/plain": [
              "               Id  SepalLengthCm  SepalWidthCm  PetalLengthCm  PetalWidthCm\n",
              "count  150.000000     150.000000    150.000000     150.000000    150.000000\n",
              "mean    75.500000       5.843333      3.054000       3.758667      1.198667\n",
              "std     43.445368       0.828066      0.433594       1.764420      0.763161\n",
              "min      1.000000       4.300000      2.000000       1.000000      0.100000\n",
              "25%     38.250000       5.100000      2.800000       1.600000      0.300000\n",
              "50%     75.500000       5.800000      3.000000       4.350000      1.300000\n",
              "75%    112.750000       6.400000      3.300000       5.100000      1.800000\n",
              "max    150.000000       7.900000      4.400000       6.900000      2.500000"
            ]
          },
          "metadata": {
            "tags": []
          },
          "execution_count": 7
        }
      ]
    },
    {
      "cell_type": "markdown",
      "metadata": {
        "id": "cu4MiETYARLP"
      },
      "source": [
        "**Data Cleaning**"
      ]
    },
    {
      "cell_type": "code",
      "metadata": {
        "colab": {
          "base_uri": "https://localhost:8080/"
        },
        "id": "bos6C_hVATEY",
        "outputId": "b50b90e0-e585-408f-caf5-5eff7498b7a5"
      },
      "source": [
        "iris_data.isnull().sum()"
      ],
      "execution_count": 8,
      "outputs": [
        {
          "output_type": "execute_result",
          "data": {
            "text/plain": [
              "Id               0\n",
              "SepalLengthCm    0\n",
              "SepalWidthCm     0\n",
              "PetalLengthCm    0\n",
              "PetalWidthCm     0\n",
              "Species          0\n",
              "dtype: int64"
            ]
          },
          "metadata": {
            "tags": []
          },
          "execution_count": 8
        }
      ]
    },
    {
      "cell_type": "markdown",
      "metadata": {
        "id": "eKfyMX1-DIrO"
      },
      "source": [
        "Note : No NULL values are observed"
      ]
    },
    {
      "cell_type": "code",
      "metadata": {
        "colab": {
          "base_uri": "https://localhost:8080/"
        },
        "id": "g7NBJ4nlAc7O",
        "outputId": "97289142-cc08-42e6-d12d-337ec38c52ef"
      },
      "source": [
        "# Checking if any Columns having Unique value i.e. only 1 value\r\n",
        "unique = iris_data.nunique()\r\n",
        "unique = unique[unique.values == 1]\r\n",
        "unique"
      ],
      "execution_count": 9,
      "outputs": [
        {
          "output_type": "execute_result",
          "data": {
            "text/plain": [
              "Series([], dtype: int64)"
            ]
          },
          "metadata": {
            "tags": []
          },
          "execution_count": 9
        }
      ]
    },
    {
      "cell_type": "markdown",
      "metadata": {
        "id": "V_tptp4JDX72"
      },
      "source": [
        "Note : No Unique value"
      ]
    },
    {
      "cell_type": "code",
      "metadata": {
        "colab": {
          "base_uri": "https://localhost:8080/"
        },
        "id": "ZoJ9ha0xAyY2",
        "outputId": "1c7c7aaa-3d3c-4122-b797-6f642d9184f5"
      },
      "source": [
        "iris_data.Species.value_counts()"
      ],
      "execution_count": 10,
      "outputs": [
        {
          "output_type": "execute_result",
          "data": {
            "text/plain": [
              "Iris-setosa        50\n",
              "Iris-versicolor    50\n",
              "Iris-virginica     50\n",
              "Name: Species, dtype: int64"
            ]
          },
          "metadata": {
            "tags": []
          },
          "execution_count": 10
        }
      ]
    },
    {
      "cell_type": "code",
      "metadata": {
        "id": "vfDlV9MAA5v9"
      },
      "source": [
        "# Dropping the Id Column as it is not required\r\n",
        "iris_data.drop('Id' , axis = 1 , inplace = True)"
      ],
      "execution_count": 11,
      "outputs": []
    },
    {
      "cell_type": "code",
      "metadata": {
        "colab": {
          "base_uri": "https://localhost:8080/",
          "height": 204
        },
        "id": "vjcAA3OWBNXT",
        "outputId": "630334ac-1326-4607-ee6a-3cf244db3170"
      },
      "source": [
        "iris_data.head()"
      ],
      "execution_count": 12,
      "outputs": [
        {
          "output_type": "execute_result",
          "data": {
            "text/html": [
              "<div>\n",
              "<style scoped>\n",
              "    .dataframe tbody tr th:only-of-type {\n",
              "        vertical-align: middle;\n",
              "    }\n",
              "\n",
              "    .dataframe tbody tr th {\n",
              "        vertical-align: top;\n",
              "    }\n",
              "\n",
              "    .dataframe thead th {\n",
              "        text-align: right;\n",
              "    }\n",
              "</style>\n",
              "<table border=\"1\" class=\"dataframe\">\n",
              "  <thead>\n",
              "    <tr style=\"text-align: right;\">\n",
              "      <th></th>\n",
              "      <th>SepalLengthCm</th>\n",
              "      <th>SepalWidthCm</th>\n",
              "      <th>PetalLengthCm</th>\n",
              "      <th>PetalWidthCm</th>\n",
              "      <th>Species</th>\n",
              "    </tr>\n",
              "  </thead>\n",
              "  <tbody>\n",
              "    <tr>\n",
              "      <th>0</th>\n",
              "      <td>5.1</td>\n",
              "      <td>3.5</td>\n",
              "      <td>1.4</td>\n",
              "      <td>0.2</td>\n",
              "      <td>Iris-setosa</td>\n",
              "    </tr>\n",
              "    <tr>\n",
              "      <th>1</th>\n",
              "      <td>4.9</td>\n",
              "      <td>3.0</td>\n",
              "      <td>1.4</td>\n",
              "      <td>0.2</td>\n",
              "      <td>Iris-setosa</td>\n",
              "    </tr>\n",
              "    <tr>\n",
              "      <th>2</th>\n",
              "      <td>4.7</td>\n",
              "      <td>3.2</td>\n",
              "      <td>1.3</td>\n",
              "      <td>0.2</td>\n",
              "      <td>Iris-setosa</td>\n",
              "    </tr>\n",
              "    <tr>\n",
              "      <th>3</th>\n",
              "      <td>4.6</td>\n",
              "      <td>3.1</td>\n",
              "      <td>1.5</td>\n",
              "      <td>0.2</td>\n",
              "      <td>Iris-setosa</td>\n",
              "    </tr>\n",
              "    <tr>\n",
              "      <th>4</th>\n",
              "      <td>5.0</td>\n",
              "      <td>3.6</td>\n",
              "      <td>1.4</td>\n",
              "      <td>0.2</td>\n",
              "      <td>Iris-setosa</td>\n",
              "    </tr>\n",
              "  </tbody>\n",
              "</table>\n",
              "</div>"
            ],
            "text/plain": [
              "   SepalLengthCm  SepalWidthCm  PetalLengthCm  PetalWidthCm      Species\n",
              "0            5.1           3.5            1.4           0.2  Iris-setosa\n",
              "1            4.9           3.0            1.4           0.2  Iris-setosa\n",
              "2            4.7           3.2            1.3           0.2  Iris-setosa\n",
              "3            4.6           3.1            1.5           0.2  Iris-setosa\n",
              "4            5.0           3.6            1.4           0.2  Iris-setosa"
            ]
          },
          "metadata": {
            "tags": []
          },
          "execution_count": 12
        }
      ]
    },
    {
      "cell_type": "markdown",
      "metadata": {
        "id": "VKzMFdspBRql"
      },
      "source": [
        "**EDA**"
      ]
    },
    {
      "cell_type": "code",
      "metadata": {
        "colab": {
          "base_uri": "https://localhost:8080/",
          "height": 745
        },
        "id": "R5YpD4LNBTou",
        "outputId": "1ab8a6c2-ba85-4572-8e2a-25d250b48706"
      },
      "source": [
        "plt.figure(figsize = (30,40))\r\n",
        "feature = iris_data.columns[:-1]\r\n",
        "for i in enumerate(feature):\r\n",
        "  plt.subplot(6,3, i[0]+1)\r\n",
        "  sns.distplot(iris_data[i[1]])"
      ],
      "execution_count": 14,
      "outputs": [
        {
          "output_type": "display_data",
          "data": {
            "image/png": "[encoded data removed]",
            "text/plain": [
              "<Figure size 2160x2880 with 4 Axes>"
            ]
          },
          "metadata": {
            "tags": [],
            "needs_background": "light"
          }
        }
      ]
    },
    {
      "cell_type": "markdown",
      "metadata": {
        "id": "rUmFcXO2Dk0_"
      },
      "source": [
        "1. SepalLengthCm, SepalWidthCm are Normal Distributed.\r\n",
        "2. PetalLengthCm, PetalWidthCm are not Normal Distributed."
      ]
    },
    {
      "cell_type": "code",
      "metadata": {
        "colab": {
          "base_uri": "https://localhost:8080/",
          "height": 745
        },
        "id": "ufGWdgIxCE47",
        "outputId": "ce934969-d25f-4f2f-d7ed-832bdbc87740"
      },
      "source": [
        "plt.figure(figsize = (30,40))\r\n",
        "feature = iris_data.columns[:-1]\r\n",
        "for i in enumerate(feature):\r\n",
        "  plt.subplot(6,3, i[0]+1)\r\n",
        "  sns.boxplot(iris_data[i[1]])"
      ],
      "execution_count": 15,
      "outputs": [
        {
          "output_type": "display_data",
          "data": {
            "image/png": "[encoded data removed]",
            "text/plain": [
              "<Figure size 2160x2880 with 4 Axes>"
            ]
          },
          "metadata": {
            "tags": [],
            "needs_background": "light"
          }
        }
      ]
    },
    {
      "cell_type": "markdown",
      "metadata": {
        "id": "BMvZoWKBCW93"
      },
      "source": [
        "From the above boxplot we can say that there are outliers in the column 'SepalWidthCm'"
      ]
    },
    {
      "cell_type": "code",
      "metadata": {
        "id": "dpGpNjW3CYc2"
      },
      "source": [
        "# To remove outliers from 'sepal width (cm)'\r\n",
        "q1 = iris_data['SepalWidthCm'].quantile(0.25)\r\n",
        "q3 = iris_data['SepalWidthCm'].quantile(0.75)"
      ],
      "execution_count": 17,
      "outputs": []
    },
    {
      "cell_type": "code",
      "metadata": {
        "colab": {
          "base_uri": "https://localhost:8080/"
        },
        "id": "viO38we7EZTe",
        "outputId": "5937c17f-6364-4d02-eb11-cf4102bb4766"
      },
      "source": [
        "# To find the number of rows and columns after outlier treatment\r\n",
        "iqr = q3 - q1\r\n",
        "iris_data = iris_data[(iris_data['SepalWidthCm'] >= q1-1.5*iqr) & (iris_data['SepalWidthCm'] <= q3+1.5*iqr)]\r\n",
        "iris_data.shape # To find out the number of rows and columns after outlier treatment"
      ],
      "execution_count": 18,
      "outputs": [
        {
          "output_type": "execute_result",
          "data": {
            "text/plain": [
              "(146, 5)"
            ]
          },
          "metadata": {
            "tags": []
          },
          "execution_count": 18
        }
      ]
    },
    {
      "cell_type": "markdown",
      "metadata": {
        "id": "mXYXGUU7FMRE"
      },
      "source": [
        "We can see that after outlier treatment the number of rows are reduced to 147 from 150"
      ]
    },
    {
      "cell_type": "code",
      "metadata": {
        "colab": {
          "base_uri": "https://localhost:8080/",
          "height": 279
        },
        "id": "RQsQGz6EFaXE",
        "outputId": "06fff0b3-512e-4240-bed3-8c3758589605"
      },
      "source": [
        "# Boxplot for sepal width (cm) after outlier treatment\r\n",
        "sns.boxplot(x = iris_data['SepalWidthCm'])\r\n",
        "plt.show()"
      ],
      "execution_count": 19,
      "outputs": [
        {
          "output_type": "display_data",
          "data": {
            "image/png": "[encoded data removed]",
            "text/plain": [
              "<Figure size 432x288 with 1 Axes>"
            ]
          },
          "metadata": {
            "tags": [],
            "needs_background": "light"
          }
        }
      ]
    },
    {
      "cell_type": "markdown",
      "metadata": {
        "id": "j4b3UqMIFtff"
      },
      "source": [
        "**Clustering**"
      ]
    },
    {
      "cell_type": "code",
      "metadata": {
        "colab": {
          "base_uri": "https://localhost:8080/"
        },
        "id": "oga2jl03FviL",
        "outputId": "0814f567-faa1-48c9-94a3-d8716ea4ac53"
      },
      "source": [
        "from sklearn.preprocessing import StandardScaler\r\n",
        "scaler = StandardScaler()\r\n",
        "iris = scaler.fit_transform(iris_data.drop('Species' , axis = 1))\r\n",
        "iris"
      ],
      "execution_count": 20,
      "outputs": [
        {
          "output_type": "execute_result",
          "data": {
            "text/plain": [
              "array([[-0.9105154 ,  1.1757891 , -1.3748782 , -1.34589856],\n",
              "       [-1.15112218, -0.09392398, -1.3748782 , -1.34589856],\n",
              "       [-1.39172896,  0.41396125, -1.43198551, -1.34589856],\n",
              "       [-1.51203236,  0.16001863, -1.31777088, -1.34589856],\n",
              "       [-1.03081879,  1.42973171, -1.3748782 , -1.34589856],\n",
              "       [-0.54960522,  2.19155956, -1.20355625, -1.08196143],\n",
              "       [-1.51203236,  0.92184648, -1.3748782 , -1.21392999],\n",
              "       [-1.03081879,  0.92184648, -1.31777088, -1.34589856],\n",
              "       [-1.75263914, -0.3478666 , -1.3748782 , -1.34589856],\n",
              "       [-1.15112218,  0.16001863, -1.31777088, -1.47786712],\n",
              "       [-0.54960522,  1.68367433, -1.31777088, -1.34589856],\n",
              "       [-1.27142557,  0.92184648, -1.26066356, -1.34589856],\n",
              "       [-1.27142557, -0.09392398, -1.3748782 , -1.47786712],\n",
              "       [-1.87294253, -0.09392398, -1.54620014, -1.47786712],\n",
              "       [-0.06839165,  2.44550218, -1.48909283, -1.34589856],\n",
              "       [-0.54960522,  2.19155956, -1.43198551, -1.08196143],\n",
              "       [-0.9105154 ,  1.1757891 , -1.3748782 , -1.21392999],\n",
              "       [-0.18869505,  1.93761695, -1.20355625, -1.21392999],\n",
              "       [-0.9105154 ,  1.93761695, -1.31777088, -1.21392999],\n",
              "       [-0.54960522,  0.92184648, -1.20355625, -1.34589856],\n",
              "       [-0.9105154 ,  1.68367433, -1.31777088, -1.08196143],\n",
              "       [-1.51203236,  1.42973171, -1.60330746, -1.34589856],\n",
              "       [-0.9105154 ,  0.66790387, -1.20355625, -0.94999287],\n",
              "       [-1.27142557,  0.92184648, -1.08934161, -1.34589856],\n",
              "       [-1.03081879, -0.09392398, -1.26066356, -1.34589856],\n",
              "       [-1.03081879,  0.92184648, -1.26066356, -1.08196143],\n",
              "       [-0.790212  ,  1.1757891 , -1.31777088, -1.34589856],\n",
              "       [-0.790212  ,  0.92184648, -1.3748782 , -1.34589856],\n",
              "       [-1.39172896,  0.41396125, -1.26066356, -1.34589856],\n",
              "       [-1.27142557,  0.16001863, -1.26066356, -1.34589856],\n",
              "       [-0.54960522,  0.92184648, -1.31777088, -1.08196143],\n",
              "       [-1.15112218,  0.16001863, -1.31777088, -1.47786712],\n",
              "       [-1.03081879,  0.41396125, -1.48909283, -1.34589856],\n",
              "       [-0.42930183,  1.1757891 , -1.43198551, -1.34589856],\n",
              "       [-1.15112218,  0.16001863, -1.31777088, -1.47786712],\n",
              "       [-1.75263914, -0.09392398, -1.43198551, -1.34589856],\n",
              "       [-0.9105154 ,  0.92184648, -1.31777088, -1.34589856],\n",
              "       [-1.03081879,  1.1757891 , -1.43198551, -1.21392999],\n",
              "       [-1.63233575, -1.87152229, -1.43198551, -1.21392999],\n",
              "       [-1.75263914,  0.41396125, -1.43198551, -1.34589856],\n",
              "       [-1.03081879,  1.1757891 , -1.26066356, -0.81802431],\n",
              "       [-0.9105154 ,  1.93761695, -1.08934161, -1.08196143],\n",
              "       [-1.27142557, -0.09392398, -1.3748782 , -1.21392999],\n",
              "       [-0.9105154 ,  1.93761695, -1.26066356, -1.34589856],\n",
              "       [-1.51203236,  0.41396125, -1.3748782 , -1.34589856],\n",
              "       [-0.66990861,  1.68367433, -1.31777088, -1.34589856],\n",
              "       [-1.03081879,  0.66790387, -1.3748782 , -1.34589856],\n",
              "       [ 1.37524905,  0.41396125,  0.50966324,  0.23772419],\n",
              "       [ 0.6534287 ,  0.41396125,  0.39544861,  0.36969275],\n",
              "       [ 1.25494566,  0.16001863,  0.62387787,  0.36969275],\n",
              "       [-0.42930183, -1.87152229,  0.10991203,  0.10575563],\n",
              "       [ 0.77373209, -0.60180921,  0.45255592,  0.36969275],\n",
              "       [-0.18869505, -0.60180921,  0.39544861,  0.10575563],\n",
              "       [ 0.5331253 ,  0.66790387,  0.50966324,  0.50166132],\n",
              "       [-1.15112218, -1.61757968, -0.28983919, -0.29015006],\n",
              "       [ 0.89403548, -0.3478666 ,  0.45255592,  0.10575563],\n",
              "       [-0.790212  , -0.85575183,  0.05280471,  0.23772419],\n",
              "       [ 0.05191174, -0.09392398,  0.22412666,  0.36969275],\n",
              "       [ 0.17221513, -2.12546491,  0.10991203, -0.29015006],\n",
              "       [ 0.29251852, -0.3478666 ,  0.50966324,  0.23772419],\n",
              "       [-0.30899844, -0.3478666 , -0.11851724,  0.10575563],\n",
              "       [ 1.01433887,  0.16001863,  0.33834129,  0.23772419],\n",
              "       [-0.30899844, -0.09392398,  0.39544861,  0.36969275],\n",
              "       [-0.06839165, -0.85575183,  0.16701934, -0.29015006],\n",
              "       [ 0.41282191, -2.12546491,  0.39544861,  0.36969275],\n",
              "       [-0.30899844, -1.36363706,  0.05280471, -0.1581815 ],\n",
              "       [ 0.05191174,  0.41396125,  0.56677056,  0.76559844],\n",
              "       [ 0.29251852, -0.60180921,  0.10991203,  0.10575563],\n",
              "       [ 0.5331253 , -1.36363706,  0.62387787,  0.36969275],\n",
              "       [ 0.29251852, -0.60180921,  0.50966324, -0.02621293],\n",
              "       [ 0.6534287 , -0.3478666 ,  0.28123398,  0.10575563],\n",
              "       [ 0.89403548, -0.09392398,  0.33834129,  0.23772419],\n",
              "       [ 1.13464226, -0.60180921,  0.56677056,  0.23772419],\n",
              "       [ 1.01433887, -0.09392398,  0.68098519,  0.63362988],\n",
              "       [ 0.17221513, -0.3478666 ,  0.39544861,  0.36969275],\n",
              "       [-0.18869505, -1.10969444, -0.17562455, -0.29015006],\n",
              "       [-0.42930183, -1.61757968, -0.00430261, -0.1581815 ],\n",
              "       [-0.42930183, -1.61757968, -0.06140992, -0.29015006],\n",
              "       [-0.06839165, -0.85575183,  0.05280471, -0.02621293],\n",
              "       [ 0.17221513, -0.85575183,  0.73809251,  0.50166132],\n",
              "       [-0.54960522, -0.09392398,  0.39544861,  0.36969275],\n",
              "       [ 0.17221513,  0.92184648,  0.39544861,  0.50166132],\n",
              "       [ 1.01433887,  0.16001863,  0.50966324,  0.36969275],\n",
              "       [ 0.5331253 , -1.87152229,  0.33834129,  0.10575563],\n",
              "       [-0.30899844, -0.09392398,  0.16701934,  0.10575563],\n",
              "       [-0.42930183, -1.36363706,  0.10991203,  0.10575563],\n",
              "       [-0.42930183, -1.10969444,  0.33834129, -0.02621293],\n",
              "       [ 0.29251852, -0.09392398,  0.45255592,  0.23772419],\n",
              "       [-0.06839165, -1.10969444,  0.10991203, -0.02621293],\n",
              "       [-1.03081879, -1.87152229, -0.28983919, -0.29015006],\n",
              "       [-0.30899844, -0.85575183,  0.22412666,  0.10575563],\n",
              "       [-0.18869505, -0.09392398,  0.22412666, -0.02621293],\n",
              "       [-0.18869505, -0.3478666 ,  0.22412666,  0.10575563],\n",
              "       [ 0.41282191, -0.3478666 ,  0.28123398,  0.10575563],\n",
              "       [-0.9105154 , -1.36363706, -0.46116114, -0.1581815 ],\n",
              "       [-0.18869505, -0.60180921,  0.16701934,  0.10575563],\n",
              "       [ 0.5331253 ,  0.66790387,  1.25205835,  1.68937838],\n",
              "       [-0.06839165, -0.85575183,  0.73809251,  0.897567  ],\n",
              "       [ 1.49555244, -0.09392398,  1.19495103,  1.16150413],\n",
              "       [ 0.5331253 , -0.3478666 ,  1.02362909,  0.76559844],\n",
              "       [ 0.77373209, -0.09392398,  1.13784372,  1.29347269],\n",
              "       [ 2.0970694 , -0.09392398,  1.59470225,  1.16150413],\n",
              "       [-1.15112218, -1.36363706,  0.39544861,  0.63362988],\n",
              "       [ 1.73615922, -0.3478666 ,  1.4233803 ,  0.76559844],\n",
              "       [ 1.01433887, -1.36363706,  1.13784372,  0.76559844],\n",
              "       [ 1.61585583,  1.42973171,  1.30916567,  1.68937838],\n",
              "       [ 0.77373209,  0.41396125,  0.73809251,  1.02953556],\n",
              "       [ 0.6534287 , -0.85575183,  0.85230714,  0.897567  ],\n",
              "       [ 1.13464226, -0.09392398,  0.96652177,  1.16150413],\n",
              "       [-0.18869505, -1.36363706,  0.68098519,  1.02953556],\n",
              "       [-0.06839165, -0.60180921,  0.73809251,  1.55740981],\n",
              "       [ 0.6534287 ,  0.41396125,  0.85230714,  1.42544125],\n",
              "       [ 0.77373209, -0.09392398,  0.96652177,  0.76559844],\n",
              "       [ 2.21737279,  1.93761695,  1.65180956,  1.29347269],\n",
              "       [ 2.21737279, -1.10969444,  1.7660242 ,  1.42544125],\n",
              "       [ 0.17221513, -2.12546491,  0.68098519,  0.36969275],\n",
              "       [ 1.25494566,  0.41396125,  1.0807364 ,  1.42544125],\n",
              "       [-0.30899844, -0.60180921,  0.62387787,  1.02953556],\n",
              "       [ 2.21737279, -0.60180921,  1.65180956,  1.02953556],\n",
              "       [ 0.5331253 , -0.85575183,  0.62387787,  0.76559844],\n",
              "       [ 1.01433887,  0.66790387,  1.0807364 ,  1.16150413],\n",
              "       [ 1.61585583,  0.41396125,  1.25205835,  0.76559844],\n",
              "       [ 0.41282191, -0.60180921,  0.56677056,  0.76559844],\n",
              "       [ 0.29251852, -0.09392398,  0.62387787,  0.76559844],\n",
              "       [ 0.6534287 , -0.60180921,  1.02362909,  1.16150413],\n",
              "       [ 1.61585583, -0.09392398,  1.13784372,  0.50166132],\n",
              "       [ 1.85646261, -0.60180921,  1.30916567,  0.897567  ],\n",
              "       [ 2.45797957,  1.93761695,  1.48048762,  1.02953556],\n",
              "       [ 0.6534287 , -0.60180921,  1.02362909,  1.29347269],\n",
              "       [ 0.5331253 , -0.60180921,  0.73809251,  0.36969275],\n",
              "       [ 0.29251852, -1.10969444,  1.02362909,  0.23772419],\n",
              "       [ 2.21737279, -0.09392398,  1.30916567,  1.42544125],\n",
              "       [ 0.5331253 ,  0.92184648,  1.02362909,  1.55740981],\n",
              "       [ 0.6534287 ,  0.16001863,  0.96652177,  0.76559844],\n",
              "       [ 0.17221513, -0.09392398,  0.56677056,  0.76559844],\n",
              "       [ 1.25494566,  0.16001863,  0.90941445,  1.16150413],\n",
              "       [ 1.01433887,  0.16001863,  1.02362909,  1.55740981],\n",
              "       [ 1.25494566,  0.16001863,  0.73809251,  1.42544125],\n",
              "       [-0.06839165, -0.85575183,  0.73809251,  0.897567  ],\n",
              "       [ 1.13464226,  0.41396125,  1.19495103,  1.42544125],\n",
              "       [ 1.01433887,  0.66790387,  1.0807364 ,  1.68937838],\n",
              "       [ 1.01433887, -0.09392398,  0.79519982,  1.42544125],\n",
              "       [ 0.5331253 , -1.36363706,  0.68098519,  0.897567  ],\n",
              "       [ 0.77373209, -0.09392398,  0.79519982,  1.02953556],\n",
              "       [ 0.41282191,  0.92184648,  0.90941445,  1.42544125],\n",
              "       [ 0.05191174, -0.09392398,  0.73809251,  0.76559844]])"
            ]
          },
          "metadata": {
            "tags": []
          },
          "execution_count": 20
        }
      ]
    },
    {
      "cell_type": "code",
      "metadata": {
        "colab": {
          "base_uri": "https://localhost:8080/",
          "height": 204
        },
        "id": "Sys1gBR2GB1_",
        "outputId": "8cd27f73-d61c-40f1-888a-8f253810ba38"
      },
      "source": [
        "iris = pd.DataFrame(iris , columns = iris_data.columns[:-1])\r\n",
        "iris.head()"
      ],
      "execution_count": 21,
      "outputs": [
        {
          "output_type": "execute_result",
          "data": {
            "text/html": [
              "<div>\n",
              "<style scoped>\n",
              "    .dataframe tbody tr th:only-of-type {\n",
              "        vertical-align: middle;\n",
              "    }\n",
              "\n",
              "    .dataframe tbody tr th {\n",
              "        vertical-align: top;\n",
              "    }\n",
              "\n",
              "    .dataframe thead th {\n",
              "        text-align: right;\n",
              "    }\n",
              "</style>\n",
              "<table border=\"1\" class=\"dataframe\">\n",
              "  <thead>\n",
              "    <tr style=\"text-align: right;\">\n",
              "      <th></th>\n",
              "      <th>SepalLengthCm</th>\n",
              "      <th>SepalWidthCm</th>\n",
              "      <th>PetalLengthCm</th>\n",
              "      <th>PetalWidthCm</th>\n",
              "    </tr>\n",
              "  </thead>\n",
              "  <tbody>\n",
              "    <tr>\n",
              "      <th>0</th>\n",
              "      <td>-0.910515</td>\n",
              "      <td>1.175789</td>\n",
              "      <td>-1.374878</td>\n",
              "      <td>-1.345899</td>\n",
              "    </tr>\n",
              "    <tr>\n",
              "      <th>1</th>\n",
              "      <td>-1.151122</td>\n",
              "      <td>-0.093924</td>\n",
              "      <td>-1.374878</td>\n",
              "      <td>-1.345899</td>\n",
              "    </tr>\n",
              "    <tr>\n",
              "      <th>2</th>\n",
              "      <td>-1.391729</td>\n",
              "      <td>0.413961</td>\n",
              "      <td>-1.431986</td>\n",
              "      <td>-1.345899</td>\n",
              "    </tr>\n",
              "    <tr>\n",
              "      <th>3</th>\n",
              "      <td>-1.512032</td>\n",
              "      <td>0.160019</td>\n",
              "      <td>-1.317771</td>\n",
              "      <td>-1.345899</td>\n",
              "    </tr>\n",
              "    <tr>\n",
              "      <th>4</th>\n",
              "      <td>-1.030819</td>\n",
              "      <td>1.429732</td>\n",
              "      <td>-1.374878</td>\n",
              "      <td>-1.345899</td>\n",
              "    </tr>\n",
              "  </tbody>\n",
              "</table>\n",
              "</div>"
            ],
            "text/plain": [
              "   SepalLengthCm  SepalWidthCm  PetalLengthCm  PetalWidthCm\n",
              "0      -0.910515      1.175789      -1.374878     -1.345899\n",
              "1      -1.151122     -0.093924      -1.374878     -1.345899\n",
              "2      -1.391729      0.413961      -1.431986     -1.345899\n",
              "3      -1.512032      0.160019      -1.317771     -1.345899\n",
              "4      -1.030819      1.429732      -1.374878     -1.345899"
            ]
          },
          "metadata": {
            "tags": []
          },
          "execution_count": 21
        }
      ]
    },
    {
      "cell_type": "markdown",
      "metadata": {
        "id": "oUoq41beGTkD"
      },
      "source": [
        " **K-Mean Clustering**"
      ]
    },
    {
      "cell_type": "code",
      "metadata": {
        "colab": {
          "base_uri": "https://localhost:8080/",
          "height": 282
        },
        "id": "NzC39pVOGZ9m",
        "outputId": "026e1b4a-93bb-4128-a365-c873d447293c"
      },
      "source": [
        "# choose the value of k\r\n",
        "# Silhouette Score\r\n",
        "# Elbow curve-ssd\r\n",
        "\r\n",
        "from sklearn.metrics import silhouette_score\r\n",
        "ss = []\r\n",
        "for k in range(2 , 11):\r\n",
        "  kmean = KMeans(n_clusters = k).fit(iris)\r\n",
        "  ss.append([k , silhouette_score(iris , kmean.labels_)])\r\n",
        "temp = pd.DataFrame(ss)\r\n",
        "plt.plot(temp[0] , temp[1])"
      ],
      "execution_count": 22,
      "outputs": [
        {
          "output_type": "execute_result",
          "data": {
            "text/plain": [
              "[<matplotlib.lines.Line2D at 0x7f56607573c8>]"
            ]
          },
          "metadata": {
            "tags": []
          },
          "execution_count": 22
        },
        {
          "output_type": "display_data",
          "data": {
            "image/png": "[encoded data removed]",
            "text/plain": [
              "<Figure size 432x288 with 1 Axes>"
            ]
          },
          "metadata": {
            "tags": [],
            "needs_background": "light"
          }
        }
      ]
    },
    {
      "cell_type": "code",
      "metadata": {
        "colab": {
          "base_uri": "https://localhost:8080/",
          "height": 295
        },
        "id": "cjHXgPimHOMI",
        "outputId": "dee3d93d-b174-4b3c-8f15-286dd0c32c0e"
      },
      "source": [
        "# Finding the Optimum number of clusters for k-means classification\r\n",
        "\r\n",
        "x = iris.iloc[: , [0 , 1 , 2 , 3]].values\r\n",
        "\r\n",
        "from sklearn.cluster import KMeans\r\n",
        "wcss = []\r\n",
        "\r\n",
        "for i in range(1 , 11):\r\n",
        "  kmeans = KMeans(n_clusters = i , init = 'k-means++' , \r\n",
        "                  max_iter = 300 , n_init = 10 , random_state = 0)\r\n",
        "  kmeans.fit(x)\r\n",
        "  wcss.append(kmeans.inertia_)\r\n",
        "\r\n",
        "# Plotting the results onto a line graph allowing us to observe 'The Elbow'\r\n",
        "plt.plot(range(1 , 11) , wcss)\r\n",
        "plt.title('The Elbow Method')\r\n",
        "plt.xlabel('Number of Clusters')\r\n",
        "plt.ylabel('WCSS')  # Within cluster sum of squares\r\n",
        "plt.show()"
      ],
      "execution_count": 24,
      "outputs": [
        {
          "output_type": "display_data",
          "data": {
            "image/png": "[encoded data removed]",
            "text/plain": [
              "<Figure size 432x288 with 1 Axes>"
            ]
          },
          "metadata": {
            "tags": [],
            "needs_background": "light"
          }
        }
      ]
    },
    {
      "cell_type": "markdown",
      "metadata": {
        "id": "-XVMM6sOIwV5"
      },
      "source": [
        "We can clearly see why it is called 'The Elbow Method' from the above graph. The optimum clusters is where the elbow occurs. This is when the within cluster sum of squares (WCSS) doesn't decrease significantly with every literation.\r\n",
        "\r\n",
        "From this we choose the number of clusters as 3. "
      ]
    },
    {
      "cell_type": "code",
      "metadata": {
        "id": "OCgYQrSaJcqf"
      },
      "source": [
        "# Applying kmeans to the dataset / creating the kmeans classifier\r\n",
        "kmeans = KMeans(n_clusters = 3 , init = 'k-means++' ,\r\n",
        "                max_iter = 300 , n_init = 10 , random_state = 0)\r\n",
        "y_kmeans = kmeans.fit_predict(x)"
      ],
      "execution_count": 28,
      "outputs": []
    },
    {
      "cell_type": "code",
      "metadata": {
        "colab": {
          "base_uri": "https://localhost:8080/",
          "height": 282
        },
        "id": "_W9eF9kAKe_i",
        "outputId": "013a073d-ea2a-45b2-c550-815e84a74e4e"
      },
      "source": [
        "# Visualising the clusters - On the first two columns\r\n",
        "plt.scatter(x[y_kmeans == 0 , 0] , x[y_kmeans == 0 , 1] , \r\n",
        "            s = 100 , c = 'red' , label = 'Iris-setosa')\r\n",
        "\r\n",
        "plt.scatter(x[y_kmeans == 1 , 0] , x[y_kmeans == 1 , 1] , \r\n",
        "            s = 100 , c = 'blue' , label = 'Iris-versicolour')\r\n",
        "\r\n",
        "plt.scatter(x[y_kmeans == 2 , 0] , x[y_kmeans == 2 , 1] , \r\n",
        "            s = 100 , c = 'red' , label = 'Iris-setosa')\r\n",
        "\r\n",
        "# Plotting the centroids of the clusters\r\n",
        "plt.scatter(kmeans.cluster_centers_[: , 0] , kmeans.cluster_centers_[: , 1] ,  \r\n",
        "            s = 100 , c = 'yellow' , label = 'Centroids')\r\n",
        "\r\n",
        "plt.legend()"
      ],
      "execution_count": 30,
      "outputs": [
        {
          "output_type": "execute_result",
          "data": {
            "text/plain": [
              "<matplotlib.legend.Legend at 0x7f565e79fe10>"
            ]
          },
          "metadata": {
            "tags": []
          },
          "execution_count": 30
        },
        {
          "output_type": "display_data",
          "data": {
            "image/png": "[encoded data removed]",
            "text/plain": [
              "<Figure size 432x288 with 1 Axes>"
            ]
          },
          "metadata": {
            "tags": [],
            "needs_background": "light"
          }
        }
      ]
    },
    {
      "cell_type": "markdown",
      "metadata": {
        "id": "x2fLoJF0Mg7X"
      },
      "source": [
        "**Conclusion**"
      ]
    },
    {
      "cell_type": "markdown",
      "metadata": {
        "id": "E4-HYaj0MjPq"
      },
      "source": [
        "It can be observed that 'Petal' dimensions are better features to create cluster than 'Sepal' dimensions. After performing k-means clustering we got 3 as the optimal number of clusters."
      ]
    }
  ]
}