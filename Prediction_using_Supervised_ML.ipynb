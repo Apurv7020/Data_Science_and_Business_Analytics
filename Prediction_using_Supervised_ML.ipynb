{
  "nbformat": 4,
  "nbformat_minor": 0,
  "metadata": {
    "colab": {
      "name": "Prediction using Supervised ML",
      "provenance": [],
      "collapsed_sections": []
    },
    "kernelspec": {
      "name": "python3",
      "display_name": "Python 3"
    }
  },
  "cells": [
    {
      "cell_type": "markdown",
      "metadata": {
        "id": "NBEBZhcKEWQm"
      },
      "source": [
        "\r\n",
        "\r\n",
        "\r\n",
        "#**Author : Apurv Kalane**"
      ]
    },
    {
      "cell_type": "markdown",
      "metadata": {
        "id": "id00DyHtDcTx"
      },
      "source": [
        "#Task 1 : Prediction using Supervised ML\r\n"
      ]
    },
    {
      "cell_type": "markdown",
      "metadata": {
        "id": "8yOkaxWbE5MI"
      },
      "source": [
        "\r\n",
        "\r\n",
        "\r\n",
        "**Importing all the libraries**"
      ]
    },
    {
      "cell_type": "code",
      "metadata": {
        "id": "HFXhFPkKEsJI"
      },
      "source": [
        "import pandas as pd\r\n",
        "import numpy as np\r\n",
        "import matplotlib.pyplot as plt\r\n",
        "import seaborn as sns\r\n",
        "%matplotlib inline"
      ],
      "execution_count": 29,
      "outputs": []
    },
    {
      "cell_type": "markdown",
      "metadata": {
        "id": "v-nfk_V0Ftq0"
      },
      "source": [
        "**Importing data**"
      ]
    },
    {
      "cell_type": "code",
      "metadata": {
        "id": "LlWBPPekFwN9"
      },
      "source": [
        "url = \"http://bit.ly/w-data\"\r\n",
        "sample_data = pd.read_csv(url)"
      ],
      "execution_count": 30,
      "outputs": []
    },
    {
      "cell_type": "code",
      "metadata": {
        "colab": {
          "base_uri": "https://localhost:8080/",
          "height": 204
        },
        "id": "MYHlvu0hGNJX",
        "outputId": "5118d343-133c-4bcb-c9d7-24d741e0a50c"
      },
      "source": [
        "sample_data.head()            #Displaying first 5 rows"
      ],
      "execution_count": 31,
      "outputs": [
        {
          "output_type": "execute_result",
          "data": {
            "text/html": [
              "<div>\n",
              "<style scoped>\n",
              "    .dataframe tbody tr th:only-of-type {\n",
              "        vertical-align: middle;\n",
              "    }\n",
              "\n",
              "    .dataframe tbody tr th {\n",
              "        vertical-align: top;\n",
              "    }\n",
              "\n",
              "    .dataframe thead th {\n",
              "        text-align: right;\n",
              "    }\n",
              "</style>\n",
              "<table border=\"1\" class=\"dataframe\">\n",
              "  <thead>\n",
              "    <tr style=\"text-align: right;\">\n",
              "      <th></th>\n",
              "      <th>Hours</th>\n",
              "      <th>Scores</th>\n",
              "    </tr>\n",
              "  </thead>\n",
              "  <tbody>\n",
              "    <tr>\n",
              "      <th>0</th>\n",
              "      <td>2.5</td>\n",
              "      <td>21</td>\n",
              "    </tr>\n",
              "    <tr>\n",
              "      <th>1</th>\n",
              "      <td>5.1</td>\n",
              "      <td>47</td>\n",
              "    </tr>\n",
              "    <tr>\n",
              "      <th>2</th>\n",
              "      <td>3.2</td>\n",
              "      <td>27</td>\n",
              "    </tr>\n",
              "    <tr>\n",
              "      <th>3</th>\n",
              "      <td>8.5</td>\n",
              "      <td>75</td>\n",
              "    </tr>\n",
              "    <tr>\n",
              "      <th>4</th>\n",
              "      <td>3.5</td>\n",
              "      <td>30</td>\n",
              "    </tr>\n",
              "  </tbody>\n",
              "</table>\n",
              "</div>"
            ],
            "text/plain": [
              "   Hours  Scores\n",
              "0    2.5      21\n",
              "1    5.1      47\n",
              "2    3.2      27\n",
              "3    8.5      75\n",
              "4    3.5      30"
            ]
          },
          "metadata": {
            "tags": []
          },
          "execution_count": 31
        }
      ]
    },
    {
      "cell_type": "markdown",
      "metadata": {
        "id": "NZnBidOPGqBE"
      },
      "source": [
        "**Data Visualization**"
      ]
    },
    {
      "cell_type": "code",
      "metadata": {
        "colab": {
          "base_uri": "https://localhost:8080/",
          "height": 295
        },
        "id": "Xkuubkx7GyjW",
        "outputId": "a8399bbb-a25b-435e-d94d-5c748f4e89cc"
      },
      "source": [
        "# Plotting the distribution of scores\r\n",
        "\r\n",
        "sample_data.plot(x = \"Hours\" , y = \"Scores\" , style = \"*\")\r\n",
        "plt.title(\"Hours VS Percentage\")\r\n",
        "plt.xlabel(\"Hours Studied\")\r\n",
        "plt.ylabel(\"Percentage Score\")\r\n",
        "plt.show()"
      ],
      "execution_count": 32,
      "outputs": [
        {
          "output_type": "display_data",
          "data": {
            "image/png": "[encoded data removed]",
            "text/plain": [
              "<Figure size 432x288 with 1 Axes>"
            ]
          },
          "metadata": {
            "tags": [],
            "needs_background": "light"
          }
        }
      ]
    },
    {
      "cell_type": "markdown",
      "metadata": {
        "id": "tH2TWIE0IIOW"
      },
      "source": [
        "**Data Preparation**"
      ]
    },
    {
      "cell_type": "code",
      "metadata": {
        "id": "VCZ6_7ZoIOjt"
      },
      "source": [
        "X = sample_data.drop([\"Scores\"] , axis = 1)\r\n",
        "y = sample_data[\"Scores\"]"
      ],
      "execution_count": 33,
      "outputs": []
    },
    {
      "cell_type": "code",
      "metadata": {
        "colab": {
          "base_uri": "https://localhost:8080/",
          "height": 204
        },
        "id": "2YLwY8B3I_oD",
        "outputId": "d93836a5-0971-47fe-defa-627ae0edbd28"
      },
      "source": [
        "X.head()"
      ],
      "execution_count": 34,
      "outputs": [
        {
          "output_type": "execute_result",
          "data": {
            "text/html": [
              "<div>\n",
              "<style scoped>\n",
              "    .dataframe tbody tr th:only-of-type {\n",
              "        vertical-align: middle;\n",
              "    }\n",
              "\n",
              "    .dataframe tbody tr th {\n",
              "        vertical-align: top;\n",
              "    }\n",
              "\n",
              "    .dataframe thead th {\n",
              "        text-align: right;\n",
              "    }\n",
              "</style>\n",
              "<table border=\"1\" class=\"dataframe\">\n",
              "  <thead>\n",
              "    <tr style=\"text-align: right;\">\n",
              "      <th></th>\n",
              "      <th>Hours</th>\n",
              "    </tr>\n",
              "  </thead>\n",
              "  <tbody>\n",
              "    <tr>\n",
              "      <th>0</th>\n",
              "      <td>2.5</td>\n",
              "    </tr>\n",
              "    <tr>\n",
              "      <th>1</th>\n",
              "      <td>5.1</td>\n",
              "    </tr>\n",
              "    <tr>\n",
              "      <th>2</th>\n",
              "      <td>3.2</td>\n",
              "    </tr>\n",
              "    <tr>\n",
              "      <th>3</th>\n",
              "      <td>8.5</td>\n",
              "    </tr>\n",
              "    <tr>\n",
              "      <th>4</th>\n",
              "      <td>3.5</td>\n",
              "    </tr>\n",
              "  </tbody>\n",
              "</table>\n",
              "</div>"
            ],
            "text/plain": [
              "   Hours\n",
              "0    2.5\n",
              "1    5.1\n",
              "2    3.2\n",
              "3    8.5\n",
              "4    3.5"
            ]
          },
          "metadata": {
            "tags": []
          },
          "execution_count": 34
        }
      ]
    },
    {
      "cell_type": "code",
      "metadata": {
        "colab": {
          "base_uri": "https://localhost:8080/"
        },
        "id": "eP1-6U_AJCXB",
        "outputId": "f57d877b-7f4d-4b83-9904-ae572427ae87"
      },
      "source": [
        "y.head()"
      ],
      "execution_count": 35,
      "outputs": [
        {
          "output_type": "execute_result",
          "data": {
            "text/plain": [
              "0    21\n",
              "1    47\n",
              "2    27\n",
              "3    75\n",
              "4    30\n",
              "Name: Scores, dtype: int64"
            ]
          },
          "metadata": {
            "tags": []
          },
          "execution_count": 35
        }
      ]
    },
    {
      "cell_type": "code",
      "metadata": {
        "id": "vm7E_LAcJXYn"
      },
      "source": [
        "from sklearn.model_selection import train_test_split      # Splitting data into train and test sets\r\n",
        "X_train , X_test , y_train , y_test = train_test_split(X , y , test_size = 0.2 , random_state = 0)"
      ],
      "execution_count": 36,
      "outputs": []
    },
    {
      "cell_type": "markdown",
      "metadata": {
        "id": "4kdIPxbMKbcv"
      },
      "source": [
        "**Data Modelling**"
      ]
    },
    {
      "cell_type": "code",
      "metadata": {
        "colab": {
          "base_uri": "https://localhost:8080/"
        },
        "id": "nkmHnGNvKgiV",
        "outputId": "acb90d96-445d-44ec-c049-623caa68dd26"
      },
      "source": [
        "from sklearn.linear_model import LinearRegression         # Training Algorithm\r\n",
        "model = LinearRegression()\r\n",
        "model.fit(X_train , y_train)"
      ],
      "execution_count": 37,
      "outputs": [
        {
          "output_type": "execute_result",
          "data": {
            "text/plain": [
              "LinearRegression(copy_X=True, fit_intercept=True, n_jobs=None, normalize=False)"
            ]
          },
          "metadata": {
            "tags": []
          },
          "execution_count": 37
        }
      ]
    },
    {
      "cell_type": "code",
      "metadata": {
        "colab": {
          "base_uri": "https://localhost:8080/",
          "height": 265
        },
        "id": "ibrkmNS-K2Kh",
        "outputId": "08db08bc-7891-46a1-f1e0-7b07f981b38c"
      },
      "source": [
        "y_pred = model.coef_*X+model.intercept_                  # Plotting the Regression line\r\n",
        "\r\n",
        "plt.scatter(X , y)                                       # Plotting test data\r\n",
        "plt.plot(X , y_pred);\r\n",
        "plt.show()"
      ],
      "execution_count": 38,
      "outputs": [
        {
          "output_type": "display_data",
          "data": {
            "image/png": "[encoded data removed]",
            "text/plain": [
              "<Figure size 432x288 with 1 Axes>"
            ]
          },
          "metadata": {
            "tags": [],
            "needs_background": "light"
          }
        }
      ]
    },
    {
      "cell_type": "markdown",
      "metadata": {
        "id": "9NM58gpgM21n"
      },
      "source": [
        "**Predictions**"
      ]
    },
    {
      "cell_type": "code",
      "metadata": {
        "colab": {
          "base_uri": "https://localhost:8080/"
        },
        "id": "lIjH5zdsM58f",
        "outputId": "2b7a3604-94f1-4b55-e182-aa6855b62eca"
      },
      "source": [
        "print(X_test)                                           # Predicting the scores\r\n",
        "y_pred = model.predict(X_test)\r\n",
        "print(y_pred)"
      ],
      "execution_count": 39,
      "outputs": [
        {
          "output_type": "stream",
          "text": [
            "    Hours\n",
            "5     1.5\n",
            "2     3.2\n",
            "19    7.4\n",
            "16    2.5\n",
            "11    5.9\n",
            "[16.88414476 33.73226078 75.357018   26.79480124 60.49103328]\n"
          ],
          "name": "stdout"
        }
      ]
    },
    {
      "cell_type": "code",
      "metadata": {
        "colab": {
          "base_uri": "https://localhost:8080/"
        },
        "id": "NuCkZkjINMZZ",
        "outputId": "5145ef3b-d299-44ba-c0b1-5c1d65e33e2f"
      },
      "source": [
        "df = pd.DataFrame({\"Actual\" : y_test , \"Predicted\" : y_pred})\r\n",
        "print(df)"
      ],
      "execution_count": 40,
      "outputs": [
        {
          "output_type": "stream",
          "text": [
            "    Actual  Predicted\n",
            "5       20  16.884145\n",
            "2       27  33.732261\n",
            "19      69  75.357018\n",
            "16      30  26.794801\n",
            "11      62  60.491033\n"
          ],
          "name": "stdout"
        }
      ]
    },
    {
      "cell_type": "code",
      "metadata": {
        "colab": {
          "base_uri": "https://localhost:8080/"
        },
        "id": "a16jAn4jOejV",
        "outputId": "40d733ca-1f46-4968-8eb0-b798ef903a27"
      },
      "source": [
        "pred_score = model.predict([[9.25]])                 # Predicting score when student studies for 9.25 hrs/day\r\n",
        "print(\"Predicted Score =\" ,pred_score )"
      ],
      "execution_count": 41,
      "outputs": [
        {
          "output_type": "stream",
          "text": [
            "Predicted Score = [93.69173249]\n"
          ],
          "name": "stdout"
        }
      ]
    },
    {
      "cell_type": "markdown",
      "metadata": {
        "id": "UxU5KFpNPNpR"
      },
      "source": [
        "**Model Evaluation**"
      ]
    },
    {
      "cell_type": "code",
      "metadata": {
        "colab": {
          "base_uri": "https://localhost:8080/"
        },
        "id": "Je77eD1_PYzu",
        "outputId": "6fddef6a-6234-4ca6-bfc8-9f19cd55e436"
      },
      "source": [
        "from sklearn import metrics\r\n",
        "print(\"Mean Absolute Error =\",metrics.mean_absolute_error(y_test , y_pred))"
      ],
      "execution_count": 42,
      "outputs": [
        {
          "output_type": "stream",
          "text": [
            "Mean Absolute Error = 4.183859899002982\n"
          ],
          "name": "stdout"
        }
      ]
    }
  ]
}