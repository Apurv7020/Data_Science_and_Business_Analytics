{
  "nbformat": 4,
  "nbformat_minor": 0,
  "metadata": {
    "colab": {
      "name": "Stock Market Prediction using Numerical and Textual Analysis",
      "provenance": [],
      "collapsed_sections": []
    },
    "kernelspec": {
      "display_name": "Python 3",
      "language": "python",
      "name": "python3"
    },
    "language_info": {
      "codemirror_mode": {
        "name": "ipython",
        "version": 3
      },
      "file_extension": ".py",
      "mimetype": "text/x-python",
      "name": "python",
      "nbconvert_exporter": "python",
      "pygments_lexer": "ipython3",
      "version": "3.7.6"
    }
  },
  "cells": [
    {
      "cell_type": "markdown",
      "metadata": {
        "id": "gJx6M5KYJYTE"
      },
      "source": [
        "# **Author : Apurv Kalane**"
      ]
    },
    {
      "cell_type": "markdown",
      "metadata": {
        "id": "utsYo1gHN8E3"
      },
      "source": [
        "# Task 7 : Stock Market Prediction using Numerical and Textual Analysis"
      ]
    },
    {
      "cell_type": "markdown",
      "metadata": {
        "id": "715hwZg5JLvA"
      },
      "source": [
        "**Importing required Library**"
      ]
    },
    {
      "cell_type": "code",
      "metadata": {
        "id": "nthmq8zZJLvD"
      },
      "source": [
        "import warnings\n",
        "warnings.filterwarnings('ignore')\n",
        "\n",
        "import math\n",
        "import pandas as pd\n",
        "import numpy as np\n",
        "\n",
        "import matplotlib.pyplot as plt\n",
        "import seaborn as sns\n",
        "\n",
        "from keras.models import Sequential\n",
        "from keras.layers import Dense, LSTM, Dropout, Dense, Activation\n",
        "\n",
        "import nltk\n",
        "from nltk.classify import NaiveBayesClassifier\n",
        "from nltk.corpus import subjectivity\n",
        "from nltk.sentiment import SentimentAnalyzer\n",
        "from nltk.sentiment.util import *\n",
        "\n",
        "from sklearn import preprocessing, metrics\n",
        "from sklearn.preprocessing import MinMaxScaler"
      ],
      "execution_count": 1,
      "outputs": []
    },
    {
      "cell_type": "code",
      "metadata": {
        "id": "4eclPHTeKEAo",
        "colab": {
          "resources": {
            "http://localhost:8080/nbextensions/google.colab/files.js": {
              "data": "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",
              "ok": true,
              "headers": [
                [
                  "content-type",
                  "application/javascript"
                ]
              ],
              "status": 200,
              "status_text": ""
            }
          },
          "base_uri": "https://localhost:8080/",
          "height": 72
        },
        "outputId": "060ab443-15df-42da-8209-d2b58cf113c9"
      },
      "source": [
        "from google.colab import files\r\n",
        "uploaded = files.upload()"
      ],
      "execution_count": 2,
      "outputs": [
        {
          "output_type": "display_data",
          "data": {
            "text/html": [
              "\n",
              "     <input type=\"file\" id=\"files-ef6e78de-96c8-4ca0-b0f0-bd00edaa52d9\" name=\"files[]\" multiple disabled\n",
              "        style=\"border:none\" />\n",
              "     <output id=\"result-ef6e78de-96c8-4ca0-b0f0-bd00edaa52d9\">\n",
              "      Upload widget is only available when the cell has been executed in the\n",
              "      current browser session. Please rerun this cell to enable.\n",
              "      </output>\n",
              "      <script src=\"/nbextensions/google.colab/files.js\"></script> "
            ],
            "text/plain": [
              "<IPython.core.display.HTML object>"
            ]
          },
          "metadata": {
            "tags": []
          }
        },
        {
          "output_type": "stream",
          "text": [
            "Saving AAPL.csv to AAPL.csv\n"
          ],
          "name": "stdout"
        }
      ]
    },
    {
      "cell_type": "code",
      "metadata": {
        "id": "q-olW_-zJLvG"
      },
      "source": [
        "stock_price = pd.read_csv('AAPL.csv')"
      ],
      "execution_count": 3,
      "outputs": []
    },
    {
      "cell_type": "code",
      "metadata": {
        "id": "9ySbrkd_crDn",
        "colab": {
          "resources": {
            "http://localhost:8080/nbextensions/google.colab/files.js": {
              "data": "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",
              "ok": true,
              "headers": [
                [
                  "content-type",
                  "application/javascript"
                ]
              ],
              "status": 200,
              "status_text": ""
            }
          },
          "base_uri": "https://localhost:8080/",
          "height": 72
        },
        "outputId": "7f72b8ac-9783-4b7b-80fd-8dbe5953d726"
      },
      "source": [
        "from google.colab import files\r\n",
        "uploaded = files.upload()"
      ],
      "execution_count": 4,
      "outputs": [
        {
          "output_type": "display_data",
          "data": {
            "text/html": [
              "\n",
              "     <input type=\"file\" id=\"files-ca300218-ac00-4b7d-86a5-17b65dbb517e\" name=\"files[]\" multiple disabled\n",
              "        style=\"border:none\" />\n",
              "     <output id=\"result-ca300218-ac00-4b7d-86a5-17b65dbb517e\">\n",
              "      Upload widget is only available when the cell has been executed in the\n",
              "      current browser session. Please rerun this cell to enable.\n",
              "      </output>\n",
              "      <script src=\"/nbextensions/google.colab/files.js\"></script> "
            ],
            "text/plain": [
              "<IPython.core.display.HTML object>"
            ]
          },
          "metadata": {
            "tags": []
          }
        },
        {
          "output_type": "stream",
          "text": [
            "Saving india-news-headlines.csv to india-news-headlines.csv\n"
          ],
          "name": "stdout"
        }
      ]
    },
    {
      "cell_type": "code",
      "metadata": {
        "id": "hFHPwaqsKHc6"
      },
      "source": [
        "stock_headlines = pd.read_csv('india-news-headlines.csv')"
      ],
      "execution_count": 5,
      "outputs": []
    },
    {
      "cell_type": "code",
      "metadata": {
        "id": "5KCziWd8JLvH",
        "colab": {
          "base_uri": "https://localhost:8080/",
          "height": 204
        },
        "outputId": "05482adb-fdcc-4405-b027-7bdb0353131d"
      },
      "source": [
        "stock_price.head()"
      ],
      "execution_count": 6,
      "outputs": [
        {
          "output_type": "execute_result",
          "data": {
            "text/html": [
              "<div>\n",
              "<style scoped>\n",
              "    .dataframe tbody tr th:only-of-type {\n",
              "        vertical-align: middle;\n",
              "    }\n",
              "\n",
              "    .dataframe tbody tr th {\n",
              "        vertical-align: top;\n",
              "    }\n",
              "\n",
              "    .dataframe thead th {\n",
              "        text-align: right;\n",
              "    }\n",
              "</style>\n",
              "<table border=\"1\" class=\"dataframe\">\n",
              "  <thead>\n",
              "    <tr style=\"text-align: right;\">\n",
              "      <th></th>\n",
              "      <th>Date</th>\n",
              "      <th>Open</th>\n",
              "      <th>High</th>\n",
              "      <th>Low</th>\n",
              "      <th>Close</th>\n",
              "      <th>Adj Close</th>\n",
              "      <th>Volume</th>\n",
              "    </tr>\n",
              "  </thead>\n",
              "  <tbody>\n",
              "    <tr>\n",
              "      <th>0</th>\n",
              "      <td>2001-01-02</td>\n",
              "      <td>0.265625</td>\n",
              "      <td>0.272321</td>\n",
              "      <td>0.260045</td>\n",
              "      <td>0.265625</td>\n",
              "      <td>0.229537</td>\n",
              "      <td>452312000</td>\n",
              "    </tr>\n",
              "    <tr>\n",
              "      <th>1</th>\n",
              "      <td>2001-01-03</td>\n",
              "      <td>0.258929</td>\n",
              "      <td>0.297991</td>\n",
              "      <td>0.257813</td>\n",
              "      <td>0.292411</td>\n",
              "      <td>0.252684</td>\n",
              "      <td>817073600</td>\n",
              "    </tr>\n",
              "    <tr>\n",
              "      <th>2</th>\n",
              "      <td>2001-01-04</td>\n",
              "      <td>0.323940</td>\n",
              "      <td>0.330357</td>\n",
              "      <td>0.300223</td>\n",
              "      <td>0.304688</td>\n",
              "      <td>0.263292</td>\n",
              "      <td>739396000</td>\n",
              "    </tr>\n",
              "    <tr>\n",
              "      <th>3</th>\n",
              "      <td>2001-01-05</td>\n",
              "      <td>0.302455</td>\n",
              "      <td>0.310268</td>\n",
              "      <td>0.286830</td>\n",
              "      <td>0.292411</td>\n",
              "      <td>0.252684</td>\n",
              "      <td>412356000</td>\n",
              "    </tr>\n",
              "    <tr>\n",
              "      <th>4</th>\n",
              "      <td>2001-01-08</td>\n",
              "      <td>0.302455</td>\n",
              "      <td>0.303292</td>\n",
              "      <td>0.284598</td>\n",
              "      <td>0.295759</td>\n",
              "      <td>0.255577</td>\n",
              "      <td>373699200</td>\n",
              "    </tr>\n",
              "  </tbody>\n",
              "</table>\n",
              "</div>"
            ],
            "text/plain": [
              "         Date      Open      High       Low     Close  Adj Close     Volume\n",
              "0  2001-01-02  0.265625  0.272321  0.260045  0.265625   0.229537  452312000\n",
              "1  2001-01-03  0.258929  0.297991  0.257813  0.292411   0.252684  817073600\n",
              "2  2001-01-04  0.323940  0.330357  0.300223  0.304688   0.263292  739396000\n",
              "3  2001-01-05  0.302455  0.310268  0.286830  0.292411   0.252684  412356000\n",
              "4  2001-01-08  0.302455  0.303292  0.284598  0.295759   0.255577  373699200"
            ]
          },
          "metadata": {
            "tags": []
          },
          "execution_count": 6
        }
      ]
    },
    {
      "cell_type": "code",
      "metadata": {
        "id": "3imDTxfuJLvI",
        "colab": {
          "base_uri": "https://localhost:8080/",
          "height": 204
        },
        "outputId": "739021be-ad95-4438-c141-6cff4e2d2d39"
      },
      "source": [
        "stock_headlines.head()"
      ],
      "execution_count": 7,
      "outputs": [
        {
          "output_type": "execute_result",
          "data": {
            "text/html": [
              "<div>\n",
              "<style scoped>\n",
              "    .dataframe tbody tr th:only-of-type {\n",
              "        vertical-align: middle;\n",
              "    }\n",
              "\n",
              "    .dataframe tbody tr th {\n",
              "        vertical-align: top;\n",
              "    }\n",
              "\n",
              "    .dataframe thead th {\n",
              "        text-align: right;\n",
              "    }\n",
              "</style>\n",
              "<table border=\"1\" class=\"dataframe\">\n",
              "  <thead>\n",
              "    <tr style=\"text-align: right;\">\n",
              "      <th></th>\n",
              "      <th>publish_date</th>\n",
              "      <th>headline_category</th>\n",
              "      <th>headline_text</th>\n",
              "    </tr>\n",
              "  </thead>\n",
              "  <tbody>\n",
              "    <tr>\n",
              "      <th>0</th>\n",
              "      <td>20010101</td>\n",
              "      <td>sports.wwe</td>\n",
              "      <td>win over cena satisfying but defeating underta...</td>\n",
              "    </tr>\n",
              "    <tr>\n",
              "      <th>1</th>\n",
              "      <td>20010102</td>\n",
              "      <td>unknown</td>\n",
              "      <td>Status quo will not be disturbed at Ayodhya; s...</td>\n",
              "    </tr>\n",
              "    <tr>\n",
              "      <th>2</th>\n",
              "      <td>20010102</td>\n",
              "      <td>unknown</td>\n",
              "      <td>Fissures in Hurriyat over Pak visit</td>\n",
              "    </tr>\n",
              "    <tr>\n",
              "      <th>3</th>\n",
              "      <td>20010102</td>\n",
              "      <td>unknown</td>\n",
              "      <td>America's unwanted heading for India?</td>\n",
              "    </tr>\n",
              "    <tr>\n",
              "      <th>4</th>\n",
              "      <td>20010102</td>\n",
              "      <td>unknown</td>\n",
              "      <td>For bigwigs; it is destination Goa</td>\n",
              "    </tr>\n",
              "  </tbody>\n",
              "</table>\n",
              "</div>"
            ],
            "text/plain": [
              "   publish_date  ...                                      headline_text\n",
              "0      20010101  ...  win over cena satisfying but defeating underta...\n",
              "1      20010102  ...  Status quo will not be disturbed at Ayodhya; s...\n",
              "2      20010102  ...                Fissures in Hurriyat over Pak visit\n",
              "3      20010102  ...              America's unwanted heading for India?\n",
              "4      20010102  ...                 For bigwigs; it is destination Goa\n",
              "\n",
              "[5 rows x 3 columns]"
            ]
          },
          "metadata": {
            "tags": []
          },
          "execution_count": 7
        }
      ]
    },
    {
      "cell_type": "markdown",
      "metadata": {
        "id": "gyIo6ffrJLvJ"
      },
      "source": [
        "###Feature Engineering"
      ]
    },
    {
      "cell_type": "code",
      "metadata": {
        "id": "70GryEGAJLvK",
        "scrolled": false,
        "colab": {
          "base_uri": "https://localhost:8080/"
        },
        "outputId": "e38420b8-8dc8-41d1-a0c4-fa8c161b7ed7"
      },
      "source": [
        "len(stock_price), len(stock_headlines)  # displaying number of records in both stock_price and stock_headlines datasets"
      ],
      "execution_count": 8,
      "outputs": [
        {
          "output_type": "execute_result",
          "data": {
            "text/plain": [
              "(4904, 3297172)"
            ]
          },
          "metadata": {
            "tags": []
          },
          "execution_count": 8
        }
      ]
    },
    {
      "cell_type": "code",
      "metadata": {
        "id": "qxAWY4ElJLvL",
        "colab": {
          "base_uri": "https://localhost:8080/"
        },
        "outputId": "4b319ac6-0bff-4a0e-facb-45a243bfa35c"
      },
      "source": [
        "stock_price.isna().any(), stock_headlines.isna().any()    # checking for null values in both the datasets"
      ],
      "execution_count": 9,
      "outputs": [
        {
          "output_type": "execute_result",
          "data": {
            "text/plain": [
              "(Date         False\n",
              " Open         False\n",
              " High         False\n",
              " Low          False\n",
              " Close        False\n",
              " Adj Close    False\n",
              " Volume       False\n",
              " dtype: bool, publish_date         False\n",
              " headline_category    False\n",
              " headline_text        False\n",
              " dtype: bool)"
            ]
          },
          "metadata": {
            "tags": []
          },
          "execution_count": 9
        }
      ]
    },
    {
      "cell_type": "markdown",
      "metadata": {
        "id": "iMVK3_xcJLvM"
      },
      "source": [
        "### Stock Price Data"
      ]
    },
    {
      "cell_type": "code",
      "metadata": {
        "id": "ZeiHaDFjJLvN",
        "colab": {
          "base_uri": "https://localhost:8080/",
          "height": 450
        },
        "outputId": "e77575c4-599a-4928-811b-adf2824a8541"
      },
      "source": [
        "# dropping duplicates\n",
        "stock_price = stock_price.drop_duplicates()\n",
        "\n",
        "# coverting the datatype of column 'Date' from type object to type 'datetime'\n",
        "stock_price['Date'] = pd.to_datetime(stock_price['Date']).dt.normalize()\n",
        "\n",
        "# filtering the important columns required\n",
        "stock_price = stock_price.filter(['Date', 'Close', 'Open', 'High', 'Low', 'Volume'])\n",
        "\n",
        "# setting column 'Date' as the index column\n",
        "stock_price.set_index('Date', inplace= True)\n",
        "\n",
        "# sorting the data according to the index i.e 'Date'\n",
        "stock_price = stock_price.sort_index(ascending=True, axis=0)\n",
        "stock_price"
      ],
      "execution_count": 10,
      "outputs": [
        {
          "output_type": "execute_result",
          "data": {
            "text/html": [
              "<div>\n",
              "<style scoped>\n",
              "    .dataframe tbody tr th:only-of-type {\n",
              "        vertical-align: middle;\n",
              "    }\n",
              "\n",
              "    .dataframe tbody tr th {\n",
              "        vertical-align: top;\n",
              "    }\n",
              "\n",
              "    .dataframe thead th {\n",
              "        text-align: right;\n",
              "    }\n",
              "</style>\n",
              "<table border=\"1\" class=\"dataframe\">\n",
              "  <thead>\n",
              "    <tr style=\"text-align: right;\">\n",
              "      <th></th>\n",
              "      <th>Close</th>\n",
              "      <th>Open</th>\n",
              "      <th>High</th>\n",
              "      <th>Low</th>\n",
              "      <th>Volume</th>\n",
              "    </tr>\n",
              "    <tr>\n",
              "      <th>Date</th>\n",
              "      <th></th>\n",
              "      <th></th>\n",
              "      <th></th>\n",
              "      <th></th>\n",
              "      <th></th>\n",
              "    </tr>\n",
              "  </thead>\n",
              "  <tbody>\n",
              "    <tr>\n",
              "      <th>2001-01-02</th>\n",
              "      <td>0.265625</td>\n",
              "      <td>0.265625</td>\n",
              "      <td>0.272321</td>\n",
              "      <td>0.260045</td>\n",
              "      <td>452312000</td>\n",
              "    </tr>\n",
              "    <tr>\n",
              "      <th>2001-01-03</th>\n",
              "      <td>0.292411</td>\n",
              "      <td>0.258929</td>\n",
              "      <td>0.297991</td>\n",
              "      <td>0.257813</td>\n",
              "      <td>817073600</td>\n",
              "    </tr>\n",
              "    <tr>\n",
              "      <th>2001-01-04</th>\n",
              "      <td>0.304688</td>\n",
              "      <td>0.323940</td>\n",
              "      <td>0.330357</td>\n",
              "      <td>0.300223</td>\n",
              "      <td>739396000</td>\n",
              "    </tr>\n",
              "    <tr>\n",
              "      <th>2001-01-05</th>\n",
              "      <td>0.292411</td>\n",
              "      <td>0.302455</td>\n",
              "      <td>0.310268</td>\n",
              "      <td>0.286830</td>\n",
              "      <td>412356000</td>\n",
              "    </tr>\n",
              "    <tr>\n",
              "      <th>2001-01-08</th>\n",
              "      <td>0.295759</td>\n",
              "      <td>0.302455</td>\n",
              "      <td>0.303292</td>\n",
              "      <td>0.284598</td>\n",
              "      <td>373699200</td>\n",
              "    </tr>\n",
              "    <tr>\n",
              "      <th>...</th>\n",
              "      <td>...</td>\n",
              "      <td>...</td>\n",
              "      <td>...</td>\n",
              "      <td>...</td>\n",
              "      <td>...</td>\n",
              "    </tr>\n",
              "    <tr>\n",
              "      <th>2020-06-24</th>\n",
              "      <td>90.014999</td>\n",
              "      <td>91.250000</td>\n",
              "      <td>92.197502</td>\n",
              "      <td>89.629997</td>\n",
              "      <td>192623200</td>\n",
              "    </tr>\n",
              "    <tr>\n",
              "      <th>2020-06-25</th>\n",
              "      <td>91.209999</td>\n",
              "      <td>90.175003</td>\n",
              "      <td>91.250000</td>\n",
              "      <td>89.392502</td>\n",
              "      <td>137522400</td>\n",
              "    </tr>\n",
              "    <tr>\n",
              "      <th>2020-06-26</th>\n",
              "      <td>88.407501</td>\n",
              "      <td>91.102501</td>\n",
              "      <td>91.330002</td>\n",
              "      <td>88.254997</td>\n",
              "      <td>205256800</td>\n",
              "    </tr>\n",
              "    <tr>\n",
              "      <th>2020-06-29</th>\n",
              "      <td>90.445000</td>\n",
              "      <td>88.312500</td>\n",
              "      <td>90.542503</td>\n",
              "      <td>87.820000</td>\n",
              "      <td>130646000</td>\n",
              "    </tr>\n",
              "    <tr>\n",
              "      <th>2020-06-30</th>\n",
              "      <td>91.199997</td>\n",
              "      <td>90.019997</td>\n",
              "      <td>91.495003</td>\n",
              "      <td>90.000000</td>\n",
              "      <td>140223200</td>\n",
              "    </tr>\n",
              "  </tbody>\n",
              "</table>\n",
              "<p>4904 rows × 5 columns</p>\n",
              "</div>"
            ],
            "text/plain": [
              "                Close       Open       High        Low     Volume\n",
              "Date                                                             \n",
              "2001-01-02   0.265625   0.265625   0.272321   0.260045  452312000\n",
              "2001-01-03   0.292411   0.258929   0.297991   0.257813  817073600\n",
              "2001-01-04   0.304688   0.323940   0.330357   0.300223  739396000\n",
              "2001-01-05   0.292411   0.302455   0.310268   0.286830  412356000\n",
              "2001-01-08   0.295759   0.302455   0.303292   0.284598  373699200\n",
              "...               ...        ...        ...        ...        ...\n",
              "2020-06-24  90.014999  91.250000  92.197502  89.629997  192623200\n",
              "2020-06-25  91.209999  90.175003  91.250000  89.392502  137522400\n",
              "2020-06-26  88.407501  91.102501  91.330002  88.254997  205256800\n",
              "2020-06-29  90.445000  88.312500  90.542503  87.820000  130646000\n",
              "2020-06-30  91.199997  90.019997  91.495003  90.000000  140223200\n",
              "\n",
              "[4904 rows x 5 columns]"
            ]
          },
          "metadata": {
            "tags": []
          },
          "execution_count": 10
        }
      ]
    },
    {
      "cell_type": "markdown",
      "metadata": {
        "id": "evEa4acVJLvO"
      },
      "source": [
        "### Stock News Headlines Data"
      ]
    },
    {
      "cell_type": "code",
      "metadata": {
        "id": "O18DM0oHJLvP",
        "colab": {
          "base_uri": "https://localhost:8080/",
          "height": 450
        },
        "outputId": "e155d8f7-f941-4ade-bdb9-f5f6bc74a641"
      },
      "source": [
        "# dropping duplicates\n",
        "stock_headlines = stock_headlines.drop_duplicates()\n",
        "\n",
        "# coverting the datatype of column 'Date' from type string to type 'datetime'\n",
        "stock_headlines['publish_date'] = stock_headlines['publish_date'].astype(str)\n",
        "stock_headlines['publish_date'] = stock_headlines['publish_date'].apply(lambda x: x[0:4]+'-'+x[4:6]+'-'+x[6:8])\n",
        "stock_headlines['publish_date'] = pd.to_datetime(stock_headlines['publish_date']).dt.normalize()\n",
        "\n",
        "# filtering the important columns required\n",
        "stock_headlines = stock_headlines.filter(['publish_date', 'headline_text'])\n",
        "\n",
        "# grouping the news headlines according to 'Date'\n",
        "stock_headlines = stock_headlines.groupby(['publish_date'])['headline_text'].apply(lambda x: ','.join(x)).reset_index()\n",
        "\n",
        "# setting column 'Date' as the index column\n",
        "stock_headlines.set_index('publish_date', inplace= True)\n",
        "\n",
        "# sorting the data according to the index i.e 'Date'\n",
        "stock_headlines = stock_headlines.sort_index(ascending=True, axis=0)\n",
        "stock_headlines"
      ],
      "execution_count": 11,
      "outputs": [
        {
          "output_type": "execute_result",
          "data": {
            "text/html": [
              "<div>\n",
              "<style scoped>\n",
              "    .dataframe tbody tr th:only-of-type {\n",
              "        vertical-align: middle;\n",
              "    }\n",
              "\n",
              "    .dataframe tbody tr th {\n",
              "        vertical-align: top;\n",
              "    }\n",
              "\n",
              "    .dataframe thead th {\n",
              "        text-align: right;\n",
              "    }\n",
              "</style>\n",
              "<table border=\"1\" class=\"dataframe\">\n",
              "  <thead>\n",
              "    <tr style=\"text-align: right;\">\n",
              "      <th></th>\n",
              "      <th>headline_text</th>\n",
              "    </tr>\n",
              "    <tr>\n",
              "      <th>publish_date</th>\n",
              "      <th></th>\n",
              "    </tr>\n",
              "  </thead>\n",
              "  <tbody>\n",
              "    <tr>\n",
              "      <th>2001-01-01</th>\n",
              "      <td>win over cena satisfying but defeating underta...</td>\n",
              "    </tr>\n",
              "    <tr>\n",
              "      <th>2001-01-02</th>\n",
              "      <td>Status quo will not be disturbed at Ayodhya; s...</td>\n",
              "    </tr>\n",
              "    <tr>\n",
              "      <th>2001-01-03</th>\n",
              "      <td>Powerless north India gropes in the dark,Think...</td>\n",
              "    </tr>\n",
              "    <tr>\n",
              "      <th>2001-01-04</th>\n",
              "      <td>The string that pulled Stephen Hawking to Indi...</td>\n",
              "    </tr>\n",
              "    <tr>\n",
              "      <th>2001-01-05</th>\n",
              "      <td>Light combat craft takes India into club class...</td>\n",
              "    </tr>\n",
              "    <tr>\n",
              "      <th>...</th>\n",
              "      <td>...</td>\n",
              "    </tr>\n",
              "    <tr>\n",
              "      <th>2020-06-26</th>\n",
              "      <td>Containment zone residents slam high prices ch...</td>\n",
              "    </tr>\n",
              "    <tr>\n",
              "      <th>2020-06-27</th>\n",
              "      <td>like me i wont let you have a toxic relationsh...</td>\n",
              "    </tr>\n",
              "    <tr>\n",
              "      <th>2020-06-28</th>\n",
              "      <td>Atanu Ghosh plans to rewrite old scripts to ma...</td>\n",
              "    </tr>\n",
              "    <tr>\n",
              "      <th>2020-06-29</th>\n",
              "      <td>6 hot and stylish bikini looks of Katrina Kaif...</td>\n",
              "    </tr>\n",
              "    <tr>\n",
              "      <th>2020-06-30</th>\n",
              "      <td>Detective Byomkesh Bakshy!,Edge of Tomorrow,Fi...</td>\n",
              "    </tr>\n",
              "  </tbody>\n",
              "</table>\n",
              "<p>7080 rows × 1 columns</p>\n",
              "</div>"
            ],
            "text/plain": [
              "                                                  headline_text\n",
              "publish_date                                                   \n",
              "2001-01-01    win over cena satisfying but defeating underta...\n",
              "2001-01-02    Status quo will not be disturbed at Ayodhya; s...\n",
              "2001-01-03    Powerless north India gropes in the dark,Think...\n",
              "2001-01-04    The string that pulled Stephen Hawking to Indi...\n",
              "2001-01-05    Light combat craft takes India into club class...\n",
              "...                                                         ...\n",
              "2020-06-26    Containment zone residents slam high prices ch...\n",
              "2020-06-27    like me i wont let you have a toxic relationsh...\n",
              "2020-06-28    Atanu Ghosh plans to rewrite old scripts to ma...\n",
              "2020-06-29    6 hot and stylish bikini looks of Katrina Kaif...\n",
              "2020-06-30    Detective Byomkesh Bakshy!,Edge of Tomorrow,Fi...\n",
              "\n",
              "[7080 rows x 1 columns]"
            ]
          },
          "metadata": {
            "tags": []
          },
          "execution_count": 11
        }
      ]
    },
    {
      "cell_type": "markdown",
      "metadata": {
        "id": "NMi2oQ1LJLvR"
      },
      "source": [
        "### Combined Stock Data"
      ]
    },
    {
      "cell_type": "code",
      "metadata": {
        "id": "KaGqLH9YJLvR",
        "colab": {
          "base_uri": "https://localhost:8080/",
          "height": 419
        },
        "outputId": "09a36da9-f49e-4a29-ce58-0b7956520d07"
      },
      "source": [
        "# concatenating the datasets stock_price and stock_headlines\n",
        "stock_data = pd.concat([stock_price, stock_headlines], axis=1)\n",
        "\n",
        "# dropping the null values if any\n",
        "stock_data.dropna(axis=0, inplace=True)\n",
        "\n",
        "# displaying the combined stock_data\n",
        "stock_data"
      ],
      "execution_count": 12,
      "outputs": [
        {
          "output_type": "execute_result",
          "data": {
            "text/html": [
              "<div>\n",
              "<style scoped>\n",
              "    .dataframe tbody tr th:only-of-type {\n",
              "        vertical-align: middle;\n",
              "    }\n",
              "\n",
              "    .dataframe tbody tr th {\n",
              "        vertical-align: top;\n",
              "    }\n",
              "\n",
              "    .dataframe thead th {\n",
              "        text-align: right;\n",
              "    }\n",
              "</style>\n",
              "<table border=\"1\" class=\"dataframe\">\n",
              "  <thead>\n",
              "    <tr style=\"text-align: right;\">\n",
              "      <th></th>\n",
              "      <th>Close</th>\n",
              "      <th>Open</th>\n",
              "      <th>High</th>\n",
              "      <th>Low</th>\n",
              "      <th>Volume</th>\n",
              "      <th>headline_text</th>\n",
              "    </tr>\n",
              "  </thead>\n",
              "  <tbody>\n",
              "    <tr>\n",
              "      <th>2001-01-02</th>\n",
              "      <td>0.265625</td>\n",
              "      <td>0.265625</td>\n",
              "      <td>0.272321</td>\n",
              "      <td>0.260045</td>\n",
              "      <td>452312000.0</td>\n",
              "      <td>Status quo will not be disturbed at Ayodhya; s...</td>\n",
              "    </tr>\n",
              "    <tr>\n",
              "      <th>2001-01-03</th>\n",
              "      <td>0.292411</td>\n",
              "      <td>0.258929</td>\n",
              "      <td>0.297991</td>\n",
              "      <td>0.257813</td>\n",
              "      <td>817073600.0</td>\n",
              "      <td>Powerless north India gropes in the dark,Think...</td>\n",
              "    </tr>\n",
              "    <tr>\n",
              "      <th>2001-01-04</th>\n",
              "      <td>0.304688</td>\n",
              "      <td>0.323940</td>\n",
              "      <td>0.330357</td>\n",
              "      <td>0.300223</td>\n",
              "      <td>739396000.0</td>\n",
              "      <td>The string that pulled Stephen Hawking to Indi...</td>\n",
              "    </tr>\n",
              "    <tr>\n",
              "      <th>2001-01-05</th>\n",
              "      <td>0.292411</td>\n",
              "      <td>0.302455</td>\n",
              "      <td>0.310268</td>\n",
              "      <td>0.286830</td>\n",
              "      <td>412356000.0</td>\n",
              "      <td>Light combat craft takes India into club class...</td>\n",
              "    </tr>\n",
              "    <tr>\n",
              "      <th>2001-01-08</th>\n",
              "      <td>0.295759</td>\n",
              "      <td>0.302455</td>\n",
              "      <td>0.303292</td>\n",
              "      <td>0.284598</td>\n",
              "      <td>373699200.0</td>\n",
              "      <td>Sangh Parivar; Babri panel up the ante,Frontru...</td>\n",
              "    </tr>\n",
              "    <tr>\n",
              "      <th>...</th>\n",
              "      <td>...</td>\n",
              "      <td>...</td>\n",
              "      <td>...</td>\n",
              "      <td>...</td>\n",
              "      <td>...</td>\n",
              "      <td>...</td>\n",
              "    </tr>\n",
              "    <tr>\n",
              "      <th>2020-06-24</th>\n",
              "      <td>90.014999</td>\n",
              "      <td>91.250000</td>\n",
              "      <td>92.197502</td>\n",
              "      <td>89.629997</td>\n",
              "      <td>192623200.0</td>\n",
              "      <td>I never thought I had a voice until today: Vid...</td>\n",
              "    </tr>\n",
              "    <tr>\n",
              "      <th>2020-06-25</th>\n",
              "      <td>91.209999</td>\n",
              "      <td>90.175003</td>\n",
              "      <td>91.250000</td>\n",
              "      <td>89.392502</td>\n",
              "      <td>137522400.0</td>\n",
              "      <td>Truck firms look for new export markets to sel...</td>\n",
              "    </tr>\n",
              "    <tr>\n",
              "      <th>2020-06-26</th>\n",
              "      <td>88.407501</td>\n",
              "      <td>91.102501</td>\n",
              "      <td>91.330002</td>\n",
              "      <td>88.254997</td>\n",
              "      <td>205256800.0</td>\n",
              "      <td>Containment zone residents slam high prices ch...</td>\n",
              "    </tr>\n",
              "    <tr>\n",
              "      <th>2020-06-29</th>\n",
              "      <td>90.445000</td>\n",
              "      <td>88.312500</td>\n",
              "      <td>90.542503</td>\n",
              "      <td>87.820000</td>\n",
              "      <td>130646000.0</td>\n",
              "      <td>6 hot and stylish bikini looks of Katrina Kaif...</td>\n",
              "    </tr>\n",
              "    <tr>\n",
              "      <th>2020-06-30</th>\n",
              "      <td>91.199997</td>\n",
              "      <td>90.019997</td>\n",
              "      <td>91.495003</td>\n",
              "      <td>90.000000</td>\n",
              "      <td>140223200.0</td>\n",
              "      <td>Detective Byomkesh Bakshy!,Edge of Tomorrow,Fi...</td>\n",
              "    </tr>\n",
              "  </tbody>\n",
              "</table>\n",
              "<p>4877 rows × 6 columns</p>\n",
              "</div>"
            ],
            "text/plain": [
              "                Close  ...                                      headline_text\n",
              "2001-01-02   0.265625  ...  Status quo will not be disturbed at Ayodhya; s...\n",
              "2001-01-03   0.292411  ...  Powerless north India gropes in the dark,Think...\n",
              "2001-01-04   0.304688  ...  The string that pulled Stephen Hawking to Indi...\n",
              "2001-01-05   0.292411  ...  Light combat craft takes India into club class...\n",
              "2001-01-08   0.295759  ...  Sangh Parivar; Babri panel up the ante,Frontru...\n",
              "...               ...  ...                                                ...\n",
              "2020-06-24  90.014999  ...  I never thought I had a voice until today: Vid...\n",
              "2020-06-25  91.209999  ...  Truck firms look for new export markets to sel...\n",
              "2020-06-26  88.407501  ...  Containment zone residents slam high prices ch...\n",
              "2020-06-29  90.445000  ...  6 hot and stylish bikini looks of Katrina Kaif...\n",
              "2020-06-30  91.199997  ...  Detective Byomkesh Bakshy!,Edge of Tomorrow,Fi...\n",
              "\n",
              "[4877 rows x 6 columns]"
            ]
          },
          "metadata": {
            "tags": []
          },
          "execution_count": 12
        }
      ]
    },
    {
      "cell_type": "markdown",
      "metadata": {
        "id": "rrBTbbGMJLvS"
      },
      "source": [
        "### Calculating Sentiment Scores"
      ]
    },
    {
      "cell_type": "code",
      "metadata": {
        "id": "QmvBfGRNJLvT",
        "colab": {
          "base_uri": "https://localhost:8080/",
          "height": 204
        },
        "outputId": "cac2fd90-ebe2-4824-d620-a7bc374ade24"
      },
      "source": [
        "# adding empty sentiment columns to stock_data for later calculation\n",
        "stock_data['compound'] = ''\n",
        "stock_data['negative'] = ''\n",
        "stock_data['neutral'] = ''\n",
        "stock_data['positive'] = ''\n",
        "stock_data.head()"
      ],
      "execution_count": 13,
      "outputs": [
        {
          "output_type": "execute_result",
          "data": {
            "text/html": [
              "<div>\n",
              "<style scoped>\n",
              "    .dataframe tbody tr th:only-of-type {\n",
              "        vertical-align: middle;\n",
              "    }\n",
              "\n",
              "    .dataframe tbody tr th {\n",
              "        vertical-align: top;\n",
              "    }\n",
              "\n",
              "    .dataframe thead th {\n",
              "        text-align: right;\n",
              "    }\n",
              "</style>\n",
              "<table border=\"1\" class=\"dataframe\">\n",
              "  <thead>\n",
              "    <tr style=\"text-align: right;\">\n",
              "      <th></th>\n",
              "      <th>Close</th>\n",
              "      <th>Open</th>\n",
              "      <th>High</th>\n",
              "      <th>Low</th>\n",
              "      <th>Volume</th>\n",
              "      <th>headline_text</th>\n",
              "      <th>compound</th>\n",
              "      <th>negative</th>\n",
              "      <th>neutral</th>\n",
              "      <th>positive</th>\n",
              "    </tr>\n",
              "  </thead>\n",
              "  <tbody>\n",
              "    <tr>\n",
              "      <th>2001-01-02</th>\n",
              "      <td>0.265625</td>\n",
              "      <td>0.265625</td>\n",
              "      <td>0.272321</td>\n",
              "      <td>0.260045</td>\n",
              "      <td>452312000.0</td>\n",
              "      <td>Status quo will not be disturbed at Ayodhya; s...</td>\n",
              "      <td></td>\n",
              "      <td></td>\n",
              "      <td></td>\n",
              "      <td></td>\n",
              "    </tr>\n",
              "    <tr>\n",
              "      <th>2001-01-03</th>\n",
              "      <td>0.292411</td>\n",
              "      <td>0.258929</td>\n",
              "      <td>0.297991</td>\n",
              "      <td>0.257813</td>\n",
              "      <td>817073600.0</td>\n",
              "      <td>Powerless north India gropes in the dark,Think...</td>\n",
              "      <td></td>\n",
              "      <td></td>\n",
              "      <td></td>\n",
              "      <td></td>\n",
              "    </tr>\n",
              "    <tr>\n",
              "      <th>2001-01-04</th>\n",
              "      <td>0.304688</td>\n",
              "      <td>0.323940</td>\n",
              "      <td>0.330357</td>\n",
              "      <td>0.300223</td>\n",
              "      <td>739396000.0</td>\n",
              "      <td>The string that pulled Stephen Hawking to Indi...</td>\n",
              "      <td></td>\n",
              "      <td></td>\n",
              "      <td></td>\n",
              "      <td></td>\n",
              "    </tr>\n",
              "    <tr>\n",
              "      <th>2001-01-05</th>\n",
              "      <td>0.292411</td>\n",
              "      <td>0.302455</td>\n",
              "      <td>0.310268</td>\n",
              "      <td>0.286830</td>\n",
              "      <td>412356000.0</td>\n",
              "      <td>Light combat craft takes India into club class...</td>\n",
              "      <td></td>\n",
              "      <td></td>\n",
              "      <td></td>\n",
              "      <td></td>\n",
              "    </tr>\n",
              "    <tr>\n",
              "      <th>2001-01-08</th>\n",
              "      <td>0.295759</td>\n",
              "      <td>0.302455</td>\n",
              "      <td>0.303292</td>\n",
              "      <td>0.284598</td>\n",
              "      <td>373699200.0</td>\n",
              "      <td>Sangh Parivar; Babri panel up the ante,Frontru...</td>\n",
              "      <td></td>\n",
              "      <td></td>\n",
              "      <td></td>\n",
              "      <td></td>\n",
              "    </tr>\n",
              "  </tbody>\n",
              "</table>\n",
              "</div>"
            ],
            "text/plain": [
              "               Close      Open      High  ...  negative  neutral positive\n",
              "2001-01-02  0.265625  0.265625  0.272321  ...                            \n",
              "2001-01-03  0.292411  0.258929  0.297991  ...                            \n",
              "2001-01-04  0.304688  0.323940  0.330357  ...                            \n",
              "2001-01-05  0.292411  0.302455  0.310268  ...                            \n",
              "2001-01-08  0.295759  0.302455  0.303292  ...                            \n",
              "\n",
              "[5 rows x 10 columns]"
            ]
          },
          "metadata": {
            "tags": []
          },
          "execution_count": 13
        }
      ]
    },
    {
      "cell_type": "code",
      "metadata": {
        "id": "dtokIbCtamxM",
        "colab": {
          "base_uri": "https://localhost:8080/"
        },
        "outputId": "493545c8-fb1d-444e-eef4-0b43e1adcc22"
      },
      "source": [
        "import nltk\r\n",
        "nltk.download('vader_lexicon')"
      ],
      "execution_count": 14,
      "outputs": [
        {
          "output_type": "stream",
          "text": [
            "[nltk_data] Downloading package vader_lexicon to /root/nltk_data...\n"
          ],
          "name": "stdout"
        },
        {
          "output_type": "execute_result",
          "data": {
            "text/plain": [
              "True"
            ]
          },
          "metadata": {
            "tags": []
          },
          "execution_count": 14
        }
      ]
    },
    {
      "cell_type": "code",
      "metadata": {
        "id": "7fnhHZw4JLvU",
        "colab": {
          "base_uri": "https://localhost:8080/",
          "height": 204
        },
        "outputId": "677ba63c-b92b-477f-d639-6368cd6a7afd"
      },
      "source": [
        "# importing requires libraries to analyze the sentiments\n",
        "from nltk.sentiment.vader import SentimentIntensityAnalyzer\n",
        "import unicodedata\n",
        "\n",
        "# instantiating the Sentiment Analyzer\n",
        "sid = SentimentIntensityAnalyzer()\n",
        "\n",
        "# calculating sentiment scores\n",
        "stock_data['compound'] = stock_data['headline_text'].apply(lambda x: sid.polarity_scores(x)['compound'])\n",
        "stock_data['negative'] = stock_data['headline_text'].apply(lambda x: sid.polarity_scores(x)['neg'])\n",
        "stock_data['neutral'] = stock_data['headline_text'].apply(lambda x: sid.polarity_scores(x)['neu'])\n",
        "stock_data['positive'] = stock_data['headline_text'].apply(lambda x: sid.polarity_scores(x)['pos'])\n",
        "\n",
        "# displaying the stock data\n",
        "stock_data.head()"
      ],
      "execution_count": 15,
      "outputs": [
        {
          "output_type": "execute_result",
          "data": {
            "text/html": [
              "<div>\n",
              "<style scoped>\n",
              "    .dataframe tbody tr th:only-of-type {\n",
              "        vertical-align: middle;\n",
              "    }\n",
              "\n",
              "    .dataframe tbody tr th {\n",
              "        vertical-align: top;\n",
              "    }\n",
              "\n",
              "    .dataframe thead th {\n",
              "        text-align: right;\n",
              "    }\n",
              "</style>\n",
              "<table border=\"1\" class=\"dataframe\">\n",
              "  <thead>\n",
              "    <tr style=\"text-align: right;\">\n",
              "      <th></th>\n",
              "      <th>Close</th>\n",
              "      <th>Open</th>\n",
              "      <th>High</th>\n",
              "      <th>Low</th>\n",
              "      <th>Volume</th>\n",
              "      <th>headline_text</th>\n",
              "      <th>compound</th>\n",
              "      <th>negative</th>\n",
              "      <th>neutral</th>\n",
              "      <th>positive</th>\n",
              "    </tr>\n",
              "  </thead>\n",
              "  <tbody>\n",
              "    <tr>\n",
              "      <th>2001-01-02</th>\n",
              "      <td>0.265625</td>\n",
              "      <td>0.265625</td>\n",
              "      <td>0.272321</td>\n",
              "      <td>0.260045</td>\n",
              "      <td>452312000.0</td>\n",
              "      <td>Status quo will not be disturbed at Ayodhya; s...</td>\n",
              "      <td>-0.9621</td>\n",
              "      <td>0.119</td>\n",
              "      <td>0.817</td>\n",
              "      <td>0.064</td>\n",
              "    </tr>\n",
              "    <tr>\n",
              "      <th>2001-01-03</th>\n",
              "      <td>0.292411</td>\n",
              "      <td>0.258929</td>\n",
              "      <td>0.297991</td>\n",
              "      <td>0.257813</td>\n",
              "      <td>817073600.0</td>\n",
              "      <td>Powerless north India gropes in the dark,Think...</td>\n",
              "      <td>0.6322</td>\n",
              "      <td>0.084</td>\n",
              "      <td>0.817</td>\n",
              "      <td>0.098</td>\n",
              "    </tr>\n",
              "    <tr>\n",
              "      <th>2001-01-04</th>\n",
              "      <td>0.304688</td>\n",
              "      <td>0.323940</td>\n",
              "      <td>0.330357</td>\n",
              "      <td>0.300223</td>\n",
              "      <td>739396000.0</td>\n",
              "      <td>The string that pulled Stephen Hawking to Indi...</td>\n",
              "      <td>0.6648</td>\n",
              "      <td>0.077</td>\n",
              "      <td>0.843</td>\n",
              "      <td>0.080</td>\n",
              "    </tr>\n",
              "    <tr>\n",
              "      <th>2001-01-05</th>\n",
              "      <td>0.292411</td>\n",
              "      <td>0.302455</td>\n",
              "      <td>0.310268</td>\n",
              "      <td>0.286830</td>\n",
              "      <td>412356000.0</td>\n",
              "      <td>Light combat craft takes India into club class...</td>\n",
              "      <td>0.9032</td>\n",
              "      <td>0.105</td>\n",
              "      <td>0.746</td>\n",
              "      <td>0.149</td>\n",
              "    </tr>\n",
              "    <tr>\n",
              "      <th>2001-01-08</th>\n",
              "      <td>0.295759</td>\n",
              "      <td>0.302455</td>\n",
              "      <td>0.303292</td>\n",
              "      <td>0.284598</td>\n",
              "      <td>373699200.0</td>\n",
              "      <td>Sangh Parivar; Babri panel up the ante,Frontru...</td>\n",
              "      <td>-0.9638</td>\n",
              "      <td>0.119</td>\n",
              "      <td>0.855</td>\n",
              "      <td>0.026</td>\n",
              "    </tr>\n",
              "  </tbody>\n",
              "</table>\n",
              "</div>"
            ],
            "text/plain": [
              "               Close      Open      High  ...  negative  neutral positive\n",
              "2001-01-02  0.265625  0.265625  0.272321  ...     0.119    0.817    0.064\n",
              "2001-01-03  0.292411  0.258929  0.297991  ...     0.084    0.817    0.098\n",
              "2001-01-04  0.304688  0.323940  0.330357  ...     0.077    0.843    0.080\n",
              "2001-01-05  0.292411  0.302455  0.310268  ...     0.105    0.746    0.149\n",
              "2001-01-08  0.295759  0.302455  0.303292  ...     0.119    0.855    0.026\n",
              "\n",
              "[5 rows x 10 columns]"
            ]
          },
          "metadata": {
            "tags": []
          },
          "execution_count": 15
        }
      ]
    },
    {
      "cell_type": "markdown",
      "metadata": {
        "id": "vAJC3FA6JLvV"
      },
      "source": [
        "## Finalising Stock Data and writing to Disk"
      ]
    },
    {
      "cell_type": "code",
      "metadata": {
        "id": "cKGdJrqYJLvV",
        "colab": {
          "base_uri": "https://localhost:8080/",
          "height": 204
        },
        "outputId": "946e744b-f483-4b67-c9af-4aab133b0dd5"
      },
      "source": [
        "# dropping the 'headline_text' which is unwanted now\n",
        "stock_data.drop(['headline_text'], inplace=True, axis=1)\n",
        "\n",
        "# rearranging the columns of the whole stock_data\n",
        "stock_data = stock_data[['Close', 'compound', 'negative', 'neutral', 'positive', 'Open', 'High', 'Low', 'Volume']]\n",
        "\n",
        "# displaying the final stock_data\n",
        "stock_data.head()"
      ],
      "execution_count": 16,
      "outputs": [
        {
          "output_type": "execute_result",
          "data": {
            "text/html": [
              "<div>\n",
              "<style scoped>\n",
              "    .dataframe tbody tr th:only-of-type {\n",
              "        vertical-align: middle;\n",
              "    }\n",
              "\n",
              "    .dataframe tbody tr th {\n",
              "        vertical-align: top;\n",
              "    }\n",
              "\n",
              "    .dataframe thead th {\n",
              "        text-align: right;\n",
              "    }\n",
              "</style>\n",
              "<table border=\"1\" class=\"dataframe\">\n",
              "  <thead>\n",
              "    <tr style=\"text-align: right;\">\n",
              "      <th></th>\n",
              "      <th>Close</th>\n",
              "      <th>compound</th>\n",
              "      <th>negative</th>\n",
              "      <th>neutral</th>\n",
              "      <th>positive</th>\n",
              "      <th>Open</th>\n",
              "      <th>High</th>\n",
              "      <th>Low</th>\n",
              "      <th>Volume</th>\n",
              "    </tr>\n",
              "  </thead>\n",
              "  <tbody>\n",
              "    <tr>\n",
              "      <th>2001-01-02</th>\n",
              "      <td>0.265625</td>\n",
              "      <td>-0.9621</td>\n",
              "      <td>0.119</td>\n",
              "      <td>0.817</td>\n",
              "      <td>0.064</td>\n",
              "      <td>0.265625</td>\n",
              "      <td>0.272321</td>\n",
              "      <td>0.260045</td>\n",
              "      <td>452312000.0</td>\n",
              "    </tr>\n",
              "    <tr>\n",
              "      <th>2001-01-03</th>\n",
              "      <td>0.292411</td>\n",
              "      <td>0.6322</td>\n",
              "      <td>0.084</td>\n",
              "      <td>0.817</td>\n",
              "      <td>0.098</td>\n",
              "      <td>0.258929</td>\n",
              "      <td>0.297991</td>\n",
              "      <td>0.257813</td>\n",
              "      <td>817073600.0</td>\n",
              "    </tr>\n",
              "    <tr>\n",
              "      <th>2001-01-04</th>\n",
              "      <td>0.304688</td>\n",
              "      <td>0.6648</td>\n",
              "      <td>0.077</td>\n",
              "      <td>0.843</td>\n",
              "      <td>0.080</td>\n",
              "      <td>0.323940</td>\n",
              "      <td>0.330357</td>\n",
              "      <td>0.300223</td>\n",
              "      <td>739396000.0</td>\n",
              "    </tr>\n",
              "    <tr>\n",
              "      <th>2001-01-05</th>\n",
              "      <td>0.292411</td>\n",
              "      <td>0.9032</td>\n",
              "      <td>0.105</td>\n",
              "      <td>0.746</td>\n",
              "      <td>0.149</td>\n",
              "      <td>0.302455</td>\n",
              "      <td>0.310268</td>\n",
              "      <td>0.286830</td>\n",
              "      <td>412356000.0</td>\n",
              "    </tr>\n",
              "    <tr>\n",
              "      <th>2001-01-08</th>\n",
              "      <td>0.295759</td>\n",
              "      <td>-0.9638</td>\n",
              "      <td>0.119</td>\n",
              "      <td>0.855</td>\n",
              "      <td>0.026</td>\n",
              "      <td>0.302455</td>\n",
              "      <td>0.303292</td>\n",
              "      <td>0.284598</td>\n",
              "      <td>373699200.0</td>\n",
              "    </tr>\n",
              "  </tbody>\n",
              "</table>\n",
              "</div>"
            ],
            "text/plain": [
              "               Close  compound  negative  ...      High       Low       Volume\n",
              "2001-01-02  0.265625   -0.9621     0.119  ...  0.272321  0.260045  452312000.0\n",
              "2001-01-03  0.292411    0.6322     0.084  ...  0.297991  0.257813  817073600.0\n",
              "2001-01-04  0.304688    0.6648     0.077  ...  0.330357  0.300223  739396000.0\n",
              "2001-01-05  0.292411    0.9032     0.105  ...  0.310268  0.286830  412356000.0\n",
              "2001-01-08  0.295759   -0.9638     0.119  ...  0.303292  0.284598  373699200.0\n",
              "\n",
              "[5 rows x 9 columns]"
            ]
          },
          "metadata": {
            "tags": []
          },
          "execution_count": 16
        }
      ]
    },
    {
      "cell_type": "code",
      "metadata": {
        "id": "qYPy15ELJLvW"
      },
      "source": [
        "# writing the prepared stock_data to disk\n",
        "stock_data.to_csv('stock_data.csv')"
      ],
      "execution_count": 17,
      "outputs": []
    },
    {
      "cell_type": "markdown",
      "metadata": {
        "id": "bQ_dpCKQJLvX"
      },
      "source": [
        "## Reading Stock Data "
      ]
    },
    {
      "cell_type": "code",
      "metadata": {
        "id": "t2pLJkc_JLvX",
        "colab": {
          "base_uri": "https://localhost:8080/",
          "height": 235
        },
        "outputId": "2ec66b88-16e2-4b44-c954-951bbc685c11"
      },
      "source": [
        "# re-reading the stock_data into pandas dataframe\n",
        "stock_data = pd.read_csv('stock_data.csv', index_col = False)\n",
        "\n",
        "# renaming the column\n",
        "stock_data.rename(columns={'Unnamed: 0':'Date'}, inplace = True)\n",
        "\n",
        "# setting the column 'Date' as the index column\n",
        "stock_data.set_index('Date', inplace=True)\n",
        "\n",
        "# displaying the stock_data\n",
        "stock_data.head()"
      ],
      "execution_count": 18,
      "outputs": [
        {
          "output_type": "execute_result",
          "data": {
            "text/html": [
              "<div>\n",
              "<style scoped>\n",
              "    .dataframe tbody tr th:only-of-type {\n",
              "        vertical-align: middle;\n",
              "    }\n",
              "\n",
              "    .dataframe tbody tr th {\n",
              "        vertical-align: top;\n",
              "    }\n",
              "\n",
              "    .dataframe thead th {\n",
              "        text-align: right;\n",
              "    }\n",
              "</style>\n",
              "<table border=\"1\" class=\"dataframe\">\n",
              "  <thead>\n",
              "    <tr style=\"text-align: right;\">\n",
              "      <th></th>\n",
              "      <th>Close</th>\n",
              "      <th>compound</th>\n",
              "      <th>negative</th>\n",
              "      <th>neutral</th>\n",
              "      <th>positive</th>\n",
              "      <th>Open</th>\n",
              "      <th>High</th>\n",
              "      <th>Low</th>\n",
              "      <th>Volume</th>\n",
              "    </tr>\n",
              "    <tr>\n",
              "      <th>Date</th>\n",
              "      <th></th>\n",
              "      <th></th>\n",
              "      <th></th>\n",
              "      <th></th>\n",
              "      <th></th>\n",
              "      <th></th>\n",
              "      <th></th>\n",
              "      <th></th>\n",
              "      <th></th>\n",
              "    </tr>\n",
              "  </thead>\n",
              "  <tbody>\n",
              "    <tr>\n",
              "      <th>2001-01-02</th>\n",
              "      <td>0.265625</td>\n",
              "      <td>-0.9621</td>\n",
              "      <td>0.119</td>\n",
              "      <td>0.817</td>\n",
              "      <td>0.064</td>\n",
              "      <td>0.265625</td>\n",
              "      <td>0.272321</td>\n",
              "      <td>0.260045</td>\n",
              "      <td>452312000.0</td>\n",
              "    </tr>\n",
              "    <tr>\n",
              "      <th>2001-01-03</th>\n",
              "      <td>0.292411</td>\n",
              "      <td>0.6322</td>\n",
              "      <td>0.084</td>\n",
              "      <td>0.817</td>\n",
              "      <td>0.098</td>\n",
              "      <td>0.258929</td>\n",
              "      <td>0.297991</td>\n",
              "      <td>0.257813</td>\n",
              "      <td>817073600.0</td>\n",
              "    </tr>\n",
              "    <tr>\n",
              "      <th>2001-01-04</th>\n",
              "      <td>0.304688</td>\n",
              "      <td>0.6648</td>\n",
              "      <td>0.077</td>\n",
              "      <td>0.843</td>\n",
              "      <td>0.080</td>\n",
              "      <td>0.323940</td>\n",
              "      <td>0.330357</td>\n",
              "      <td>0.300223</td>\n",
              "      <td>739396000.0</td>\n",
              "    </tr>\n",
              "    <tr>\n",
              "      <th>2001-01-05</th>\n",
              "      <td>0.292411</td>\n",
              "      <td>0.9032</td>\n",
              "      <td>0.105</td>\n",
              "      <td>0.746</td>\n",
              "      <td>0.149</td>\n",
              "      <td>0.302455</td>\n",
              "      <td>0.310268</td>\n",
              "      <td>0.286830</td>\n",
              "      <td>412356000.0</td>\n",
              "    </tr>\n",
              "    <tr>\n",
              "      <th>2001-01-08</th>\n",
              "      <td>0.295759</td>\n",
              "      <td>-0.9638</td>\n",
              "      <td>0.119</td>\n",
              "      <td>0.855</td>\n",
              "      <td>0.026</td>\n",
              "      <td>0.302455</td>\n",
              "      <td>0.303292</td>\n",
              "      <td>0.284598</td>\n",
              "      <td>373699200.0</td>\n",
              "    </tr>\n",
              "  </tbody>\n",
              "</table>\n",
              "</div>"
            ],
            "text/plain": [
              "               Close  compound  negative  ...      High       Low       Volume\n",
              "Date                                      ...                                 \n",
              "2001-01-02  0.265625   -0.9621     0.119  ...  0.272321  0.260045  452312000.0\n",
              "2001-01-03  0.292411    0.6322     0.084  ...  0.297991  0.257813  817073600.0\n",
              "2001-01-04  0.304688    0.6648     0.077  ...  0.330357  0.300223  739396000.0\n",
              "2001-01-05  0.292411    0.9032     0.105  ...  0.310268  0.286830  412356000.0\n",
              "2001-01-08  0.295759   -0.9638     0.119  ...  0.303292  0.284598  373699200.0\n",
              "\n",
              "[5 rows x 9 columns]"
            ]
          },
          "metadata": {
            "tags": []
          },
          "execution_count": 18
        }
      ]
    },
    {
      "cell_type": "markdown",
      "metadata": {
        "id": "RlHn-2mwJLvY"
      },
      "source": [
        "##  Feature Engineering of Stock Data"
      ]
    },
    {
      "cell_type": "code",
      "metadata": {
        "id": "M-LuwmT1JLvZ",
        "scrolled": true,
        "colab": {
          "base_uri": "https://localhost:8080/"
        },
        "outputId": "ce059bfa-16ff-4cab-a3b7-db6c9ee5fcc0"
      },
      "source": [
        "# displaying the shape i.e. number of rows and columns of stock_data\n",
        "stock_data.shape"
      ],
      "execution_count": 19,
      "outputs": [
        {
          "output_type": "execute_result",
          "data": {
            "text/plain": [
              "(4877, 9)"
            ]
          },
          "metadata": {
            "tags": []
          },
          "execution_count": 19
        }
      ]
    },
    {
      "cell_type": "code",
      "metadata": {
        "id": "MJ42ECDQJLvZ",
        "colab": {
          "base_uri": "https://localhost:8080/"
        },
        "outputId": "a0d5d1b7-f14f-41d8-cf2b-76cb40bfa6c6"
      },
      "source": [
        "# checking for null values\n",
        "stock_data.isna().any()"
      ],
      "execution_count": 20,
      "outputs": [
        {
          "output_type": "execute_result",
          "data": {
            "text/plain": [
              "Close       False\n",
              "compound    False\n",
              "negative    False\n",
              "neutral     False\n",
              "positive    False\n",
              "Open        False\n",
              "High        False\n",
              "Low         False\n",
              "Volume      False\n",
              "dtype: bool"
            ]
          },
          "metadata": {
            "tags": []
          },
          "execution_count": 20
        }
      ]
    },
    {
      "cell_type": "code",
      "metadata": {
        "id": "eminE37kJLva",
        "colab": {
          "base_uri": "https://localhost:8080/",
          "height": 297
        },
        "outputId": "365cbb38-8aaa-43e9-a11f-c55df6ac18e2"
      },
      "source": [
        "# displaying stock_data statistics\n",
        "stock_data.describe(include='all')"
      ],
      "execution_count": 21,
      "outputs": [
        {
          "output_type": "execute_result",
          "data": {
            "text/html": [
              "<div>\n",
              "<style scoped>\n",
              "    .dataframe tbody tr th:only-of-type {\n",
              "        vertical-align: middle;\n",
              "    }\n",
              "\n",
              "    .dataframe tbody tr th {\n",
              "        vertical-align: top;\n",
              "    }\n",
              "\n",
              "    .dataframe thead th {\n",
              "        text-align: right;\n",
              "    }\n",
              "</style>\n",
              "<table border=\"1\" class=\"dataframe\">\n",
              "  <thead>\n",
              "    <tr style=\"text-align: right;\">\n",
              "      <th></th>\n",
              "      <th>Close</th>\n",
              "      <th>compound</th>\n",
              "      <th>negative</th>\n",
              "      <th>neutral</th>\n",
              "      <th>positive</th>\n",
              "      <th>Open</th>\n",
              "      <th>High</th>\n",
              "      <th>Low</th>\n",
              "      <th>Volume</th>\n",
              "    </tr>\n",
              "  </thead>\n",
              "  <tbody>\n",
              "    <tr>\n",
              "      <th>count</th>\n",
              "      <td>4877.000000</td>\n",
              "      <td>4877.000000</td>\n",
              "      <td>4877.000000</td>\n",
              "      <td>4877.000000</td>\n",
              "      <td>4877.000000</td>\n",
              "      <td>4877.000000</td>\n",
              "      <td>4877.000000</td>\n",
              "      <td>4877.000000</td>\n",
              "      <td>4.877000e+03</td>\n",
              "    </tr>\n",
              "    <tr>\n",
              "      <th>mean</th>\n",
              "      <td>17.237386</td>\n",
              "      <td>-0.870185</td>\n",
              "      <td>0.125720</td>\n",
              "      <td>0.788116</td>\n",
              "      <td>0.086175</td>\n",
              "      <td>17.228087</td>\n",
              "      <td>17.402949</td>\n",
              "      <td>17.056717</td>\n",
              "      <td>4.513386e+08</td>\n",
              "    </tr>\n",
              "    <tr>\n",
              "      <th>std</th>\n",
              "      <td>18.701168</td>\n",
              "      <td>0.453365</td>\n",
              "      <td>0.024431</td>\n",
              "      <td>0.033153</td>\n",
              "      <td>0.020881</td>\n",
              "      <td>18.670832</td>\n",
              "      <td>18.873534</td>\n",
              "      <td>18.499968</td>\n",
              "      <td>3.855476e+08</td>\n",
              "    </tr>\n",
              "    <tr>\n",
              "      <th>min</th>\n",
              "      <td>0.234286</td>\n",
              "      <td>-1.000000</td>\n",
              "      <td>0.000000</td>\n",
              "      <td>0.000000</td>\n",
              "      <td>0.000000</td>\n",
              "      <td>0.231964</td>\n",
              "      <td>0.235536</td>\n",
              "      <td>0.227143</td>\n",
              "      <td>3.247000e+07</td>\n",
              "    </tr>\n",
              "    <tr>\n",
              "      <th>25%</th>\n",
              "      <td>2.132857</td>\n",
              "      <td>-0.999800</td>\n",
              "      <td>0.112000</td>\n",
              "      <td>0.768000</td>\n",
              "      <td>0.075000</td>\n",
              "      <td>2.136429</td>\n",
              "      <td>2.165357</td>\n",
              "      <td>2.096071</td>\n",
              "      <td>1.774640e+08</td>\n",
              "    </tr>\n",
              "    <tr>\n",
              "      <th>50%</th>\n",
              "      <td>10.901428</td>\n",
              "      <td>-0.999000</td>\n",
              "      <td>0.127000</td>\n",
              "      <td>0.785000</td>\n",
              "      <td>0.086000</td>\n",
              "      <td>10.900000</td>\n",
              "      <td>11.000000</td>\n",
              "      <td>10.746428</td>\n",
              "      <td>3.374672e+08</td>\n",
              "    </tr>\n",
              "    <tr>\n",
              "      <th>75%</th>\n",
              "      <td>27.350000</td>\n",
              "      <td>-0.994100</td>\n",
              "      <td>0.141000</td>\n",
              "      <td>0.806000</td>\n",
              "      <td>0.096000</td>\n",
              "      <td>27.334999</td>\n",
              "      <td>27.605000</td>\n",
              "      <td>27.100000</td>\n",
              "      <td>6.051080e+08</td>\n",
              "    </tr>\n",
              "    <tr>\n",
              "      <th>max</th>\n",
              "      <td>91.632500</td>\n",
              "      <td>1.000000</td>\n",
              "      <td>0.444000</td>\n",
              "      <td>1.000000</td>\n",
              "      <td>0.608000</td>\n",
              "      <td>91.250000</td>\n",
              "      <td>93.095001</td>\n",
              "      <td>90.567497</td>\n",
              "      <td>3.372970e+09</td>\n",
              "    </tr>\n",
              "  </tbody>\n",
              "</table>\n",
              "</div>"
            ],
            "text/plain": [
              "             Close     compound  ...          Low        Volume\n",
              "count  4877.000000  4877.000000  ...  4877.000000  4.877000e+03\n",
              "mean     17.237386    -0.870185  ...    17.056717  4.513386e+08\n",
              "std      18.701168     0.453365  ...    18.499968  3.855476e+08\n",
              "min       0.234286    -1.000000  ...     0.227143  3.247000e+07\n",
              "25%       2.132857    -0.999800  ...     2.096071  1.774640e+08\n",
              "50%      10.901428    -0.999000  ...    10.746428  3.374672e+08\n",
              "75%      27.350000    -0.994100  ...    27.100000  6.051080e+08\n",
              "max      91.632500     1.000000  ...    90.567497  3.372970e+09\n",
              "\n",
              "[8 rows x 9 columns]"
            ]
          },
          "metadata": {
            "tags": []
          },
          "execution_count": 21
        }
      ]
    },
    {
      "cell_type": "code",
      "metadata": {
        "id": "1d8hgyasJLvb",
        "colab": {
          "base_uri": "https://localhost:8080/"
        },
        "outputId": "608873d7-8aa0-44a7-9993-a115062dc0f9"
      },
      "source": [
        "# displaying stock_data information\n",
        "stock_data.info()"
      ],
      "execution_count": 22,
      "outputs": [
        {
          "output_type": "stream",
          "text": [
            "<class 'pandas.core.frame.DataFrame'>\n",
            "Index: 4877 entries, 2001-01-02 to 2020-06-30\n",
            "Data columns (total 9 columns):\n",
            " #   Column    Non-Null Count  Dtype  \n",
            "---  ------    --------------  -----  \n",
            " 0   Close     4877 non-null   float64\n",
            " 1   compound  4877 non-null   float64\n",
            " 2   negative  4877 non-null   float64\n",
            " 3   neutral   4877 non-null   float64\n",
            " 4   positive  4877 non-null   float64\n",
            " 5   Open      4877 non-null   float64\n",
            " 6   High      4877 non-null   float64\n",
            " 7   Low       4877 non-null   float64\n",
            " 8   Volume    4877 non-null   float64\n",
            "dtypes: float64(9)\n",
            "memory usage: 381.0+ KB\n"
          ],
          "name": "stdout"
        }
      ]
    },
    {
      "cell_type": "markdown",
      "metadata": {
        "id": "k77IP-BuJLvd"
      },
      "source": [
        "## EDA of Stock Data"
      ]
    },
    {
      "cell_type": "code",
      "metadata": {
        "id": "6VZtB95kJLvd",
        "colab": {
          "base_uri": "https://localhost:8080/",
          "height": 638
        },
        "outputId": "aaf74405-ba6f-4c30-9132-e325c7416fb5"
      },
      "source": [
        "# setting figure size\n",
        "plt.figure(figsize=(16,10))\n",
        "\n",
        "# plotting close price\n",
        "stock_data['Close'].plot()\n",
        "\n",
        "# setting plot title, x and y labels\n",
        "plt.title(\"Close Price\")\n",
        "plt.xlabel('Date')\n",
        "plt.ylabel('Close Price ($)')"
      ],
      "execution_count": 23,
      "outputs": [
        {
          "output_type": "execute_result",
          "data": {
            "text/plain": [
              "Text(0, 0.5, 'Close Price ($)')"
            ]
          },
          "metadata": {
            "tags": []
          },
          "execution_count": 23
        },
        {
          "output_type": "display_data",
          "data": {
            "image/png": "[encoded data removed]",
            "text/plain": [
              "<Figure size 1152x720 with 1 Axes>"
            ]
          },
          "metadata": {
            "tags": [],
            "needs_background": "light"
          }
        }
      ]
    },
    {
      "cell_type": "code",
      "metadata": {
        "id": "ZQNy4k93JLve",
        "colab": {
          "base_uri": "https://localhost:8080/",
          "height": 700
        },
        "outputId": "386f8e8c-c725-40df-b49c-0aeb5451443a"
      },
      "source": [
        "# calculating 7 day rolling mean\n",
        "stock_data.rolling(7).mean().head(20)"
      ],
      "execution_count": 24,
      "outputs": [
        {
          "output_type": "execute_result",
          "data": {
            "text/html": [
              "<div>\n",
              "<style scoped>\n",
              "    .dataframe tbody tr th:only-of-type {\n",
              "        vertical-align: middle;\n",
              "    }\n",
              "\n",
              "    .dataframe tbody tr th {\n",
              "        vertical-align: top;\n",
              "    }\n",
              "\n",
              "    .dataframe thead th {\n",
              "        text-align: right;\n",
              "    }\n",
              "</style>\n",
              "<table border=\"1\" class=\"dataframe\">\n",
              "  <thead>\n",
              "    <tr style=\"text-align: right;\">\n",
              "      <th></th>\n",
              "      <th>Close</th>\n",
              "      <th>compound</th>\n",
              "      <th>negative</th>\n",
              "      <th>neutral</th>\n",
              "      <th>positive</th>\n",
              "      <th>Open</th>\n",
              "      <th>High</th>\n",
              "      <th>Low</th>\n",
              "      <th>Volume</th>\n",
              "    </tr>\n",
              "    <tr>\n",
              "      <th>Date</th>\n",
              "      <th></th>\n",
              "      <th></th>\n",
              "      <th></th>\n",
              "      <th></th>\n",
              "      <th></th>\n",
              "      <th></th>\n",
              "      <th></th>\n",
              "      <th></th>\n",
              "      <th></th>\n",
              "    </tr>\n",
              "  </thead>\n",
              "  <tbody>\n",
              "    <tr>\n",
              "      <th>2001-01-02</th>\n",
              "      <td>NaN</td>\n",
              "      <td>NaN</td>\n",
              "      <td>NaN</td>\n",
              "      <td>NaN</td>\n",
              "      <td>NaN</td>\n",
              "      <td>NaN</td>\n",
              "      <td>NaN</td>\n",
              "      <td>NaN</td>\n",
              "      <td>NaN</td>\n",
              "    </tr>\n",
              "    <tr>\n",
              "      <th>2001-01-03</th>\n",
              "      <td>NaN</td>\n",
              "      <td>NaN</td>\n",
              "      <td>NaN</td>\n",
              "      <td>NaN</td>\n",
              "      <td>NaN</td>\n",
              "      <td>NaN</td>\n",
              "      <td>NaN</td>\n",
              "      <td>NaN</td>\n",
              "      <td>NaN</td>\n",
              "    </tr>\n",
              "    <tr>\n",
              "      <th>2001-01-04</th>\n",
              "      <td>NaN</td>\n",
              "      <td>NaN</td>\n",
              "      <td>NaN</td>\n",
              "      <td>NaN</td>\n",
              "      <td>NaN</td>\n",
              "      <td>NaN</td>\n",
              "      <td>NaN</td>\n",
              "      <td>NaN</td>\n",
              "      <td>NaN</td>\n",
              "    </tr>\n",
              "    <tr>\n",
              "      <th>2001-01-05</th>\n",
              "      <td>NaN</td>\n",
              "      <td>NaN</td>\n",
              "      <td>NaN</td>\n",
              "      <td>NaN</td>\n",
              "      <td>NaN</td>\n",
              "      <td>NaN</td>\n",
              "      <td>NaN</td>\n",
              "      <td>NaN</td>\n",
              "      <td>NaN</td>\n",
              "    </tr>\n",
              "    <tr>\n",
              "      <th>2001-01-08</th>\n",
              "      <td>NaN</td>\n",
              "      <td>NaN</td>\n",
              "      <td>NaN</td>\n",
              "      <td>NaN</td>\n",
              "      <td>NaN</td>\n",
              "      <td>NaN</td>\n",
              "      <td>NaN</td>\n",
              "      <td>NaN</td>\n",
              "      <td>NaN</td>\n",
              "    </tr>\n",
              "    <tr>\n",
              "      <th>2001-01-09</th>\n",
              "      <td>NaN</td>\n",
              "      <td>NaN</td>\n",
              "      <td>NaN</td>\n",
              "      <td>NaN</td>\n",
              "      <td>NaN</td>\n",
              "      <td>NaN</td>\n",
              "      <td>NaN</td>\n",
              "      <td>NaN</td>\n",
              "      <td>NaN</td>\n",
              "    </tr>\n",
              "    <tr>\n",
              "      <th>2001-01-10</th>\n",
              "      <td>0.293368</td>\n",
              "      <td>-0.179071</td>\n",
              "      <td>0.121714</td>\n",
              "      <td>0.810429</td>\n",
              "      <td>0.067571</td>\n",
              "      <td>0.293088</td>\n",
              "      <td>0.304687</td>\n",
              "      <td>0.281728</td>\n",
              "      <td>566364000.0</td>\n",
              "    </tr>\n",
              "    <tr>\n",
              "      <th>2001-01-11</th>\n",
              "      <td>0.301340</td>\n",
              "      <td>-0.041629</td>\n",
              "      <td>0.117857</td>\n",
              "      <td>0.810286</td>\n",
              "      <td>0.071571</td>\n",
              "      <td>0.296596</td>\n",
              "      <td>0.312978</td>\n",
              "      <td>0.286033</td>\n",
              "      <td>616567200.0</td>\n",
              "    </tr>\n",
              "    <tr>\n",
              "      <th>2001-01-23</th>\n",
              "      <td>0.311862</td>\n",
              "      <td>0.000843</td>\n",
              "      <td>0.111000</td>\n",
              "      <td>0.818429</td>\n",
              "      <td>0.070429</td>\n",
              "      <td>0.308873</td>\n",
              "      <td>0.323820</td>\n",
              "      <td>0.297832</td>\n",
              "      <td>625489600.0</td>\n",
              "    </tr>\n",
              "    <tr>\n",
              "      <th>2001-01-24</th>\n",
              "      <td>0.320631</td>\n",
              "      <td>-0.223257</td>\n",
              "      <td>0.113714</td>\n",
              "      <td>0.821286</td>\n",
              "      <td>0.064714</td>\n",
              "      <td>0.315210</td>\n",
              "      <td>0.329400</td>\n",
              "      <td>0.304847</td>\n",
              "      <td>622303200.0</td>\n",
              "    </tr>\n",
              "    <tr>\n",
              "      <th>2001-01-25</th>\n",
              "      <td>0.329719</td>\n",
              "      <td>-0.493057</td>\n",
              "      <td>0.118286</td>\n",
              "      <td>0.827857</td>\n",
              "      <td>0.053571</td>\n",
              "      <td>0.324458</td>\n",
              "      <td>0.337532</td>\n",
              "      <td>0.314254</td>\n",
              "      <td>633353600.0</td>\n",
              "    </tr>\n",
              "    <tr>\n",
              "      <th>2001-01-26</th>\n",
              "      <td>0.337372</td>\n",
              "      <td>-0.227857</td>\n",
              "      <td>0.110714</td>\n",
              "      <td>0.822571</td>\n",
              "      <td>0.066429</td>\n",
              "      <td>0.330995</td>\n",
              "      <td>0.344747</td>\n",
              "      <td>0.322226</td>\n",
              "      <td>648942400.0</td>\n",
              "    </tr>\n",
              "    <tr>\n",
              "      <th>2001-01-29</th>\n",
              "      <td>0.348852</td>\n",
              "      <td>0.047229</td>\n",
              "      <td>0.099286</td>\n",
              "      <td>0.823571</td>\n",
              "      <td>0.077000</td>\n",
              "      <td>0.338010</td>\n",
              "      <td>0.355230</td>\n",
              "      <td>0.329879</td>\n",
              "      <td>687028000.0</td>\n",
              "    </tr>\n",
              "    <tr>\n",
              "      <th>2001-01-30</th>\n",
              "      <td>0.362085</td>\n",
              "      <td>0.006357</td>\n",
              "      <td>0.083571</td>\n",
              "      <td>0.828571</td>\n",
              "      <td>0.087714</td>\n",
              "      <td>0.350447</td>\n",
              "      <td>0.367985</td>\n",
              "      <td>0.342156</td>\n",
              "      <td>702976800.0</td>\n",
              "    </tr>\n",
              "    <tr>\n",
              "      <th>2001-01-31</th>\n",
              "      <td>0.371333</td>\n",
              "      <td>-0.073514</td>\n",
              "      <td>0.084286</td>\n",
              "      <td>0.832286</td>\n",
              "      <td>0.083286</td>\n",
              "      <td>0.363839</td>\n",
              "      <td>0.378189</td>\n",
              "      <td>0.355389</td>\n",
              "      <td>692544000.0</td>\n",
              "    </tr>\n",
              "    <tr>\n",
              "      <th>2001-02-01</th>\n",
              "      <td>0.372927</td>\n",
              "      <td>-0.324900</td>\n",
              "      <td>0.094286</td>\n",
              "      <td>0.825714</td>\n",
              "      <td>0.079857</td>\n",
              "      <td>0.367347</td>\n",
              "      <td>0.379624</td>\n",
              "      <td>0.359056</td>\n",
              "      <td>619710400.0</td>\n",
              "    </tr>\n",
              "    <tr>\n",
              "      <th>2001-02-02</th>\n",
              "      <td>0.373246</td>\n",
              "      <td>-0.057300</td>\n",
              "      <td>0.090286</td>\n",
              "      <td>0.804429</td>\n",
              "      <td>0.105286</td>\n",
              "      <td>0.368623</td>\n",
              "      <td>0.382813</td>\n",
              "      <td>0.361448</td>\n",
              "      <td>578317600.0</td>\n",
              "    </tr>\n",
              "    <tr>\n",
              "      <th>2001-02-05</th>\n",
              "      <td>0.373884</td>\n",
              "      <td>0.158714</td>\n",
              "      <td>0.087571</td>\n",
              "      <td>0.797000</td>\n",
              "      <td>0.115429</td>\n",
              "      <td>0.368463</td>\n",
              "      <td>0.382813</td>\n",
              "      <td>0.361448</td>\n",
              "      <td>549232800.0</td>\n",
              "    </tr>\n",
              "    <tr>\n",
              "      <th>2001-02-06</th>\n",
              "      <td>0.377870</td>\n",
              "      <td>0.140486</td>\n",
              "      <td>0.087286</td>\n",
              "      <td>0.799000</td>\n",
              "      <td>0.113714</td>\n",
              "      <td>0.370137</td>\n",
              "      <td>0.386838</td>\n",
              "      <td>0.363839</td>\n",
              "      <td>546360000.0</td>\n",
              "    </tr>\n",
              "    <tr>\n",
              "      <th>2001-02-07</th>\n",
              "      <td>0.375478</td>\n",
              "      <td>0.121786</td>\n",
              "      <td>0.090000</td>\n",
              "      <td>0.796714</td>\n",
              "      <td>0.113286</td>\n",
              "      <td>0.372927</td>\n",
              "      <td>0.384606</td>\n",
              "      <td>0.364477</td>\n",
              "      <td>480411200.0</td>\n",
              "    </tr>\n",
              "  </tbody>\n",
              "</table>\n",
              "</div>"
            ],
            "text/plain": [
              "               Close  compound  negative  ...      High       Low       Volume\n",
              "Date                                      ...                                 \n",
              "2001-01-02       NaN       NaN       NaN  ...       NaN       NaN          NaN\n",
              "2001-01-03       NaN       NaN       NaN  ...       NaN       NaN          NaN\n",
              "2001-01-04       NaN       NaN       NaN  ...       NaN       NaN          NaN\n",
              "2001-01-05       NaN       NaN       NaN  ...       NaN       NaN          NaN\n",
              "2001-01-08       NaN       NaN       NaN  ...       NaN       NaN          NaN\n",
              "2001-01-09       NaN       NaN       NaN  ...       NaN       NaN          NaN\n",
              "2001-01-10  0.293368 -0.179071  0.121714  ...  0.304687  0.281728  566364000.0\n",
              "2001-01-11  0.301340 -0.041629  0.117857  ...  0.312978  0.286033  616567200.0\n",
              "2001-01-23  0.311862  0.000843  0.111000  ...  0.323820  0.297832  625489600.0\n",
              "2001-01-24  0.320631 -0.223257  0.113714  ...  0.329400  0.304847  622303200.0\n",
              "2001-01-25  0.329719 -0.493057  0.118286  ...  0.337532  0.314254  633353600.0\n",
              "2001-01-26  0.337372 -0.227857  0.110714  ...  0.344747  0.322226  648942400.0\n",
              "2001-01-29  0.348852  0.047229  0.099286  ...  0.355230  0.329879  687028000.0\n",
              "2001-01-30  0.362085  0.006357  0.083571  ...  0.367985  0.342156  702976800.0\n",
              "2001-01-31  0.371333 -0.073514  0.084286  ...  0.378189  0.355389  692544000.0\n",
              "2001-02-01  0.372927 -0.324900  0.094286  ...  0.379624  0.359056  619710400.0\n",
              "2001-02-02  0.373246 -0.057300  0.090286  ...  0.382813  0.361448  578317600.0\n",
              "2001-02-05  0.373884  0.158714  0.087571  ...  0.382813  0.361448  549232800.0\n",
              "2001-02-06  0.377870  0.140486  0.087286  ...  0.386838  0.363839  546360000.0\n",
              "2001-02-07  0.375478  0.121786  0.090000  ...  0.384606  0.364477  480411200.0\n",
              "\n",
              "[20 rows x 9 columns]"
            ]
          },
          "metadata": {
            "tags": []
          },
          "execution_count": 24
        }
      ]
    },
    {
      "cell_type": "code",
      "metadata": {
        "id": "vmm9ItcpJLvf",
        "colab": {
          "base_uri": "https://localhost:8080/",
          "height": 623
        },
        "outputId": "23290864-3a6f-43b8-b4b8-81510acf91bd"
      },
      "source": [
        "# setting figure size\n",
        "plt.figure(figsize=(16,10))\n",
        "\n",
        "# plotting the close price and a 30-day rolling mean of close price\n",
        "stock_data['Close'].plot()\n",
        "stock_data.rolling(window=30).mean()['Close'].plot()"
      ],
      "execution_count": 25,
      "outputs": [
        {
          "output_type": "execute_result",
          "data": {
            "text/plain": [
              "<matplotlib.axes._subplots.AxesSubplot at 0x7f5ef6e9d0b8>"
            ]
          },
          "metadata": {
            "tags": []
          },
          "execution_count": 25
        },
        {
          "output_type": "display_data",
          "data": {
            "image/png": "[encoded data removed]",
            "text/plain": [
              "<Figure size 1152x720 with 1 Axes>"
            ]
          },
          "metadata": {
            "tags": [],
            "needs_background": "light"
          }
        }
      ]
    },
    {
      "cell_type": "code",
      "metadata": {
        "id": "xLqO6R5QJLvg",
        "colab": {
          "base_uri": "https://localhost:8080/",
          "height": 450
        },
        "outputId": "5e350525-1c53-4de0-ba2a-e378e95e3744"
      },
      "source": [
        "# displaying stock_data\n",
        "stock_data"
      ],
      "execution_count": 26,
      "outputs": [
        {
          "output_type": "execute_result",
          "data": {
            "text/html": [
              "<div>\n",
              "<style scoped>\n",
              "    .dataframe tbody tr th:only-of-type {\n",
              "        vertical-align: middle;\n",
              "    }\n",
              "\n",
              "    .dataframe tbody tr th {\n",
              "        vertical-align: top;\n",
              "    }\n",
              "\n",
              "    .dataframe thead th {\n",
              "        text-align: right;\n",
              "    }\n",
              "</style>\n",
              "<table border=\"1\" class=\"dataframe\">\n",
              "  <thead>\n",
              "    <tr style=\"text-align: right;\">\n",
              "      <th></th>\n",
              "      <th>Close</th>\n",
              "      <th>compound</th>\n",
              "      <th>negative</th>\n",
              "      <th>neutral</th>\n",
              "      <th>positive</th>\n",
              "      <th>Open</th>\n",
              "      <th>High</th>\n",
              "      <th>Low</th>\n",
              "      <th>Volume</th>\n",
              "    </tr>\n",
              "    <tr>\n",
              "      <th>Date</th>\n",
              "      <th></th>\n",
              "      <th></th>\n",
              "      <th></th>\n",
              "      <th></th>\n",
              "      <th></th>\n",
              "      <th></th>\n",
              "      <th></th>\n",
              "      <th></th>\n",
              "      <th></th>\n",
              "    </tr>\n",
              "  </thead>\n",
              "  <tbody>\n",
              "    <tr>\n",
              "      <th>2001-01-02</th>\n",
              "      <td>0.265625</td>\n",
              "      <td>-0.9621</td>\n",
              "      <td>0.119</td>\n",
              "      <td>0.817</td>\n",
              "      <td>0.064</td>\n",
              "      <td>0.265625</td>\n",
              "      <td>0.272321</td>\n",
              "      <td>0.260045</td>\n",
              "      <td>452312000.0</td>\n",
              "    </tr>\n",
              "    <tr>\n",
              "      <th>2001-01-03</th>\n",
              "      <td>0.292411</td>\n",
              "      <td>0.6322</td>\n",
              "      <td>0.084</td>\n",
              "      <td>0.817</td>\n",
              "      <td>0.098</td>\n",
              "      <td>0.258929</td>\n",
              "      <td>0.297991</td>\n",
              "      <td>0.257813</td>\n",
              "      <td>817073600.0</td>\n",
              "    </tr>\n",
              "    <tr>\n",
              "      <th>2001-01-04</th>\n",
              "      <td>0.304688</td>\n",
              "      <td>0.6648</td>\n",
              "      <td>0.077</td>\n",
              "      <td>0.843</td>\n",
              "      <td>0.080</td>\n",
              "      <td>0.323940</td>\n",
              "      <td>0.330357</td>\n",
              "      <td>0.300223</td>\n",
              "      <td>739396000.0</td>\n",
              "    </tr>\n",
              "    <tr>\n",
              "      <th>2001-01-05</th>\n",
              "      <td>0.292411</td>\n",
              "      <td>0.9032</td>\n",
              "      <td>0.105</td>\n",
              "      <td>0.746</td>\n",
              "      <td>0.149</td>\n",
              "      <td>0.302455</td>\n",
              "      <td>0.310268</td>\n",
              "      <td>0.286830</td>\n",
              "      <td>412356000.0</td>\n",
              "    </tr>\n",
              "    <tr>\n",
              "      <th>2001-01-08</th>\n",
              "      <td>0.295759</td>\n",
              "      <td>-0.9638</td>\n",
              "      <td>0.119</td>\n",
              "      <td>0.855</td>\n",
              "      <td>0.026</td>\n",
              "      <td>0.302455</td>\n",
              "      <td>0.303292</td>\n",
              "      <td>0.284598</td>\n",
              "      <td>373699200.0</td>\n",
              "    </tr>\n",
              "    <tr>\n",
              "      <th>...</th>\n",
              "      <td>...</td>\n",
              "      <td>...</td>\n",
              "      <td>...</td>\n",
              "      <td>...</td>\n",
              "      <td>...</td>\n",
              "      <td>...</td>\n",
              "      <td>...</td>\n",
              "      <td>...</td>\n",
              "      <td>...</td>\n",
              "    </tr>\n",
              "    <tr>\n",
              "      <th>2020-06-24</th>\n",
              "      <td>90.014999</td>\n",
              "      <td>-0.9997</td>\n",
              "      <td>0.115</td>\n",
              "      <td>0.811</td>\n",
              "      <td>0.074</td>\n",
              "      <td>91.250000</td>\n",
              "      <td>92.197502</td>\n",
              "      <td>89.629997</td>\n",
              "      <td>192623200.0</td>\n",
              "    </tr>\n",
              "    <tr>\n",
              "      <th>2020-06-25</th>\n",
              "      <td>91.209999</td>\n",
              "      <td>-0.9999</td>\n",
              "      <td>0.126</td>\n",
              "      <td>0.820</td>\n",
              "      <td>0.054</td>\n",
              "      <td>90.175003</td>\n",
              "      <td>91.250000</td>\n",
              "      <td>89.392502</td>\n",
              "      <td>137522400.0</td>\n",
              "    </tr>\n",
              "    <tr>\n",
              "      <th>2020-06-26</th>\n",
              "      <td>88.407501</td>\n",
              "      <td>-0.9999</td>\n",
              "      <td>0.149</td>\n",
              "      <td>0.766</td>\n",
              "      <td>0.085</td>\n",
              "      <td>91.102501</td>\n",
              "      <td>91.330002</td>\n",
              "      <td>88.254997</td>\n",
              "      <td>205256800.0</td>\n",
              "    </tr>\n",
              "    <tr>\n",
              "      <th>2020-06-29</th>\n",
              "      <td>90.445000</td>\n",
              "      <td>-0.9997</td>\n",
              "      <td>0.119</td>\n",
              "      <td>0.804</td>\n",
              "      <td>0.078</td>\n",
              "      <td>88.312500</td>\n",
              "      <td>90.542503</td>\n",
              "      <td>87.820000</td>\n",
              "      <td>130646000.0</td>\n",
              "    </tr>\n",
              "    <tr>\n",
              "      <th>2020-06-30</th>\n",
              "      <td>91.199997</td>\n",
              "      <td>-0.9998</td>\n",
              "      <td>0.115</td>\n",
              "      <td>0.821</td>\n",
              "      <td>0.064</td>\n",
              "      <td>90.019997</td>\n",
              "      <td>91.495003</td>\n",
              "      <td>90.000000</td>\n",
              "      <td>140223200.0</td>\n",
              "    </tr>\n",
              "  </tbody>\n",
              "</table>\n",
              "<p>4877 rows × 9 columns</p>\n",
              "</div>"
            ],
            "text/plain": [
              "                Close  compound  negative  ...       High        Low       Volume\n",
              "Date                                       ...                                   \n",
              "2001-01-02   0.265625   -0.9621     0.119  ...   0.272321   0.260045  452312000.0\n",
              "2001-01-03   0.292411    0.6322     0.084  ...   0.297991   0.257813  817073600.0\n",
              "2001-01-04   0.304688    0.6648     0.077  ...   0.330357   0.300223  739396000.0\n",
              "2001-01-05   0.292411    0.9032     0.105  ...   0.310268   0.286830  412356000.0\n",
              "2001-01-08   0.295759   -0.9638     0.119  ...   0.303292   0.284598  373699200.0\n",
              "...               ...       ...       ...  ...        ...        ...          ...\n",
              "2020-06-24  90.014999   -0.9997     0.115  ...  92.197502  89.629997  192623200.0\n",
              "2020-06-25  91.209999   -0.9999     0.126  ...  91.250000  89.392502  137522400.0\n",
              "2020-06-26  88.407501   -0.9999     0.149  ...  91.330002  88.254997  205256800.0\n",
              "2020-06-29  90.445000   -0.9997     0.119  ...  90.542503  87.820000  130646000.0\n",
              "2020-06-30  91.199997   -0.9998     0.115  ...  91.495003  90.000000  140223200.0\n",
              "\n",
              "[4877 rows x 9 columns]"
            ]
          },
          "metadata": {
            "tags": []
          },
          "execution_count": 26
        }
      ]
    },
    {
      "cell_type": "markdown",
      "metadata": {
        "id": "H4GO9AttJLvh"
      },
      "source": [
        "## Data Preparation for Modelling"
      ]
    },
    {
      "cell_type": "code",
      "metadata": {
        "id": "oc_04mD7JLvh",
        "colab": {
          "base_uri": "https://localhost:8080/"
        },
        "outputId": "855c087c-8d02-4b16-b521-025fda4c54c2"
      },
      "source": [
        "# calculating data_to_use\n",
        "percentage_of_data = 1.0\n",
        "data_to_use = int(percentage_of_data*(len(stock_data)-1))\n",
        "\n",
        "# using 80% of data for training\n",
        "train_end = int(data_to_use*0.8)\n",
        "total_data = len(stock_data)\n",
        "start = total_data - data_to_use\n",
        "\n",
        "# printing number of records in the training and test datasets\n",
        "print(\"Number of records in Training Data:\", train_end)\n",
        "print(\"Number of records in Test Data:\", total_data - train_end)"
      ],
      "execution_count": 27,
      "outputs": [
        {
          "output_type": "stream",
          "text": [
            "Number of records in Training Data: 3900\n",
            "Number of records in Test Data: 977\n"
          ],
          "name": "stdout"
        }
      ]
    },
    {
      "cell_type": "code",
      "metadata": {
        "id": "Jp4Og8ekJLvi",
        "scrolled": true,
        "colab": {
          "base_uri": "https://localhost:8080/"
        },
        "outputId": "e8cdd472-23a0-42d5-ceed-340c28e34b7f"
      },
      "source": [
        "# predicting one step ahead\n",
        "steps_to_predict = 1\n",
        "\n",
        "# capturing data to be used for each column\n",
        "close_price = stock_data.iloc[start:total_data,0] #close\n",
        "compound = stock_data.iloc[start:total_data,1] #compound\n",
        "negative = stock_data.iloc[start:total_data,2] #neg\n",
        "neutral = stock_data.iloc[start:total_data,3] #neu\n",
        "positive = stock_data.iloc[start:total_data,4] #pos\n",
        "open_price = stock_data.iloc[start:total_data,5] #open\n",
        "high = stock_data.iloc[start:total_data,6] #high\n",
        "low = stock_data.iloc[start:total_data,7] #low\n",
        "volume = stock_data.iloc[start:total_data,8] #volume\n",
        "\n",
        "# printing close price\n",
        "print(\"Close Price:\")\n",
        "close_price"
      ],
      "execution_count": 28,
      "outputs": [
        {
          "output_type": "stream",
          "text": [
            "Close Price:\n"
          ],
          "name": "stdout"
        },
        {
          "output_type": "execute_result",
          "data": {
            "text/plain": [
              "Date\n",
              "2001-01-03     0.292411\n",
              "2001-01-04     0.304688\n",
              "2001-01-05     0.292411\n",
              "2001-01-08     0.295759\n",
              "2001-01-09     0.306920\n",
              "                ...    \n",
              "2020-06-24    90.014999\n",
              "2020-06-25    91.209999\n",
              "2020-06-26    88.407501\n",
              "2020-06-29    90.445000\n",
              "2020-06-30    91.199997\n",
              "Name: Close, Length: 4876, dtype: float64"
            ]
          },
          "metadata": {
            "tags": []
          },
          "execution_count": 28
        }
      ]
    },
    {
      "cell_type": "code",
      "metadata": {
        "id": "A_SupEgOJLvj",
        "colab": {
          "base_uri": "https://localhost:8080/",
          "height": 390
        },
        "outputId": "e44f48c8-c26d-4f75-e9b5-5a595d1fc683"
      },
      "source": [
        "# shifting next day close\n",
        "close_price_shifted = close_price.shift(-1) \n",
        "\n",
        "# shifting next day compound\n",
        "compound_shifted = compound.shift(-1) \n",
        "\n",
        "# concatenating the captured training data into a dataframe\n",
        "data = pd.concat([close_price, close_price_shifted, compound, compound_shifted, volume, open_price, high, low], axis=1)\n",
        "\n",
        "# setting column names of the revised stock data\n",
        "data.columns = ['close_price', 'close_price_shifted', 'compound', 'compound_shifted','volume', 'open_price', 'high', 'low']\n",
        "\n",
        "# dropping nulls\n",
        "data = data.dropna()    \n",
        "data.head(10)"
      ],
      "execution_count": 29,
      "outputs": [
        {
          "output_type": "execute_result",
          "data": {
            "text/html": [
              "<div>\n",
              "<style scoped>\n",
              "    .dataframe tbody tr th:only-of-type {\n",
              "        vertical-align: middle;\n",
              "    }\n",
              "\n",
              "    .dataframe tbody tr th {\n",
              "        vertical-align: top;\n",
              "    }\n",
              "\n",
              "    .dataframe thead th {\n",
              "        text-align: right;\n",
              "    }\n",
              "</style>\n",
              "<table border=\"1\" class=\"dataframe\">\n",
              "  <thead>\n",
              "    <tr style=\"text-align: right;\">\n",
              "      <th></th>\n",
              "      <th>close_price</th>\n",
              "      <th>close_price_shifted</th>\n",
              "      <th>compound</th>\n",
              "      <th>compound_shifted</th>\n",
              "      <th>volume</th>\n",
              "      <th>open_price</th>\n",
              "      <th>high</th>\n",
              "      <th>low</th>\n",
              "    </tr>\n",
              "    <tr>\n",
              "      <th>Date</th>\n",
              "      <th></th>\n",
              "      <th></th>\n",
              "      <th></th>\n",
              "      <th></th>\n",
              "      <th></th>\n",
              "      <th></th>\n",
              "      <th></th>\n",
              "      <th></th>\n",
              "    </tr>\n",
              "  </thead>\n",
              "  <tbody>\n",
              "    <tr>\n",
              "      <th>2001-01-03</th>\n",
              "      <td>0.292411</td>\n",
              "      <td>0.304688</td>\n",
              "      <td>0.6322</td>\n",
              "      <td>0.6648</td>\n",
              "      <td>817073600.0</td>\n",
              "      <td>0.258929</td>\n",
              "      <td>0.297991</td>\n",
              "      <td>0.257813</td>\n",
              "    </tr>\n",
              "    <tr>\n",
              "      <th>2001-01-04</th>\n",
              "      <td>0.304688</td>\n",
              "      <td>0.292411</td>\n",
              "      <td>0.6648</td>\n",
              "      <td>0.9032</td>\n",
              "      <td>739396000.0</td>\n",
              "      <td>0.323940</td>\n",
              "      <td>0.330357</td>\n",
              "      <td>0.300223</td>\n",
              "    </tr>\n",
              "    <tr>\n",
              "      <th>2001-01-05</th>\n",
              "      <td>0.292411</td>\n",
              "      <td>0.295759</td>\n",
              "      <td>0.9032</td>\n",
              "      <td>-0.9638</td>\n",
              "      <td>412356000.0</td>\n",
              "      <td>0.302455</td>\n",
              "      <td>0.310268</td>\n",
              "      <td>0.286830</td>\n",
              "    </tr>\n",
              "    <tr>\n",
              "      <th>2001-01-08</th>\n",
              "      <td>0.295759</td>\n",
              "      <td>0.306920</td>\n",
              "      <td>-0.9638</td>\n",
              "      <td>-0.9559</td>\n",
              "      <td>373699200.0</td>\n",
              "      <td>0.302455</td>\n",
              "      <td>0.303292</td>\n",
              "      <td>0.284598</td>\n",
              "    </tr>\n",
              "    <tr>\n",
              "      <th>2001-01-09</th>\n",
              "      <td>0.306920</td>\n",
              "      <td>0.295759</td>\n",
              "      <td>-0.9559</td>\n",
              "      <td>-0.5719</td>\n",
              "      <td>588929600.0</td>\n",
              "      <td>0.300223</td>\n",
              "      <td>0.315011</td>\n",
              "      <td>0.295759</td>\n",
              "    </tr>\n",
              "    <tr>\n",
              "      <th>2001-01-10</th>\n",
              "      <td>0.295759</td>\n",
              "      <td>0.321429</td>\n",
              "      <td>-0.5719</td>\n",
              "      <td>0.0000</td>\n",
              "      <td>580781600.0</td>\n",
              "      <td>0.297991</td>\n",
              "      <td>0.303571</td>\n",
              "      <td>0.286830</td>\n",
              "    </tr>\n",
              "    <tr>\n",
              "      <th>2001-01-11</th>\n",
              "      <td>0.321429</td>\n",
              "      <td>0.366071</td>\n",
              "      <td>0.0000</td>\n",
              "      <td>0.9295</td>\n",
              "      <td>803734400.0</td>\n",
              "      <td>0.290179</td>\n",
              "      <td>0.330357</td>\n",
              "      <td>0.290179</td>\n",
              "    </tr>\n",
              "    <tr>\n",
              "      <th>2001-01-23</th>\n",
              "      <td>0.366071</td>\n",
              "      <td>0.366071</td>\n",
              "      <td>0.9295</td>\n",
              "      <td>-0.9039</td>\n",
              "      <td>879530400.0</td>\n",
              "      <td>0.344866</td>\n",
              "      <td>0.373884</td>\n",
              "      <td>0.340402</td>\n",
              "    </tr>\n",
              "    <tr>\n",
              "      <th>2001-01-24</th>\n",
              "      <td>0.366071</td>\n",
              "      <td>0.356027</td>\n",
              "      <td>-0.9039</td>\n",
              "      <td>-0.9854</td>\n",
              "      <td>717091200.0</td>\n",
              "      <td>0.368304</td>\n",
              "      <td>0.369420</td>\n",
              "      <td>0.349330</td>\n",
              "    </tr>\n",
              "    <tr>\n",
              "      <th>2001-01-25</th>\n",
              "      <td>0.356027</td>\n",
              "      <td>0.349330</td>\n",
              "      <td>-0.9854</td>\n",
              "      <td>0.8926</td>\n",
              "      <td>489708800.0</td>\n",
              "      <td>0.367188</td>\n",
              "      <td>0.367188</td>\n",
              "      <td>0.352679</td>\n",
              "    </tr>\n",
              "  </tbody>\n",
              "</table>\n",
              "</div>"
            ],
            "text/plain": [
              "            close_price  close_price_shifted  ...      high       low\n",
              "Date                                          ...                    \n",
              "2001-01-03     0.292411             0.304688  ...  0.297991  0.257813\n",
              "2001-01-04     0.304688             0.292411  ...  0.330357  0.300223\n",
              "2001-01-05     0.292411             0.295759  ...  0.310268  0.286830\n",
              "2001-01-08     0.295759             0.306920  ...  0.303292  0.284598\n",
              "2001-01-09     0.306920             0.295759  ...  0.315011  0.295759\n",
              "2001-01-10     0.295759             0.321429  ...  0.303571  0.286830\n",
              "2001-01-11     0.321429             0.366071  ...  0.330357  0.290179\n",
              "2001-01-23     0.366071             0.366071  ...  0.373884  0.340402\n",
              "2001-01-24     0.366071             0.356027  ...  0.369420  0.349330\n",
              "2001-01-25     0.356027             0.349330  ...  0.367188  0.352679\n",
              "\n",
              "[10 rows x 8 columns]"
            ]
          },
          "metadata": {
            "tags": []
          },
          "execution_count": 29
        }
      ]
    },
    {
      "cell_type": "markdown",
      "metadata": {
        "id": "rS1PEq0cJLvk"
      },
      "source": [
        "## Setting the Target Variable and the Feature Dataset"
      ]
    },
    {
      "cell_type": "code",
      "metadata": {
        "id": "78-MoKeOJLvk",
        "colab": {
          "base_uri": "https://localhost:8080/"
        },
        "outputId": "5cd38bd3-5c20-4e85-a9a0-c1b646e710f1"
      },
      "source": [
        "# setting the target variable as the shifted close_price\n",
        "y = data['close_price_shifted']\n",
        "y"
      ],
      "execution_count": 30,
      "outputs": [
        {
          "output_type": "execute_result",
          "data": {
            "text/plain": [
              "Date\n",
              "2001-01-03     0.304688\n",
              "2001-01-04     0.292411\n",
              "2001-01-05     0.295759\n",
              "2001-01-08     0.306920\n",
              "2001-01-09     0.295759\n",
              "                ...    \n",
              "2020-06-23    90.014999\n",
              "2020-06-24    91.209999\n",
              "2020-06-25    88.407501\n",
              "2020-06-26    90.445000\n",
              "2020-06-29    91.199997\n",
              "Name: close_price_shifted, Length: 4875, dtype: float64"
            ]
          },
          "metadata": {
            "tags": []
          },
          "execution_count": 30
        }
      ]
    },
    {
      "cell_type": "code",
      "metadata": {
        "id": "Iz0GDUWLJLvl",
        "colab": {
          "base_uri": "https://localhost:8080/",
          "height": 450
        },
        "outputId": "7f10dd7e-3ed8-4a3a-fe09-ef7f31372f16"
      },
      "source": [
        "# setting the features dataset for prediction  \n",
        "cols = ['close_price', 'compound', 'compound_shifted', 'volume', 'open_price', 'high', 'low']\n",
        "x = data[cols]\n",
        "x"
      ],
      "execution_count": 31,
      "outputs": [
        {
          "output_type": "execute_result",
          "data": {
            "text/html": [
              "<div>\n",
              "<style scoped>\n",
              "    .dataframe tbody tr th:only-of-type {\n",
              "        vertical-align: middle;\n",
              "    }\n",
              "\n",
              "    .dataframe tbody tr th {\n",
              "        vertical-align: top;\n",
              "    }\n",
              "\n",
              "    .dataframe thead th {\n",
              "        text-align: right;\n",
              "    }\n",
              "</style>\n",
              "<table border=\"1\" class=\"dataframe\">\n",
              "  <thead>\n",
              "    <tr style=\"text-align: right;\">\n",
              "      <th></th>\n",
              "      <th>close_price</th>\n",
              "      <th>compound</th>\n",
              "      <th>compound_shifted</th>\n",
              "      <th>volume</th>\n",
              "      <th>open_price</th>\n",
              "      <th>high</th>\n",
              "      <th>low</th>\n",
              "    </tr>\n",
              "    <tr>\n",
              "      <th>Date</th>\n",
              "      <th></th>\n",
              "      <th></th>\n",
              "      <th></th>\n",
              "      <th></th>\n",
              "      <th></th>\n",
              "      <th></th>\n",
              "      <th></th>\n",
              "    </tr>\n",
              "  </thead>\n",
              "  <tbody>\n",
              "    <tr>\n",
              "      <th>2001-01-03</th>\n",
              "      <td>0.292411</td>\n",
              "      <td>0.6322</td>\n",
              "      <td>0.6648</td>\n",
              "      <td>817073600.0</td>\n",
              "      <td>0.258929</td>\n",
              "      <td>0.297991</td>\n",
              "      <td>0.257813</td>\n",
              "    </tr>\n",
              "    <tr>\n",
              "      <th>2001-01-04</th>\n",
              "      <td>0.304688</td>\n",
              "      <td>0.6648</td>\n",
              "      <td>0.9032</td>\n",
              "      <td>739396000.0</td>\n",
              "      <td>0.323940</td>\n",
              "      <td>0.330357</td>\n",
              "      <td>0.300223</td>\n",
              "    </tr>\n",
              "    <tr>\n",
              "      <th>2001-01-05</th>\n",
              "      <td>0.292411</td>\n",
              "      <td>0.9032</td>\n",
              "      <td>-0.9638</td>\n",
              "      <td>412356000.0</td>\n",
              "      <td>0.302455</td>\n",
              "      <td>0.310268</td>\n",
              "      <td>0.286830</td>\n",
              "    </tr>\n",
              "    <tr>\n",
              "      <th>2001-01-08</th>\n",
              "      <td>0.295759</td>\n",
              "      <td>-0.9638</td>\n",
              "      <td>-0.9559</td>\n",
              "      <td>373699200.0</td>\n",
              "      <td>0.302455</td>\n",
              "      <td>0.303292</td>\n",
              "      <td>0.284598</td>\n",
              "    </tr>\n",
              "    <tr>\n",
              "      <th>2001-01-09</th>\n",
              "      <td>0.306920</td>\n",
              "      <td>-0.9559</td>\n",
              "      <td>-0.5719</td>\n",
              "      <td>588929600.0</td>\n",
              "      <td>0.300223</td>\n",
              "      <td>0.315011</td>\n",
              "      <td>0.295759</td>\n",
              "    </tr>\n",
              "    <tr>\n",
              "      <th>...</th>\n",
              "      <td>...</td>\n",
              "      <td>...</td>\n",
              "      <td>...</td>\n",
              "      <td>...</td>\n",
              "      <td>...</td>\n",
              "      <td>...</td>\n",
              "      <td>...</td>\n",
              "    </tr>\n",
              "    <tr>\n",
              "      <th>2020-06-23</th>\n",
              "      <td>91.632500</td>\n",
              "      <td>-0.9999</td>\n",
              "      <td>-0.9997</td>\n",
              "      <td>212155600.0</td>\n",
              "      <td>91.000000</td>\n",
              "      <td>93.095001</td>\n",
              "      <td>90.567497</td>\n",
              "    </tr>\n",
              "    <tr>\n",
              "      <th>2020-06-24</th>\n",
              "      <td>90.014999</td>\n",
              "      <td>-0.9997</td>\n",
              "      <td>-0.9999</td>\n",
              "      <td>192623200.0</td>\n",
              "      <td>91.250000</td>\n",
              "      <td>92.197502</td>\n",
              "      <td>89.629997</td>\n",
              "    </tr>\n",
              "    <tr>\n",
              "      <th>2020-06-25</th>\n",
              "      <td>91.209999</td>\n",
              "      <td>-0.9999</td>\n",
              "      <td>-0.9999</td>\n",
              "      <td>137522400.0</td>\n",
              "      <td>90.175003</td>\n",
              "      <td>91.250000</td>\n",
              "      <td>89.392502</td>\n",
              "    </tr>\n",
              "    <tr>\n",
              "      <th>2020-06-26</th>\n",
              "      <td>88.407501</td>\n",
              "      <td>-0.9999</td>\n",
              "      <td>-0.9997</td>\n",
              "      <td>205256800.0</td>\n",
              "      <td>91.102501</td>\n",
              "      <td>91.330002</td>\n",
              "      <td>88.254997</td>\n",
              "    </tr>\n",
              "    <tr>\n",
              "      <th>2020-06-29</th>\n",
              "      <td>90.445000</td>\n",
              "      <td>-0.9997</td>\n",
              "      <td>-0.9998</td>\n",
              "      <td>130646000.0</td>\n",
              "      <td>88.312500</td>\n",
              "      <td>90.542503</td>\n",
              "      <td>87.820000</td>\n",
              "    </tr>\n",
              "  </tbody>\n",
              "</table>\n",
              "<p>4875 rows × 7 columns</p>\n",
              "</div>"
            ],
            "text/plain": [
              "            close_price  compound  ...       high        low\n",
              "Date                               ...                      \n",
              "2001-01-03     0.292411    0.6322  ...   0.297991   0.257813\n",
              "2001-01-04     0.304688    0.6648  ...   0.330357   0.300223\n",
              "2001-01-05     0.292411    0.9032  ...   0.310268   0.286830\n",
              "2001-01-08     0.295759   -0.9638  ...   0.303292   0.284598\n",
              "2001-01-09     0.306920   -0.9559  ...   0.315011   0.295759\n",
              "...                 ...       ...  ...        ...        ...\n",
              "2020-06-23    91.632500   -0.9999  ...  93.095001  90.567497\n",
              "2020-06-24    90.014999   -0.9997  ...  92.197502  89.629997\n",
              "2020-06-25    91.209999   -0.9999  ...  91.250000  89.392502\n",
              "2020-06-26    88.407501   -0.9999  ...  91.330002  88.254997\n",
              "2020-06-29    90.445000   -0.9997  ...  90.542503  87.820000\n",
              "\n",
              "[4875 rows x 7 columns]"
            ]
          },
          "metadata": {
            "tags": []
          },
          "execution_count": 31
        }
      ]
    },
    {
      "cell_type": "markdown",
      "metadata": {
        "id": "8ybPJg5mJLvm"
      },
      "source": [
        "### Scaling the Target Variable and the Feature Dataset\n",
        "Since we are using LSTM to predict stock prices, which is a time series data, it is important to understand that LSTM can be very sensitive to the scale of the data. Right now, if the data is observed, it is present in different scales. Therefore, it is important to re-scale the data so that the range of the dataset is same, for almost all records. Here a feature range of (-1,1) is used."
      ]
    },
    {
      "cell_type": "code",
      "metadata": {
        "id": "QM82eTr7JLvm",
        "colab": {
          "base_uri": "https://localhost:8080/"
        },
        "outputId": "2e93a7af-d9a0-484c-a7a4-38306e7c9019"
      },
      "source": [
        "# scaling the feature dataset\n",
        "scaler_x = preprocessing.MinMaxScaler (feature_range=(-1, 1))\n",
        "x = np.array(x).reshape((len(x) ,len(cols)))\n",
        "x = scaler_x.fit_transform(x)\n",
        "\n",
        "# scaling the target variable\n",
        "scaler_y = preprocessing.MinMaxScaler (feature_range=(-1, 1))\n",
        "y = np.array (y).reshape ((len( y), 1))\n",
        "y = scaler_y.fit_transform (y)\n",
        "\n",
        "# displaying the scaled feature dataset and the target variable\n",
        "x, y"
      ],
      "execution_count": 32,
      "outputs": [
        {
          "output_type": "execute_result",
          "data": {
            "text/plain": [
              "(array([[-0.99872809,  0.6322    ,  0.6648    , ..., -0.99940748,\n",
              "         -0.99865485, -0.99932101],\n",
              "        [-0.99845944,  0.6648    ,  0.9032    , ..., -0.99797895,\n",
              "         -0.99795775, -0.99838212],\n",
              "        [-0.99872809,  0.9032    , -0.9638    , ..., -0.99845105,\n",
              "         -0.99839043, -0.99867862],\n",
              "        ...,\n",
              "        [ 0.99075472, -0.9999    , -0.9999    , ...,  0.97637837,\n",
              "          0.96026251,  0.97398737],\n",
              "        [ 0.92942972, -0.9999    , -0.9997    , ...,  0.99675891,\n",
              "          0.96198559,  0.94880472],\n",
              "        [ 0.97401481, -0.9997    , -0.9998    , ...,  0.93545235,\n",
              "          0.94502449,  0.93917454]]), array([[-0.99845944],\n",
              "        [-0.99872809],\n",
              "        [-0.99865483],\n",
              "        ...,\n",
              "        [ 0.92942972],\n",
              "        [ 0.97401481],\n",
              "        [ 0.99053585]]))"
            ]
          },
          "metadata": {
            "tags": []
          },
          "execution_count": 32
        }
      ]
    },
    {
      "cell_type": "markdown",
      "metadata": {
        "id": "ZyRnZIm4JLvn"
      },
      "source": [
        "### Dividing the dataset into Training and Test\n",
        "Normally for any other dataset train_test_split from sklearn package is used, but for time series data like stock prices which is dependent on date, the dataset is divided into train and test dataset in a different way as shown below. In timeseries data, an observation for a particular date is always dependent on the previous date records."
      ]
    },
    {
      "cell_type": "code",
      "metadata": {
        "id": "98N3UXEkJLvo",
        "colab": {
          "base_uri": "https://localhost:8080/"
        },
        "outputId": "5318b240-ac0b-4299-be45-bc39af6021aa"
      },
      "source": [
        "# preparing training and test dataset\n",
        "X_train = x[0 : train_end,]\n",
        "X_test = x[train_end+1 : len(x),]    \n",
        "y_train = y[0 : train_end] \n",
        "y_test = y[train_end+1 : len(y)]  \n",
        "\n",
        "# printing the shape of the training and the test datasets\n",
        "print('Number of rows and columns in the Training set X:', X_train.shape, 'and y:', y_train.shape)\n",
        "print('Number of rows and columns in the Test set X:', X_test.shape, 'and y:', y_test.shape)"
      ],
      "execution_count": 33,
      "outputs": [
        {
          "output_type": "stream",
          "text": [
            "Number of rows and columns in the Training set X: (3900, 7) and y: (3900, 1)\n",
            "Number of rows and columns in the Test set X: (974, 7) and y: (974, 1)\n"
          ],
          "name": "stdout"
        }
      ]
    },
    {
      "cell_type": "markdown",
      "metadata": {
        "id": "nZjYzGf5JLvp"
      },
      "source": [
        "### Reshaping the Feature Dataset"
      ]
    },
    {
      "cell_type": "code",
      "metadata": {
        "id": "fOc0VuU5JLvq",
        "colab": {
          "base_uri": "https://localhost:8080/"
        },
        "outputId": "f41a3131-9bba-4c5d-be36-847d81c0a6f0"
      },
      "source": [
        "# reshaping the feature dataset for feeding into the model\n",
        "X_train = X_train.reshape (X_train.shape + (1,)) \n",
        "X_test = X_test.reshape(X_test.shape + (1,))\n",
        "\n",
        "# printing the re-shaped feature dataset\n",
        "print('Shape of Training set X:', X_train.shape)\n",
        "print('Shape of Test set X:', X_test.shape)"
      ],
      "execution_count": 34,
      "outputs": [
        {
          "output_type": "stream",
          "text": [
            "Shape of Training set X: (3900, 7, 1)\n",
            "Shape of Test set X: (974, 7, 1)\n"
          ],
          "name": "stdout"
        }
      ]
    },
    {
      "cell_type": "markdown",
      "metadata": {
        "id": "1henN870JLvq"
      },
      "source": [
        "## Stock Data Modelling"
      ]
    },
    {
      "cell_type": "code",
      "metadata": {
        "id": "mW9R0-mdJLvr",
        "scrolled": false,
        "colab": {
          "base_uri": "https://localhost:8080/"
        },
        "outputId": "a76892a8-8ad1-4246-e4a7-4e53513a4528"
      },
      "source": [
        "# setting the seed to achieve consistent and less random predictions at each execution\n",
        "np.random.seed(2016)\n",
        "\n",
        "# setting the model architecture\n",
        "model=Sequential()\n",
        "model.add(LSTM(100,return_sequences=True,activation='tanh',input_shape=(len(cols),1)))\n",
        "model.add(Dropout(0.1))\n",
        "model.add(LSTM(100,return_sequences=True,activation='tanh'))\n",
        "model.add(Dropout(0.1))\n",
        "model.add(LSTM(100,activation='tanh'))\n",
        "model.add(Dropout(0.1))\n",
        "model.add(Dense(1))\n",
        "\n",
        "# printing the model summary\n",
        "model.summary()"
      ],
      "execution_count": 35,
      "outputs": [
        {
          "output_type": "stream",
          "text": [
            "Model: \"sequential\"\n",
            "_________________________________________________________________\n",
            "Layer (type)                 Output Shape              Param #   \n",
            "=================================================================\n",
            "lstm (LSTM)                  (None, 7, 100)            40800     \n",
            "_________________________________________________________________\n",
            "dropout (Dropout)            (None, 7, 100)            0         \n",
            "_________________________________________________________________\n",
            "lstm_1 (LSTM)                (None, 7, 100)            80400     \n",
            "_________________________________________________________________\n",
            "dropout_1 (Dropout)          (None, 7, 100)            0         \n",
            "_________________________________________________________________\n",
            "lstm_2 (LSTM)                (None, 100)               80400     \n",
            "_________________________________________________________________\n",
            "dropout_2 (Dropout)          (None, 100)               0         \n",
            "_________________________________________________________________\n",
            "dense (Dense)                (None, 1)                 101       \n",
            "=================================================================\n",
            "Total params: 201,701\n",
            "Trainable params: 201,701\n",
            "Non-trainable params: 0\n",
            "_________________________________________________________________\n"
          ],
          "name": "stdout"
        }
      ]
    },
    {
      "cell_type": "code",
      "metadata": {
        "id": "7GHFuyBjJLvr",
        "colab": {
          "base_uri": "https://localhost:8080/"
        },
        "outputId": "ca891ad6-939d-4781-f543-d06bee44b6fa"
      },
      "source": [
        "# compiling the model\n",
        "model.compile(loss='mse' , optimizer='adam')\n",
        "\n",
        "# fitting the model using the training dataset\n",
        "model.fit(X_train, y_train, validation_split=0.2, epochs=10, batch_size=8, verbose=1)"
      ],
      "execution_count": 36,
      "outputs": [
        {
          "output_type": "stream",
          "text": [
            "Epoch 1/10\n",
            "390/390 [==============================] - 11s 18ms/step - loss: 0.0719 - val_loss: 0.2120\n",
            "Epoch 2/10\n",
            "390/390 [==============================] - 6s 14ms/step - loss: 0.0163 - val_loss: 0.0083\n",
            "Epoch 3/10\n",
            "390/390 [==============================] - 5s 14ms/step - loss: 0.0027 - val_loss: 0.0010\n",
            "Epoch 4/10\n",
            "390/390 [==============================] - 6s 14ms/step - loss: 0.0020 - val_loss: 2.8500e-04\n",
            "Epoch 5/10\n",
            "390/390 [==============================] - 6s 14ms/step - loss: 0.0022 - val_loss: 8.3367e-04\n",
            "Epoch 6/10\n",
            "390/390 [==============================] - 6s 14ms/step - loss: 0.0016 - val_loss: 3.1824e-04\n",
            "Epoch 7/10\n",
            "390/390 [==============================] - 6s 14ms/step - loss: 0.0015 - val_loss: 3.5336e-04\n",
            "Epoch 8/10\n",
            "390/390 [==============================] - 6s 14ms/step - loss: 0.0014 - val_loss: 7.0843e-04\n",
            "Epoch 9/10\n",
            "390/390 [==============================] - 6s 14ms/step - loss: 0.0013 - val_loss: 9.2271e-04\n",
            "Epoch 10/10\n",
            "390/390 [==============================] - 6s 14ms/step - loss: 0.0012 - val_loss: 4.1808e-04\n"
          ],
          "name": "stdout"
        },
        {
          "output_type": "execute_result",
          "data": {
            "text/plain": [
              "<tensorflow.python.keras.callbacks.History at 0x7f5ef27b7d30>"
            ]
          },
          "metadata": {
            "tags": []
          },
          "execution_count": 36
        }
      ]
    },
    {
      "cell_type": "markdown",
      "metadata": {
        "id": "mLG2SVjRJLvs"
      },
      "source": [
        "### Saving the Model to disk"
      ]
    },
    {
      "cell_type": "code",
      "metadata": {
        "id": "-z2yXx69JLvt",
        "colab": {
          "base_uri": "https://localhost:8080/"
        },
        "outputId": "96b5d964-9f3e-4b17-ac87-8fa054eb60f5"
      },
      "source": [
        "# saving the model as a json file\n",
        "model_json = model.to_json()\n",
        "with open('model.json', 'w') as json_file:\n",
        "    json_file.write(model_json)\n",
        "    \n",
        "# serialize weights to HDF5\n",
        "model.save_weights('model.h5')\n",
        "print('Model is saved to the disk')"
      ],
      "execution_count": 37,
      "outputs": [
        {
          "output_type": "stream",
          "text": [
            "Model is saved to the disk\n"
          ],
          "name": "stdout"
        }
      ]
    },
    {
      "cell_type": "markdown",
      "metadata": {
        "id": "rcMA__BmJLvt"
      },
      "source": [
        "## Predictions"
      ]
    },
    {
      "cell_type": "code",
      "metadata": {
        "id": "4ie8iP18JLvu",
        "colab": {
          "base_uri": "https://localhost:8080/"
        },
        "outputId": "3f9845c4-8d93-4244-e846-81b64d97e6ba"
      },
      "source": [
        "# performing predictions\n",
        "predictions = model.predict(X_test) \n",
        "\n",
        "# unscaling the predictions\n",
        "predictions = scaler_y.inverse_transform(np.array(predictions).reshape((len(predictions), 1)))\n",
        "\n",
        "# printing the predictions\n",
        "print('Predictions:')\n",
        "predictions[0:5]"
      ],
      "execution_count": 38,
      "outputs": [
        {
          "output_type": "stream",
          "text": [
            "Predictions:\n"
          ],
          "name": "stdout"
        },
        {
          "output_type": "execute_result",
          "data": {
            "text/plain": [
              "array([[28.220055],\n",
              "       [28.057697],\n",
              "       [28.14941 ],\n",
              "       [28.075562],\n",
              "       [27.96643 ]], dtype=float32)"
            ]
          },
          "metadata": {
            "tags": []
          },
          "execution_count": 38
        }
      ]
    },
    {
      "cell_type": "markdown",
      "metadata": {
        "id": "1q_oA1PBJLvu"
      },
      "source": [
        "## Model Evaluation"
      ]
    },
    {
      "cell_type": "code",
      "metadata": {
        "id": "FVe5nuWPJLvv",
        "scrolled": true,
        "colab": {
          "base_uri": "https://localhost:8080/"
        },
        "outputId": "1c4c9aea-4f7a-4c30-b4ec-6933093447b7"
      },
      "source": [
        "# calculating the training mean-squared-error\n",
        "train_loss = model.evaluate(X_train, y_train, batch_size = 1)\n",
        "\n",
        "# calculating the test mean-squared-error\n",
        "test_loss = model.evaluate(X_test, y_test, batch_size = 1)\n",
        "\n",
        "# printing the training and the test mean-squared-errors\n",
        "print('Train Loss =', round(train_loss,4))\n",
        "print('Test Loss =', round(test_loss,4))"
      ],
      "execution_count": 39,
      "outputs": [
        {
          "output_type": "stream",
          "text": [
            "3900/3900 [==============================] - 12s 3ms/step - loss: 4.2743e-04\n",
            "974/974 [==============================] - 3s 3ms/step - loss: 0.0022\n",
            "Train Loss = 0.0004\n",
            "Test Loss = 0.0022\n"
          ],
          "name": "stdout"
        }
      ]
    },
    {
      "cell_type": "code",
      "metadata": {
        "id": "WKga_8ObJLvw",
        "colab": {
          "base_uri": "https://localhost:8080/"
        },
        "outputId": "c5f95175-715a-491c-bd08-c431ff42c1dd"
      },
      "source": [
        "# calculating root mean squared error\n",
        "root_mean_square_error = np.sqrt(np.mean(np.power((y_test - predictions),2)))\n",
        "print('Root Mean Square Error =', round(root_mean_square_error,4))"
      ],
      "execution_count": 40,
      "outputs": [
        {
          "output_type": "stream",
          "text": [
            "Root Mean Square Error = 50.9163\n"
          ],
          "name": "stdout"
        }
      ]
    },
    {
      "cell_type": "code",
      "metadata": {
        "id": "t0ntFbCaJLvw",
        "colab": {
          "base_uri": "https://localhost:8080/"
        },
        "outputId": "4f51e10a-93a2-48b6-c76c-e73646558ec4"
      },
      "source": [
        "# calculating root mean squared error using sklearn.metrics package\n",
        "rmse = metrics.mean_squared_error(y_test, predictions)\n",
        "print('Root Mean Square Error (sklearn.metrics) =', round(np.sqrt(rmse),4))"
      ],
      "execution_count": 41,
      "outputs": [
        {
          "output_type": "stream",
          "text": [
            "Root Mean Square Error (sklearn.metrics) = 50.9163\n"
          ],
          "name": "stdout"
        }
      ]
    },
    {
      "cell_type": "markdown",
      "metadata": {
        "id": "bJREuFeUJLvx"
      },
      "source": [
        "## Plotting the Predictions against unseen data"
      ]
    },
    {
      "cell_type": "code",
      "metadata": {
        "id": "tcDC4C0AJLvx"
      },
      "source": [
        "# unscaling the test feature dataset, x_test\n",
        "X_test = scaler_x.inverse_transform(np.array(X_test).reshape((len(X_test), len(cols))))\n",
        "\n",
        "# unscaling the test y dataset, y_test\n",
        "y_train = scaler_y.inverse_transform(np.array(y_train).reshape((len(y_train), 1)))\n",
        "y_test = scaler_y.inverse_transform(np.array(y_test).reshape((len(y_test), 1)))"
      ],
      "execution_count": 42,
      "outputs": []
    },
    {
      "cell_type": "code",
      "metadata": {
        "id": "ueGq8ILJJLvy",
        "colab": {
          "base_uri": "https://localhost:8080/",
          "height": 625
        },
        "outputId": "ce686564-4202-4415-9f0f-0ec9c81ca22b"
      },
      "source": [
        "# plotting\n",
        "plt.figure(figsize=(16,10))\n",
        "\n",
        "# plt.plot([row[0] for row in y_train], label=\"Training Close Price\")\n",
        "plt.plot(predictions, label=\"Predicted Close Price\")\n",
        "plt.plot([row[0] for row in y_test], label=\"Testing Close Price\")\n",
        "plt.legend(loc='upper center', bbox_to_anchor=(0.5, -0.05), fancybox=True, shadow=True, ncol=2)\n",
        "plt.show()"
      ],
      "execution_count": 43,
      "outputs": [
        {
          "output_type": "display_data",
          "data": {
            "image/png": "[encoded data removed]",
            "text/plain": [
              "<Figure size 1152x720 with 1 Axes>"
            ]
          },
          "metadata": {
            "tags": [],
            "needs_background": "light"
          }
        }
      ]
    }
  ]
}